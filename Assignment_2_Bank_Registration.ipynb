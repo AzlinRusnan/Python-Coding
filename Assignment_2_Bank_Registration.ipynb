{
  "nbformat": 4,
  "nbformat_minor": 0,
  "metadata": {
    "colab": {
      "provenance": [],
      "authorship_tag": "ABX9TyMDzh58jS4vZ/PoV+jwmtcT",
      "include_colab_link": true
    },
    "kernelspec": {
      "name": "python3",
      "display_name": "Python 3"
    },
    "language_info": {
      "name": "python"
    }
  },
  "cells": [
    {
      "cell_type": "markdown",
      "metadata": {
        "id": "view-in-github",
        "colab_type": "text"
      },
      "source": [
        "<a href=\"https://colab.research.google.com/github/AzlinRusnan/Python-Coding/blob/main/Assignment_2_Bank_Registration.ipynb\" target=\"_parent\"><img src=\"https://colab.research.google.com/assets/colab-badge.svg\" alt=\"Open In Colab\"/></a>"
      ]
    },
    {
      "cell_type": "code",
      "execution_count": null,
      "metadata": {
        "id": "zc5YfhGszxWF"
      },
      "outputs": [],
      "source": [
        "#Task Overview:\n",
        "#For this assignment, you are required to use class and save it as a module. Your task involves\n",
        "#creating a class to register a bank account with the following specifications:\n",
        "#1. Class Creation:\n",
        "#• Write a class to register a bank account.\n",
        "#• The class should include attributes for the username, full name, IC number, city, and telephone number.\n",
        "#• The class needs to record the initial savings for that account, with a minimum balance requirement of RM20.\n",
        "#• The class should include various methods, such as functions for depositing money, withdrawing money, checking the balance, and closing the account. Please ensure that\n",
        "#the minimum balance requirement is enforced when a user attempts to withdraw money."
      ]
    },
    {
      "cell_type": "code",
      "source": [
        "class AccountRegistration():\n",
        "    \"\"\"Initiation for a bank account registration\"\"\"\n",
        "    def __init__(self, username, full_name, ic_number, city, phone_number, initial_savings):\n",
        "        \"\"\"Requirement for account registration\"\"\"\n",
        "        self.username = username\n",
        "        self.full_name = full_name\n",
        "        self.ic_number = ic_number\n",
        "        self.city = city\n",
        "        self.phone_number = phone_number\n",
        "        self.balance = max(initial_savings,20) # Minimum balance requirement is RM20\n",
        "\n",
        "    def deposit(self, amount):\n",
        "        \"\"\"Depositing money\"\"\"\n",
        "        if amount > 0:\n",
        "            self.balance += amount\n",
        "            print(\"Deposited RM\" + str(amount) + \".\" + \" New balance: RM\" + str(self.balance) )\n",
        "        else:\n",
        "            print(\"Invalid deposit amount. \")\n",
        "\n",
        "    def withdraw(self, amount):\n",
        "        if amount > 0:\n",
        "            if self.balance - amount >= 20:  # Check minimum balance requirement\n",
        "                self.balance -= amount\n",
        "                print(\"Withdrawn RM\" + str(amount) + \"New balance: RM\" + str(self.balance))\n",
        "            else:\n",
        "                print(\"Insufficient funds. Minimum balance of RM20 must be maintained.\")\n",
        "        else:\n",
        "            print(\"Invalid withdrawal amount.\")\n",
        "\n",
        "    def check_balance(self):\n",
        "        print(\"Current balance: RM\" + str(self.balance))\n",
        "\n",
        "    def close_account(self):\n",
        "        print(\"Account for \" + self.full_name + \" is closed. Remaining balance is RM\" + str(self.balance))\n",
        "\n",
        "\n",
        "\n",
        "regular_account = AccountRegistration(\"azlin_rusnan\", \"Azlin Rusnan\", \"91051414676\", \"0196354847\", \"Sepang\", 100)\n",
        "regular_account.deposit(50)\n",
        "regular_account.withdraw(30)\n",
        "regular_account.check_balance()\n",
        "regular_account.close_account()"
      ],
      "metadata": {
        "colab": {
          "base_uri": "https://localhost:8080/"
        },
        "id": "sFt-ueJ-0Srt",
        "outputId": "1db5230f-a221-43d4-fa55-6b63454c090f"
      },
      "execution_count": 15,
      "outputs": [
        {
          "output_type": "stream",
          "name": "stdout",
          "text": [
            "Deposited RM50. New balance: RM150\n",
            "Withdrawn RM30New balance: RM120\n",
            "Current balance: RM120\n",
            "Account for Azlin Rusnan is closed. Remaining balance is RM120\n"
          ]
        }
      ]
    },
    {
      "cell_type": "code",
      "source": [],
      "metadata": {
        "id": "BHeNRt8o01Da"
      },
      "execution_count": null,
      "outputs": []
    }
  ]
}