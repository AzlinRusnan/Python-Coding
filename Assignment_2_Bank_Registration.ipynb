{
  "nbformat": 4,
  "nbformat_minor": 0,
  "metadata": {
    "colab": {
      "provenance": [],
      "authorship_tag": "ABX9TyMGUopuHtMlO8Gx39qiRRs3",
      "include_colab_link": true
    },
    "kernelspec": {
      "name": "python3",
      "display_name": "Python 3"
    },
    "language_info": {
      "name": "python"
    }
  },
  "cells": [
    {
      "cell_type": "markdown",
      "metadata": {
        "id": "view-in-github",
        "colab_type": "text"
      },
      "source": [
        "<a href=\"https://colab.research.google.com/github/AzlinRusnan/Python-Coding/blob/main/Assignment_2_Bank_Registration.ipynb\" target=\"_parent\"><img src=\"https://colab.research.google.com/assets/colab-badge.svg\" alt=\"Open In Colab\"/></a>"
      ]
    },
    {
      "cell_type": "code",
      "execution_count": null,
      "metadata": {
        "id": "zc5YfhGszxWF"
      },
      "outputs": [],
      "source": [
        "#Task Overview:\n",
        "#For this assignment, you are required to use class and save it as a module. Your task involves\n",
        "#creating a class to register a bank account with the following specifications:\n",
        "#1. Class Creation:\n",
        "#• Write a class to register a bank account.\n",
        "#• The class should include attributes for the username, full name, IC number, city, and telephone number.\n",
        "#• The class needs to record the initial savings for that account, with a minimum balance requirement of RM20.\n",
        "#• The class should include various methods, such as functions for depositing money, withdrawing money, checking the balance, and closing the account. Please ensure that\n",
        "#the minimum balance requirement is enforced when a user attempts to withdraw money.\n",
        "\n",
        "#2. Child Class Creation:\n",
        "#• Consider the above class as the parent class.\n",
        "#• Note that accounts for individuals below 18 years old must be registered under one of\n",
        "#their parents.\n",
        "#• Create a child class representing child accounts registered under their parents.\n"
      ]
    },
    {
      "cell_type": "code",
      "source": [
        "class ParentsAccount():\n",
        "    \"\"\"Initiation for parents account registration\"\"\"\n",
        "    def __init__(self, username, full_name, ic_number, city, phone_number, initial_savings):\n",
        "        self.username = username\n",
        "        self.full_name = full_name\n",
        "        self.ic_number = ic_number\n",
        "        self.city = city\n",
        "        self.phone_number = phone_number\n",
        "        self.balance = max(initial_savings,20)\n",
        "\n",
        "    def deposit(self, amount):\n",
        "        \"\"\"Depositing amount of money\"\"\"\n",
        "        if amount > 0:\n",
        "            self.balance += amount\n",
        "            print(\"You deposited RM\" + str(amount) + \".\" + \" New balance: RM\" + str(self.balance))\n",
        "        else:\n",
        "            print(\"Invalid deposit amount.\")\n",
        "\n",
        "    def withdraw(self, amount):\n",
        "        \"\"\"Withdrawing amount of money\"\"\"\n",
        "        if amount > 0:\n",
        "            if self.balance - amount >= 20:\n",
        "                self.balance -= amount\n",
        "                print(\"Your transaction of RM\" + str(amount) + \" is successful.\" + \" New balance: RM\" + str(self.balance))\n",
        "            else:\n",
        "                print(\"Insufficient balance. Your account balance should be at least RM20\")\n",
        "        else:\n",
        "            print(\"Invalid withdrawal amount.\")\n",
        "\n",
        "    def check_balance(self):\n",
        "        \"\"\"Checking the balance amount\"\"\"\n",
        "        print(\"Current balance: RM\" + str(self.balance))\n",
        "    def close_account(self):\n",
        "        \"\"\"Closing the account\"\"\"\n",
        "        print(\"Remaining balance is RM\" + str(self.balance) + \".\" + \" Account for \" + self.full_name.title() + \" is closed \")\n",
        "\n",
        "# Define a child class\n",
        "class ChildAccount(ParentsAccount): #connect back to parent account\n",
        "    \"\"\"Represent an account, specifically to child account\"\"\"\n",
        "    def __init__(self, username, full_name, ic_number, city, phone_number, initial_savings, parent_username):\n",
        "        super().__init__(username, full_name, ic_number, city, phone_number, initial_savings)\n",
        "        self.parent_username = parent_username\n",
        "\n",
        "    def get_parent_username(self):\n",
        "        \"\"\"Get the username of the parent account\"\"\"\n",
        "        return self.parent_username\n"
      ],
      "metadata": {
        "id": "BHeNRt8o01Da",
        "colab": {
          "base_uri": "https://localhost:8080/"
        },
        "outputId": "9272a11f-8261-42ff-abf7-8477711d9cb4"
      },
      "execution_count": 9,
      "outputs": [
        {
          "output_type": "stream",
          "name": "stdout",
          "text": [
            "--- Scenario 1: Parent and Child Account ---\n",
            "Parent Account Information:\n",
            "Current balance: RM100\n",
            "You deposited RM50. New balance: RM150\n",
            "Your transaction of RM30 is successful. New balance: RM120\n",
            "Current balance: RM120\n",
            "Remaining balance is RM120. Account for Azlin Rusnan is closed \n",
            "\n",
            "Child Account Information:\n",
            "Parent Username: azlin\n",
            "Current balance: RM50\n",
            "You deposited RM20. New balance: RM70\n",
            "Your transaction of RM10 is successful. New balance: RM60\n",
            "Current balance: RM60\n",
            "Remaining balance is RM60. Account for Eusoff Anaqey is closed \n"
          ]
        }
      ]
    },
    {
      "cell_type": "code",
      "source": [],
      "metadata": {
        "id": "mN365ZmM6vXq"
      },
      "execution_count": null,
      "outputs": []
    }
  ]
}