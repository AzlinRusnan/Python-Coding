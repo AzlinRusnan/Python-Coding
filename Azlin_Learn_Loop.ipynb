{
  "nbformat": 4,
  "nbformat_minor": 0,
  "metadata": {
    "colab": {
      "provenance": [],
      "authorship_tag": "ABX9TyOMwcd30/hkjsclV6t5BGqZ",
      "include_colab_link": true
    },
    "kernelspec": {
      "name": "python3",
      "display_name": "Python 3"
    },
    "language_info": {
      "name": "python"
    }
  },
  "cells": [
    {
      "cell_type": "markdown",
      "metadata": {
        "id": "view-in-github",
        "colab_type": "text"
      },
      "source": [
        "<a href=\"https://colab.research.google.com/github/AzlinRusnan/Python-Coding/blob/main/Azlin_Learn_Loop.ipynb\" target=\"_parent\"><img src=\"https://colab.research.google.com/assets/colab-badge.svg\" alt=\"Open In Colab\"/></a>"
      ]
    },
    {
      "cell_type": "code",
      "execution_count": null,
      "metadata": {
        "colab": {
          "base_uri": "https://localhost:8080/"
        },
        "id": "y9a2sd4IzDY1",
        "outputId": "aa9cf84e-76dc-478c-ce52-5dc2cbc97c09"
      },
      "outputs": [
        {
          "output_type": "stream",
          "name": "stdout",
          "text": [
            "Enter number : 10\n",
            "Sum is:  55\n"
          ]
        }
      ],
      "source": [
        "# Write a program to accept a number from a user and calculate the sum of all numbers from 1 to a given number\n",
        "\n",
        "# For example, if the user entered 10 the output should be 55 (1+2+3+4+5+6+7+8+9+10)\n",
        "\n",
        "number = int(input(\"Enter number : \"))\n",
        "sum = 0\n",
        "\n",
        "for i in range(1, number+1,1):\n",
        "    sum += i #sum = sum + i\n",
        "\n",
        "print(\"Sum is: \",sum)\n",
        "\n",
        "\n",
        "#range(start, stop, step) #if enter number=10, number+1 is 11\n",
        "#The loop will iterate over the numbers 1, 2,3,4,5,6,7,8,9,10 (up to, but not including 11), and the sum will include all these numbers."
      ]
    },
    {
      "cell_type": "code",
      "source": [
        "# Write a program to print multiplication table of a given number\n",
        "\n",
        "for i in range(1,11,1):\n",
        "    p = i*2\n",
        "    print(p)"
      ],
      "metadata": {
        "colab": {
          "base_uri": "https://localhost:8080/"
        },
        "id": "N8ijShEo3hBm",
        "outputId": "79be4044-ff56-4a1a-fa15-ebb3711cd490"
      },
      "execution_count": null,
      "outputs": [
        {
          "output_type": "stream",
          "name": "stdout",
          "text": [
            "2\n",
            "4\n",
            "6\n",
            "8\n",
            "10\n",
            "12\n",
            "14\n",
            "16\n",
            "18\n",
            "20\n"
          ]
        }
      ]
    },
    {
      "cell_type": "code",
      "source": [
        "#Write a program to display only those numbers from a list that satisfy the following conditions\n",
        "\n",
        "#The number must be divisible by five\n",
        "#If the number is greater than 150, then skip it and move to the next number\n",
        "#If the number is greater than 500, then stop the loop\n",
        "\n",
        "numbers = [12, 75, 150, 180, 145, 525, 50]\n",
        "\n",
        "for i in numbers:\n",
        "    if i > 500:\n",
        "        break\n",
        "    if i > 150:\n",
        "        continue\n",
        "    if i % 5 == 0:\n",
        "        print(i)"
      ],
      "metadata": {
        "colab": {
          "base_uri": "https://localhost:8080/"
        },
        "id": "dljDL0EQz0wK",
        "outputId": "9726dc4c-2fbd-4c83-e167-7b751049ef67"
      },
      "execution_count": null,
      "outputs": [
        {
          "output_type": "stream",
          "name": "stdout",
          "text": [
            "75\n",
            "150\n",
            "145\n"
          ]
        }
      ]
    },
    {
      "cell_type": "code",
      "source": [
        "#print pattern\n",
        "\n",
        "n = 5\n",
        "\n",
        "for i in range (n,0,-1):\n",
        "    for j in range(i,0,-1):\n",
        "        print(j, end=' ')\n",
        "    print()\n",
        "\n"
      ],
      "metadata": {
        "colab": {
          "base_uri": "https://localhost:8080/"
        },
        "id": "hrwF891B5opJ",
        "outputId": "757e9d2f-dfdc-4be1-9763-e3b21f4bfb75"
      },
      "execution_count": null,
      "outputs": [
        {
          "output_type": "stream",
          "name": "stdout",
          "text": [
            "5 4 3 2 1 \n",
            "4 3 2 1 \n",
            "3 2 1 \n",
            "2 1 \n",
            "1 \n"
          ]
        }
      ]
    },
    {
      "cell_type": "code",
      "source": [
        "#Print list in reverse order using a loop\n",
        "list1 = [10, 20, 30, 40, 50]\n",
        "\n",
        "for i in range (len(list1)-1,-1,-1):\n",
        "    print(list1[i])\n",
        "\n",
        "#Explanation:\n",
        "\n",
        "#len(list1) - 1: The starting index is set to the last index of the list.\n",
        "\n",
        "#-1: The ending index is set to -1 (exclusive), so the loop stops before reaching the first element.\n",
        "\n",
        "#-1: The step size is set to -1, indicating that the loop should decrement the index in each iteration.\n",
        "\n",
        "#This loop will iterate through the indices of the list in reverse order and print the elements accordingly."
      ],
      "metadata": {
        "colab": {
          "base_uri": "https://localhost:8080/"
        },
        "id": "cvAyKyW79EzR",
        "outputId": "02f16741-13eb-4961-8f9d-27857aa635d6"
      },
      "execution_count": null,
      "outputs": [
        {
          "output_type": "stream",
          "name": "stdout",
          "text": [
            "50\n",
            "40\n",
            "30\n",
            "20\n",
            "10\n"
          ]
        }
      ]
    },
    {
      "cell_type": "code",
      "source": [
        "#Display numbers from -10 to -1 using for loop\n",
        "\n",
        "\n",
        "for i in range(-10,0,1):\n",
        "    print(i)"
      ],
      "metadata": {
        "id": "ToeBUrdDBh7O",
        "colab": {
          "base_uri": "https://localhost:8080/"
        },
        "outputId": "c8df1960-3a93-41ca-c519-0a4029f4061e"
      },
      "execution_count": null,
      "outputs": [
        {
          "output_type": "stream",
          "name": "stdout",
          "text": [
            "-10\n",
            "-9\n",
            "-8\n",
            "-7\n",
            "-6\n",
            "-5\n",
            "-4\n",
            "-3\n",
            "-2\n",
            "-1\n"
          ]
        }
      ]
    },
    {
      "cell_type": "code",
      "source": [
        "# Use else block to display a message “Done” after successful execution of for loop\n",
        "\n",
        "for i in range(5):\n",
        "    print(i)\n",
        "else:\n",
        "    print(\"Done!\")"
      ],
      "metadata": {
        "colab": {
          "base_uri": "https://localhost:8080/"
        },
        "id": "wgYG4DQQ5Vug",
        "outputId": "2ffddd46-f8dc-431f-9478-d76b4c7bed0f"
      },
      "execution_count": null,
      "outputs": [
        {
          "output_type": "stream",
          "name": "stdout",
          "text": [
            "0\n",
            "1\n",
            "2\n",
            "3\n",
            "4\n",
            "Done!\n"
          ]
        }
      ]
    },
    {
      "cell_type": "code",
      "source": [
        "# Write a program to display all prime numbers within a range\n",
        "\n",
        "start = 25\n",
        "end = 50\n",
        "print(\"Prime numbers between \" + str(start) + \" and \" + str(end) + \"are: \")\n",
        "\n",
        "for num in range(start, end+1):\n",
        "    if num > 1:\n",
        "        for i in range(2, num):\n",
        "            if(num % i) == 0:\n",
        "                break\n",
        "        else:\n",
        "            print(num)"
      ],
      "metadata": {
        "colab": {
          "base_uri": "https://localhost:8080/"
        },
        "id": "dwaKKZac62XE",
        "outputId": "3bb90a52-1843-4748-d1bf-0755ac1a155e"
      },
      "execution_count": null,
      "outputs": [
        {
          "output_type": "stream",
          "name": "stdout",
          "text": [
            "Prime numbers between 25 and 50are: \n",
            "29\n",
            "31\n",
            "37\n",
            "41\n",
            "43\n",
            "47\n"
          ]
        }
      ]
    },
    {
      "cell_type": "code",
      "source": [
        "# Use a loop to display elements from a given list present at odd index positions\n",
        "\n",
        "my_list = [10, 20, 30, 40, 50, 60, 70, 80, 90, 100]\n",
        "\n",
        "for i in my_list[1::2]:\n",
        "    print(i, end=' ')\n",
        "#print(my_list[1:10:2])"
      ],
      "metadata": {
        "colab": {
          "base_uri": "https://localhost:8080/"
        },
        "id": "UbIgcdso9fF1",
        "outputId": "d624cd70-12f4-477a-fc32-383b7f695896"
      },
      "execution_count": null,
      "outputs": [
        {
          "output_type": "stream",
          "name": "stdout",
          "text": [
            "20 40 60 80 100 "
          ]
        }
      ]
    },
    {
      "cell_type": "code",
      "source": [
        "#Calculate the cube of all numbers from 1 to a given number\n",
        "#Write a program to rint the cube of all numbers from 1 to a given number\n",
        "\n",
        "input_number = 6\n",
        "\n",
        "for i in range(1, input_number + 1):\n",
        "    print(\"Current number is: \" + str(i) + \" and the cube is \" + str(i*i*i))"
      ],
      "metadata": {
        "colab": {
          "base_uri": "https://localhost:8080/"
        },
        "id": "_JoGyT-oB5cY",
        "outputId": "95627eda-eded-44b5-868c-ef87a1472175"
      },
      "execution_count": null,
      "outputs": [
        {
          "output_type": "stream",
          "name": "stdout",
          "text": [
            "Current number is: 1 and the cube is 1\n",
            "Current number is: 2 and the cube is 8\n",
            "Current number is: 3 and the cube is 27\n",
            "Current number is: 4 and the cube is 64\n",
            "Current number is: 5 and the cube is 125\n",
            "Current number is: 6 and the cube is 216\n"
          ]
        }
      ]
    },
    {
      "cell_type": "code",
      "source": [
        "#The IF statement\n",
        "#print the list of cars and make it capital\n",
        "cars = ['audi','bmw','subaru','toyota']\n",
        "\n",
        "for car in cars:\n",
        "    if car == 'bmw':\n",
        "        print(car.upper())\n",
        "    else:\n",
        "        print(car.title())"
      ],
      "metadata": {
        "id": "I5Pb7zyHD08K",
        "colab": {
          "base_uri": "https://localhost:8080/"
        },
        "outputId": "4d89d356-0375-42f9-9520-c3a2ca2da570"
      },
      "execution_count": 1,
      "outputs": [
        {
          "output_type": "stream",
          "name": "stdout",
          "text": [
            "Audi\n",
            "BMW\n",
            "Subaru\n",
            "Toyota\n"
          ]
        }
      ]
    },
    {
      "cell_type": "code",
      "source": [
        "requested_topping = 'anchovies'\n",
        "\n",
        "if requested_topping != 'anchovies':\n",
        "    print(\"Hold the anchovies\")\n",
        "else:\n",
        "    print(\"Azlin, please serve the anchovies\")"
      ],
      "metadata": {
        "colab": {
          "base_uri": "https://localhost:8080/"
        },
        "id": "-G2vozhXSqXx",
        "outputId": "618d96ea-a150-4aed-fe74-1216bd990c7b"
      },
      "execution_count": 3,
      "outputs": [
        {
          "output_type": "stream",
          "name": "stdout",
          "text": [
            "Azlin, please serve the anchovies\n"
          ]
        }
      ]
    },
    {
      "cell_type": "code",
      "source": [
        "#check if mushroom in the topping list\n",
        "#using keyword in\n",
        "requested_topping = ['anchovies', 'mushroom','apple']\n",
        "\n",
        "if 'mushroom' in requested_topping:\n",
        "    print(\"We have mushroom in the store\")\n",
        "else:\n",
        "    print(\"No more mushroom left\")\n"
      ],
      "metadata": {
        "colab": {
          "base_uri": "https://localhost:8080/"
        },
        "id": "kq0KqRIETTwx",
        "outputId": "30989a61-5e9d-43ff-d238-eb5521ed4942"
      },
      "execution_count": 5,
      "outputs": [
        {
          "output_type": "stream",
          "name": "stdout",
          "text": [
            "We have mushroom in the store\n"
          ]
        }
      ]
    },
    {
      "cell_type": "code",
      "source": [
        "#list of banned users\n",
        "#check if marie, 007 and andrew is in the banned user list\n",
        "\n",
        "banned_user = ['andrew','carolina','david']\n",
        "\n",
        "user = 'carolina'\n",
        "\n",
        "if user in banned_user:\n",
        "    print(\"You are not allowed to enter\")\n",
        "else:\n",
        "    print(\"Enjoy staying here\")\n"
      ],
      "metadata": {
        "colab": {
          "base_uri": "https://localhost:8080/"
        },
        "id": "ukp_k3hqUARS",
        "outputId": "cbadb0a8-6194-43a4-f64c-0c421742d263"
      },
      "execution_count": 10,
      "outputs": [
        {
          "output_type": "stream",
          "name": "stdout",
          "text": [
            "You are not allowed to enter\n"
          ]
        }
      ]
    },
    {
      "cell_type": "code",
      "source": [
        "user = 'azlin'\n",
        "age = 32\n",
        "\n",
        "if age < 4:\n",
        "    rate = 0\n",
        "elif age < 18:\n",
        "    rate = 5\n",
        "elif age < 65:\n",
        "    rate = 10\n",
        "else:\n",
        "    rate = 5\n",
        "\n",
        "print(\"Your admission rate is RM \" + str(rate) + \", \" + user.title() + \".\")"
      ],
      "metadata": {
        "colab": {
          "base_uri": "https://localhost:8080/"
        },
        "id": "FrDQvhq9VHkl",
        "outputId": "e15aa58e-f0aa-4a26-eb84-a07b1ae41474"
      },
      "execution_count": 12,
      "outputs": [
        {
          "output_type": "stream",
          "name": "stdout",
          "text": [
            "Your admission rate is RM 10, Azlin.\n"
          ]
        }
      ]
    },
    {
      "cell_type": "code",
      "source": [
        "requested_topping = ['anchovies', 'mushroom']\n",
        "\n",
        "if 'mushroom' in requested_topping:\n",
        "    print(\"Adding mushroom to the pizza\")\n",
        "if 'anchovies' in requested_topping:\n",
        "    print(\"Adding anchovies to the pizza\")\n",
        "if 'paperoni' in requested_topping:\n",
        "    print(\"Adding paperoni\")\n",
        "print(\"Finish making your pizza\")"
      ],
      "metadata": {
        "colab": {
          "base_uri": "https://localhost:8080/"
        },
        "id": "fuwXmOWQWcKv",
        "outputId": "571a89ed-c166-4078-9826-b8d4a7f3d565"
      },
      "execution_count": 14,
      "outputs": [
        {
          "output_type": "stream",
          "name": "stdout",
          "text": [
            "Adding mushroom to the pizza\n",
            "Adding anchovies to the pizza\n",
            "Finish making your pizza\n"
          ]
        }
      ]
    },
    {
      "cell_type": "code",
      "source": [
        "requested_topping = ['anchovies', 'mushroom','green pepper']\n",
        "#string with string, cannot list with string\n",
        "for topping in requested_topping:\n",
        "    if topping == 'green pepper':\n",
        "        print(\"Sorry we are out of green pepper\")\n",
        "    else:\n",
        "        print(\"Adding the \" + topping + \". \")"
      ],
      "metadata": {
        "colab": {
          "base_uri": "https://localhost:8080/"
        },
        "id": "zyVAZ4_uXJnS",
        "outputId": "d0ff64f5-f204-4ac6-f16a-d9b34fb0f6f4"
      },
      "execution_count": 17,
      "outputs": [
        {
          "output_type": "stream",
          "name": "stdout",
          "text": [
            "Adding the anchovies. \n",
            "Adding the mushroom. \n",
            "Sorry we are out of green pepper\n"
          ]
        }
      ]
    },
    {
      "cell_type": "code",
      "source": [
        "#using multiple lists\n",
        "available_toppings = ['mushroom','olives','green peppers','pepperoni','pineapple','extra cheese']\n",
        "requested_toppings = ['mushroom','frech fries','extra cheese','crab meat']\n",
        "\n",
        "for requested_topping in requested_toppings:\n",
        "    if requested_topping in available_toppings:\n",
        "        print(\"Adding the \" + requested_topping + \".\")\n",
        "    else:\n",
        "        print(\"Sorry, we dont have \" + requested_topping)\n",
        "print(\"\\n\")\n",
        "print(\"Your pizza is ready!\")"
      ],
      "metadata": {
        "colab": {
          "base_uri": "https://localhost:8080/"
        },
        "id": "crfyW9VwXmdF",
        "outputId": "e716b69b-b562-45d9-88e3-439553ca3fa5"
      },
      "execution_count": 23,
      "outputs": [
        {
          "output_type": "stream",
          "name": "stdout",
          "text": [
            "Adding the mushroom.\n",
            "Sorry, we dont have frech fries\n",
            "Adding the extra cheese.\n",
            "Sorry, we dont have crab meat\n",
            "\n",
            "\n",
            "Your pizza is ready!\n"
          ]
        }
      ]
    },
    {
      "cell_type": "code",
      "source": [
        "#Building python dictionary from scratch\n",
        "alien_0 = {}\n",
        "alien_0['color'] = 'green'\n",
        "alien_0['points'] = 5\n",
        "\n",
        "print(alien_0)"
      ],
      "metadata": {
        "colab": {
          "base_uri": "https://localhost:8080/"
        },
        "id": "mqoe4SmClPOX",
        "outputId": "22b71ef3-0684-4bb8-af3e-f21e3b94b330"
      },
      "execution_count": 26,
      "outputs": [
        {
          "output_type": "stream",
          "name": "stdout",
          "text": [
            "{'color': 'green', 'points': 5}\n"
          ]
        }
      ]
    },
    {
      "cell_type": "code",
      "source": [
        "#Python dictionaries\n",
        "#accessing the value using the key in dictionary\n",
        "alien_0 = {'color': 'green', 'points' : 5}\n",
        "\n",
        "#get the alien color\n",
        "print(alien_0['color'])\n",
        "print(alien_0['points'])"
      ],
      "metadata": {
        "colab": {
          "base_uri": "https://localhost:8080/"
        },
        "id": "bN7WnGiye9dQ",
        "outputId": "e0eb6a90-ec97-4064-c1c1-57954a97a612"
      },
      "execution_count": 25,
      "outputs": [
        {
          "output_type": "stream",
          "name": "stdout",
          "text": [
            "green\n",
            "5\n"
          ]
        }
      ]
    },
    {
      "cell_type": "code",
      "source": [
        "# extract value from the dictionary\n",
        "alien_0 = {'color': 'green', 'points' : 5}\n",
        "\n",
        "new_point = alien_0['points']\n",
        "\n",
        "print(\"You have just earned \" + str(new_point) + \" points\")"
      ],
      "metadata": {
        "colab": {
          "base_uri": "https://localhost:8080/"
        },
        "id": "ibvNHw1WlmK3",
        "outputId": "7dcf02bd-327a-43c2-f393-6e085c337421"
      },
      "execution_count": 27,
      "outputs": [
        {
          "output_type": "stream",
          "name": "stdout",
          "text": [
            "You have just earned 5 points\n"
          ]
        }
      ]
    },
    {
      "cell_type": "code",
      "source": [
        "#change the color of the dictionary\n",
        "alien_0['color'] = 'indigo'\n",
        "\n",
        "alien_0\n",
        "\n",
        "print(\"The color of the alien is now \" + alien_0['color'])"
      ],
      "metadata": {
        "colab": {
          "base_uri": "https://localhost:8080/"
        },
        "id": "Gh3QNxU_mX9A",
        "outputId": "17cce041-8850-427d-d085-02c9704d9bad"
      },
      "execution_count": 30,
      "outputs": [
        {
          "output_type": "stream",
          "name": "stdout",
          "text": [
            "The color of the alien is now indigo\n"
          ]
        }
      ]
    },
    {
      "cell_type": "code",
      "source": [
        "#using del() function\n",
        "alien_0 = {'color': 'green', 'points' : 5}\n",
        "print(alien_0)\n",
        "\n",
        "del alien_0['points']\n",
        "print(alien_0)\n"
      ],
      "metadata": {
        "colab": {
          "base_uri": "https://localhost:8080/"
        },
        "id": "KbPHs7KZm0Zw",
        "outputId": "4d24a521-f3a7-4257-d97d-2c5f15244b5f"
      },
      "execution_count": 32,
      "outputs": [
        {
          "output_type": "stream",
          "name": "stdout",
          "text": [
            "{'color': 'green', 'points': 5}\n",
            "{'color': 'green'}\n"
          ]
        }
      ]
    },
    {
      "cell_type": "code",
      "source": [
        "# break dictionary into several lines\n",
        "fav_prog = {\n",
        "    'jen' : 'python',\n",
        "    'sarah': 'c',\n",
        "    'edward': 'ruby',\n",
        "    'phil' : 'python',\n",
        "}\n",
        "\n",
        "print(\"Phil's favorite language is \" + fav_prog['phil'].title())"
      ],
      "metadata": {
        "colab": {
          "base_uri": "https://localhost:8080/"
        },
        "id": "zYQTM7w_n7-Y",
        "outputId": "f0a533ce-565f-4bba-be98-8739d0c89e58"
      },
      "execution_count": 35,
      "outputs": [
        {
          "output_type": "stream",
          "name": "stdout",
          "text": [
            "Phil's favorite language is Python\n"
          ]
        }
      ]
    },
    {
      "cell_type": "code",
      "source": [
        "#print out the key-value pairs using item() function\n",
        "\n",
        "for name, sub in fav_prog.items():\n",
        "    print(name.title() + \"'s fav language is \" + sub.title() + \".\")"
      ],
      "metadata": {
        "colab": {
          "base_uri": "https://localhost:8080/"
        },
        "id": "JipNMA0-onaq",
        "outputId": "16c034d4-b182-470d-a8ea-2a7f42336af8"
      },
      "execution_count": 36,
      "outputs": [
        {
          "output_type": "stream",
          "name": "stdout",
          "text": [
            "Jen's fav language is Python.\n",
            "Sarah's fav language is C.\n",
            "Edward's fav language is Ruby.\n",
            "Phil's fav language is Python.\n"
          ]
        }
      ]
    },
    {
      "cell_type": "code",
      "source": [
        "#print out the key-value pairs using key() function\n",
        "fav_prog = {\n",
        "    'jen' : 'python',\n",
        "    'sarah': 'c',\n",
        "    'edward': 'ruby',\n",
        "    'phil' : 'python',\n",
        "}\n",
        "\n",
        "#list of friends\n",
        "friends = ['phil', 'sarah']\n",
        "\n",
        "for name in fav_prog.keys():\n",
        "    if name in friends:\n",
        "        print(name.title() + \" fav language is \" + fav_prog[name].title())"
      ],
      "metadata": {
        "colab": {
          "base_uri": "https://localhost:8080/"
        },
        "id": "SQmU-TmQqhqe",
        "outputId": "aa371106-8b9e-4e87-ea00-12b57e439b42"
      },
      "execution_count": 43,
      "outputs": [
        {
          "output_type": "stream",
          "name": "stdout",
          "text": [
            "Sarah fav language is C\n",
            "Phil fav language is Python\n"
          ]
        }
      ]
    },
    {
      "cell_type": "code",
      "source": [
        "#using not in function\n",
        "fav_prog = {\n",
        "    'jen' : 'python',\n",
        "    'sarah': 'c',\n",
        "    'edward': 'ruby',\n",
        "    'phil' : 'python',\n",
        "}\n",
        "\n",
        "if 'azlin' not in fav_prog:\n",
        "    print(\"Azlin, please study hard\")"
      ],
      "metadata": {
        "colab": {
          "base_uri": "https://localhost:8080/"
        },
        "id": "m7RA_UKTsMVm",
        "outputId": "2708385c-86cb-4466-f6be-0c1d08e93e80"
      },
      "execution_count": 44,
      "outputs": [
        {
          "output_type": "stream",
          "name": "stdout",
          "text": [
            "Azlin, please study hard\n"
          ]
        }
      ]
    },
    {
      "cell_type": "code",
      "source": [
        "#sort keys in order\n",
        "#create for loop\n",
        "#use the sorted() to sort the keys names in the alphabetical order\n",
        "#print out the message thanking them to take the poll\n",
        "\n",
        "fav_prog = {\n",
        "    'jen' : 'python',\n",
        "    'sarah': 'c',\n",
        "    'edward': 'ruby',\n",
        "    'phil' : 'python',\n",
        "}\n",
        "\n",
        "sorted_name = sorted(fav_prog)\n",
        "\n",
        "for name in sorted_name:\n",
        "    print(name.title() + \" thank you for taking the poll\")\n",
        "\n",
        "print(\"\\n\")\n",
        "#or\n",
        "\n",
        "for name in sorted(fav_prog.keys()):\n",
        "    print(name.title() + \" thank you for taking the poll\")"
      ],
      "metadata": {
        "colab": {
          "base_uri": "https://localhost:8080/"
        },
        "id": "vvWaH1TZskdI",
        "outputId": "f28cd9a0-c40d-49e1-a42d-d9fa857a22d9"
      },
      "execution_count": 52,
      "outputs": [
        {
          "output_type": "stream",
          "name": "stdout",
          "text": [
            "Edward thank you for taking the poll\n",
            "Jen thank you for taking the poll\n",
            "Phil thank you for taking the poll\n",
            "Sarah thank you for taking the poll\n",
            "\n",
            "\n",
            "Edward thank you for taking the poll\n",
            "Jen thank you for taking the poll\n",
            "Phil thank you for taking the poll\n",
            "Sarah thank you for taking the poll\n"
          ]
        }
      ]
    },
    {
      "cell_type": "code",
      "source": [
        "#use sorted() to sort the values in reverse alphabetical order\n",
        "#us set() to remove the redundant values\n",
        "\n",
        "\n",
        "fav_prog = {\n",
        "    'jen' : 'python',\n",
        "    'sarah': 'c',\n",
        "    'edward': 'ruby',\n",
        "    'phil' : 'python',\n",
        "}\n",
        "\n",
        "print(\"The following languages have been mentioned: \")\n",
        "\n",
        "for name in sorted(set(fav_prog.values())):\n",
        "    print(name.title())"
      ],
      "metadata": {
        "colab": {
          "base_uri": "https://localhost:8080/"
        },
        "id": "A0a35dndyPb9",
        "outputId": "ed70509c-85f8-409b-8020-6f54cd8f10e2"
      },
      "execution_count": 54,
      "outputs": [
        {
          "output_type": "stream",
          "name": "stdout",
          "text": [
            "The following languages have been mentioned: \n",
            "C\n",
            "Python\n",
            "Ruby\n"
          ]
        }
      ]
    }
  ]
}