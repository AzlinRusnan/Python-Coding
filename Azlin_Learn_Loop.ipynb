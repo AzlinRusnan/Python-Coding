{
  "nbformat": 4,
  "nbformat_minor": 0,
  "metadata": {
    "colab": {
      "provenance": [],
      "authorship_tag": "ABX9TyO3zCu0HL5sINArhWes6sd8",
      "include_colab_link": true
    },
    "kernelspec": {
      "name": "python3",
      "display_name": "Python 3"
    },
    "language_info": {
      "name": "python"
    }
  },
  "cells": [
    {
      "cell_type": "markdown",
      "metadata": {
        "id": "view-in-github",
        "colab_type": "text"
      },
      "source": [
        "<a href=\"https://colab.research.google.com/github/AzlinRusnan/Python-Coding/blob/main/Azlin_Learn_Loop.ipynb\" target=\"_parent\"><img src=\"https://colab.research.google.com/assets/colab-badge.svg\" alt=\"Open In Colab\"/></a>"
      ]
    },
    {
      "cell_type": "code",
      "execution_count": null,
      "metadata": {
        "colab": {
          "base_uri": "https://localhost:8080/"
        },
        "id": "y9a2sd4IzDY1",
        "outputId": "aa9cf84e-76dc-478c-ce52-5dc2cbc97c09"
      },
      "outputs": [
        {
          "output_type": "stream",
          "name": "stdout",
          "text": [
            "Enter number : 10\n",
            "Sum is:  55\n"
          ]
        }
      ],
      "source": [
        "# Write a program to accept a number from a user and calculate the sum of all numbers from 1 to a given number\n",
        "\n",
        "# For example, if the user entered 10 the output should be 55 (1+2+3+4+5+6+7+8+9+10)\n",
        "\n",
        "number = int(input(\"Enter number : \"))\n",
        "sum = 0\n",
        "\n",
        "for i in range(1, number+1,1):\n",
        "    sum += i #sum = sum + i\n",
        "\n",
        "print(\"Sum is: \",sum)\n",
        "\n",
        "\n",
        "#range(start, stop, step) #if enter number=10, number+1 is 11\n",
        "#The loop will iterate over the numbers 1, 2,3,4,5,6,7,8,9,10 (up to, but not including 11), and the sum will include all these numbers."
      ]
    },
    {
      "cell_type": "code",
      "source": [
        "# Write a program to print multiplication table of a given number\n",
        "\n",
        "for i in range(1,11,1):\n",
        "    p = i*2\n",
        "    print(p)"
      ],
      "metadata": {
        "colab": {
          "base_uri": "https://localhost:8080/"
        },
        "id": "N8ijShEo3hBm",
        "outputId": "79be4044-ff56-4a1a-fa15-ebb3711cd490"
      },
      "execution_count": null,
      "outputs": [
        {
          "output_type": "stream",
          "name": "stdout",
          "text": [
            "2\n",
            "4\n",
            "6\n",
            "8\n",
            "10\n",
            "12\n",
            "14\n",
            "16\n",
            "18\n",
            "20\n"
          ]
        }
      ]
    },
    {
      "cell_type": "code",
      "source": [
        "#Write a program to display only those numbers from a list that satisfy the following conditions\n",
        "\n",
        "#The number must be divisible by five\n",
        "#If the number is greater than 150, then skip it and move to the next number\n",
        "#If the number is greater than 500, then stop the loop\n",
        "\n",
        "numbers = [12, 75, 150, 180, 145, 525, 50]\n",
        "\n",
        "for i in numbers:\n",
        "    if i > 500:\n",
        "        break\n",
        "    if i > 150:\n",
        "        continue\n",
        "    if i % 5 == 0:\n",
        "        print(i)"
      ],
      "metadata": {
        "colab": {
          "base_uri": "https://localhost:8080/"
        },
        "id": "dljDL0EQz0wK",
        "outputId": "9726dc4c-2fbd-4c83-e167-7b751049ef67"
      },
      "execution_count": null,
      "outputs": [
        {
          "output_type": "stream",
          "name": "stdout",
          "text": [
            "75\n",
            "150\n",
            "145\n"
          ]
        }
      ]
    },
    {
      "cell_type": "code",
      "source": [
        "#print pattern\n",
        "\n",
        "n = 5\n",
        "\n",
        "for i in range (n,0,-1):\n",
        "    for j in range(i,0,-1):\n",
        "        print(j, end=' ')\n",
        "    print()\n",
        "\n"
      ],
      "metadata": {
        "colab": {
          "base_uri": "https://localhost:8080/"
        },
        "id": "hrwF891B5opJ",
        "outputId": "757e9d2f-dfdc-4be1-9763-e3b21f4bfb75"
      },
      "execution_count": null,
      "outputs": [
        {
          "output_type": "stream",
          "name": "stdout",
          "text": [
            "5 4 3 2 1 \n",
            "4 3 2 1 \n",
            "3 2 1 \n",
            "2 1 \n",
            "1 \n"
          ]
        }
      ]
    },
    {
      "cell_type": "code",
      "source": [
        "#Print list in reverse order using a loop\n",
        "list1 = [10, 20, 30, 40, 50]\n",
        "\n",
        "for i in range (len(list1)-1,-1,-1):\n",
        "    print(list1[i])\n",
        "\n",
        "#Explanation:\n",
        "\n",
        "#len(list1) - 1: The starting index is set to the last index of the list.\n",
        "\n",
        "#-1: The ending index is set to -1 (exclusive), so the loop stops before reaching the first element.\n",
        "\n",
        "#-1: The step size is set to -1, indicating that the loop should decrement the index in each iteration.\n",
        "\n",
        "#This loop will iterate through the indices of the list in reverse order and print the elements accordingly."
      ],
      "metadata": {
        "colab": {
          "base_uri": "https://localhost:8080/"
        },
        "id": "cvAyKyW79EzR",
        "outputId": "02f16741-13eb-4961-8f9d-27857aa635d6"
      },
      "execution_count": null,
      "outputs": [
        {
          "output_type": "stream",
          "name": "stdout",
          "text": [
            "50\n",
            "40\n",
            "30\n",
            "20\n",
            "10\n"
          ]
        }
      ]
    },
    {
      "cell_type": "code",
      "source": [
        "#Display numbers from -10 to -1 using for loop\n",
        "\n",
        "\n",
        "for i in range(-10,0,1):\n",
        "    print(i)"
      ],
      "metadata": {
        "id": "ToeBUrdDBh7O",
        "colab": {
          "base_uri": "https://localhost:8080/"
        },
        "outputId": "c8df1960-3a93-41ca-c519-0a4029f4061e"
      },
      "execution_count": 10,
      "outputs": [
        {
          "output_type": "stream",
          "name": "stdout",
          "text": [
            "-10\n",
            "-9\n",
            "-8\n",
            "-7\n",
            "-6\n",
            "-5\n",
            "-4\n",
            "-3\n",
            "-2\n",
            "-1\n"
          ]
        }
      ]
    },
    {
      "cell_type": "code",
      "source": [
        "# Use else block to display a message “Done” after successful execution of for loop\n",
        "\n",
        "for i in range(5):\n",
        "    print(i)\n",
        "else:\n",
        "    print(\"Done!\")"
      ],
      "metadata": {
        "colab": {
          "base_uri": "https://localhost:8080/"
        },
        "id": "wgYG4DQQ5Vug",
        "outputId": "2ffddd46-f8dc-431f-9478-d76b4c7bed0f"
      },
      "execution_count": 15,
      "outputs": [
        {
          "output_type": "stream",
          "name": "stdout",
          "text": [
            "0\n",
            "1\n",
            "2\n",
            "3\n",
            "4\n",
            "Done!\n"
          ]
        }
      ]
    },
    {
      "cell_type": "code",
      "source": [
        "# Write a program to display all prime numbers within a range\n",
        "\n",
        "start = 25\n",
        "end = 50\n",
        "print(\"Prime numbers between \" + str(start) + \" and \" + str(end) + \"are: \")\n",
        "\n",
        "for num in range(start, end+1):\n",
        "    if num > 1:\n",
        "        for i in range(2, num):\n",
        "            if(num % i) == 0:\n",
        "                break\n",
        "        else:\n",
        "            print(num)"
      ],
      "metadata": {
        "colab": {
          "base_uri": "https://localhost:8080/"
        },
        "id": "dwaKKZac62XE",
        "outputId": "3bb90a52-1843-4748-d1bf-0755ac1a155e"
      },
      "execution_count": 17,
      "outputs": [
        {
          "output_type": "stream",
          "name": "stdout",
          "text": [
            "Prime numbers between 25 and 50are: \n",
            "29\n",
            "31\n",
            "37\n",
            "41\n",
            "43\n",
            "47\n"
          ]
        }
      ]
    },
    {
      "cell_type": "code",
      "source": [
        "# Use a loop to display elements from a given list present at odd index positions\n",
        "\n",
        "my_list = [10, 20, 30, 40, 50, 60, 70, 80, 90, 100]\n",
        "\n",
        "for i in my_list[1::2]:\n",
        "    print(i, end=' ')\n",
        "#print(my_list[1:10:2])"
      ],
      "metadata": {
        "colab": {
          "base_uri": "https://localhost:8080/"
        },
        "id": "UbIgcdso9fF1",
        "outputId": "d624cd70-12f4-477a-fc32-383b7f695896"
      },
      "execution_count": 44,
      "outputs": [
        {
          "output_type": "stream",
          "name": "stdout",
          "text": [
            "20 40 60 80 100 "
          ]
        }
      ]
    },
    {
      "cell_type": "code",
      "source": [
        "#Calculate the cube of all numbers from 1 to a given number\n",
        "#Write a program to rint the cube of all numbers from 1 to a given number\n",
        "\n",
        "input_number = 6\n",
        "\n",
        "for i in range(1, input_number + 1):\n",
        "    print(\"Current number is: \" + str(i) + \" and the cube is \" + str(i*i*i))"
      ],
      "metadata": {
        "colab": {
          "base_uri": "https://localhost:8080/"
        },
        "id": "_JoGyT-oB5cY",
        "outputId": "95627eda-eded-44b5-868c-ef87a1472175"
      },
      "execution_count": 46,
      "outputs": [
        {
          "output_type": "stream",
          "name": "stdout",
          "text": [
            "Current number is: 1 and the cube is 1\n",
            "Current number is: 2 and the cube is 8\n",
            "Current number is: 3 and the cube is 27\n",
            "Current number is: 4 and the cube is 64\n",
            "Current number is: 5 and the cube is 125\n",
            "Current number is: 6 and the cube is 216\n"
          ]
        }
      ]
    },
    {
      "cell_type": "code",
      "source": [],
      "metadata": {
        "id": "I5Pb7zyHD08K"
      },
      "execution_count": null,
      "outputs": []
    }
  ]
}