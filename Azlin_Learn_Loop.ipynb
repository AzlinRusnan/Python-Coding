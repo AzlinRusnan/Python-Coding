{
  "nbformat": 4,
  "nbformat_minor": 0,
  "metadata": {
    "colab": {
      "provenance": [],
      "authorship_tag": "ABX9TyPFKYO/BcGa1cE84JFv9g0Q",
      "include_colab_link": true
    },
    "kernelspec": {
      "name": "python3",
      "display_name": "Python 3"
    },
    "language_info": {
      "name": "python"
    }
  },
  "cells": [
    {
      "cell_type": "markdown",
      "metadata": {
        "id": "view-in-github",
        "colab_type": "text"
      },
      "source": [
        "<a href=\"https://colab.research.google.com/github/AzlinRusnan/Python-Coding/blob/main/Azlin_Learn_Loop.ipynb\" target=\"_parent\"><img src=\"https://colab.research.google.com/assets/colab-badge.svg\" alt=\"Open In Colab\"/></a>"
      ]
    },
    {
      "cell_type": "code",
      "execution_count": 4,
      "metadata": {
        "colab": {
          "base_uri": "https://localhost:8080/"
        },
        "id": "y9a2sd4IzDY1",
        "outputId": "aa9cf84e-76dc-478c-ce52-5dc2cbc97c09"
      },
      "outputs": [
        {
          "output_type": "stream",
          "name": "stdout",
          "text": [
            "Enter number : 10\n",
            "Sum is:  55\n"
          ]
        }
      ],
      "source": [
        "# Write a program to accept a number from a user and calculate the sum of all numbers from 1 to a given number\n",
        "\n",
        "# For example, if the user entered 10 the output should be 55 (1+2+3+4+5+6+7+8+9+10)\n",
        "\n",
        "number = int(input(\"Enter number : \"))\n",
        "sum = 0\n",
        "\n",
        "for i in range(1, number+1,1):\n",
        "    sum += i\n",
        "\n",
        "print(\"Sum is: \",sum)\n",
        "\n",
        "\n",
        "#range(start, stop, step) #if enter number=10, number+1 is 11\n",
        "#The loop will iterate over the numbers 1, 2,3,4,5,6,7,8,9,10 (up to, but not including 11), and the sum will include all these numbers."
      ]
    },
    {
      "cell_type": "code",
      "source": [
        "# Write a program to print multiplication table of a given number\n",
        "\n",
        "for i in range(1,11,1):\n",
        "    p = i*2\n",
        "    print(p)"
      ],
      "metadata": {
        "colab": {
          "base_uri": "https://localhost:8080/"
        },
        "id": "N8ijShEo3hBm",
        "outputId": "79be4044-ff56-4a1a-fa15-ebb3711cd490"
      },
      "execution_count": 11,
      "outputs": [
        {
          "output_type": "stream",
          "name": "stdout",
          "text": [
            "2\n",
            "4\n",
            "6\n",
            "8\n",
            "10\n",
            "12\n",
            "14\n",
            "16\n",
            "18\n",
            "20\n"
          ]
        }
      ]
    },
    {
      "cell_type": "code",
      "source": [
        "#Write a program to display only those numbers from a list that satisfy the following conditions\n",
        "\n",
        "#The number must be divisible by five\n",
        "#If the number is greater than 150, then skip it and move to the next number\n",
        "#If the number is greater than 500, then stop the loop\n",
        "\n",
        "numbers = [12, 75, 150, 180, 145, 525, 50]\n",
        "\n",
        "for i in numbers:\n",
        "    if i > 500:\n",
        "        break\n",
        "    if i > 150:\n",
        "        continue\n",
        "    if i % 5 == 0:\n",
        "        print(i)"
      ],
      "metadata": {
        "colab": {
          "base_uri": "https://localhost:8080/"
        },
        "id": "dljDL0EQz0wK",
        "outputId": "9726dc4c-2fbd-4c83-e167-7b751049ef67"
      },
      "execution_count": 20,
      "outputs": [
        {
          "output_type": "stream",
          "name": "stdout",
          "text": [
            "75\n",
            "150\n",
            "145\n"
          ]
        }
      ]
    },
    {
      "cell_type": "code",
      "source": [
        "#print pattern\n",
        "\n",
        "n = 5\n",
        "\n",
        "for i in range (n,0,-1):\n",
        "    for j in range(i,0,-1):\n",
        "        print(j, end=' ')\n",
        "    print()\n",
        "\n"
      ],
      "metadata": {
        "colab": {
          "base_uri": "https://localhost:8080/"
        },
        "id": "hrwF891B5opJ",
        "outputId": "757e9d2f-dfdc-4be1-9763-e3b21f4bfb75"
      },
      "execution_count": 41,
      "outputs": [
        {
          "output_type": "stream",
          "name": "stdout",
          "text": [
            "5 4 3 2 1 \n",
            "4 3 2 1 \n",
            "3 2 1 \n",
            "2 1 \n",
            "1 \n"
          ]
        }
      ]
    },
    {
      "cell_type": "code",
      "source": [
        "\n"
      ],
      "metadata": {
        "id": "cvAyKyW79EzR"
      },
      "execution_count": null,
      "outputs": []
    }
  ]
}