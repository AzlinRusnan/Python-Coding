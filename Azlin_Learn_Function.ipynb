{
  "nbformat": 4,
  "nbformat_minor": 0,
  "metadata": {
    "colab": {
      "provenance": [],
      "authorship_tag": "ABX9TyODjb7dPYWDpE7mUF8rkJLu",
      "include_colab_link": true
    },
    "kernelspec": {
      "name": "python3",
      "display_name": "Python 3"
    },
    "language_info": {
      "name": "python"
    }
  },
  "cells": [
    {
      "cell_type": "markdown",
      "metadata": {
        "id": "view-in-github",
        "colab_type": "text"
      },
      "source": [
        "<a href=\"https://colab.research.google.com/github/AzlinRusnan/Python-Coding/blob/main/Azlin_Learn_Function.ipynb\" target=\"_parent\"><img src=\"https://colab.research.google.com/assets/colab-badge.svg\" alt=\"Open In Colab\"/></a>"
      ]
    },
    {
      "cell_type": "code",
      "execution_count": 3,
      "metadata": {
        "colab": {
          "base_uri": "https://localhost:8080/"
        },
        "id": "EwoQ095_FNce",
        "outputId": "b26d6449-b05b-445d-aacf-6981153f9cbf"
      },
      "outputs": [
        {
          "output_type": "stream",
          "name": "stdout",
          "text": [
            "rusnan 32\n"
          ]
        }
      ],
      "source": [
        "#Write a program to create a function that takes two arguments, name and age, and print their value.\n",
        "#Use the def keyword with the function name to define a function.\n",
        "#Next, take two parameters\n",
        "#Print them using the print() function\n",
        "#Call function by passing name and age.\n",
        "\n",
        "def azlin(name,age):\n",
        "    print(name,age)\n",
        "\n",
        "azlin('rusnan',32)"
      ]
    },
    {
      "cell_type": "code",
      "source": [
        "def calculation(a,b):\n",
        "    sum = a + b\n",
        "    minus = a - b\n",
        "    return sum, minus\n",
        "\n",
        "res = calculation(40,10)\n",
        "print(res)"
      ],
      "metadata": {
        "colab": {
          "base_uri": "https://localhost:8080/"
        },
        "id": "XuQAQIwgIC1G",
        "outputId": "7cfd3bc5-9da6-4018-f5dd-f28b88f271d3"
      },
      "execution_count": 8,
      "outputs": [
        {
          "output_type": "stream",
          "name": "stdout",
          "text": [
            "(50, 30)\n"
          ]
        }
      ]
    },
    {
      "cell_type": "code",
      "source": [
        "#Write a program to create a function show_employee() using the following conditions.\n",
        "\n",
        "#It should accept the employee’s name and salary and display both.\n",
        "#If the salary is missing in the function call then assign default value 9000 to salary\n",
        "\n",
        "#HINT\n",
        "#Default arguments take the default value during the function call if we do not pass them.\n",
        "#We can assign a default value to an argument in function definition using the = assignment operator.\n",
        "\n",
        "def show_employee(name, salary=9000):\n",
        "    print(\"Name: \" + name + \" Salary: \" + str(salary))\n",
        "\n",
        "show_employee(\"Ben\",12000)\n",
        "show_employee(\"Jessa\")"
      ],
      "metadata": {
        "colab": {
          "base_uri": "https://localhost:8080/"
        },
        "id": "gfC8zx7OJJGc",
        "outputId": "f3ecceca-3d67-48db-c375-769affa114eb"
      },
      "execution_count": 12,
      "outputs": [
        {
          "output_type": "stream",
          "name": "stdout",
          "text": [
            "Name: Ben Salary: 12000\n",
            "Name: Jessa Salary: 9000\n"
          ]
        }
      ]
    },
    {
      "cell_type": "code",
      "source": [
        "#Assign a different name to function and call it through the new name\n",
        "\n",
        "def display_student(name, age):\n",
        "    print(name, age)\n",
        "display_student(\"Emma\", 26)\n",
        "\n",
        "show_student = display_student\n",
        "show_student(\"Azlin\", 26)"
      ],
      "metadata": {
        "colab": {
          "base_uri": "https://localhost:8080/"
        },
        "id": "tN7mnjWcLpDA",
        "outputId": "76c3a333-1579-498b-c3c2-2c9426789362"
      },
      "execution_count": 28,
      "outputs": [
        {
          "output_type": "stream",
          "name": "stdout",
          "text": [
            "Emma 26\n",
            "Azlin 26\n"
          ]
        }
      ]
    },
    {
      "cell_type": "code",
      "source": [
        "#Find the largest item from a given list\n",
        "x = [4, 6, 8, 24, 12, 2]\n",
        "\n",
        "print(max(x))"
      ],
      "metadata": {
        "colab": {
          "base_uri": "https://localhost:8080/"
        },
        "id": "7jGOh9qfOKWw",
        "outputId": "c92e8a46-8716-4b04-da0d-9a0c50628445"
      },
      "execution_count": 32,
      "outputs": [
        {
          "output_type": "stream",
          "name": "stdout",
          "text": [
            "24\n"
          ]
        }
      ]
    },
    {
      "cell_type": "code",
      "source": [
        "#Generate a Python list of all the even numbers between 4 to 30\n",
        "\n",
        "print(list(range(4,30,2)))"
      ],
      "metadata": {
        "colab": {
          "base_uri": "https://localhost:8080/"
        },
        "id": "oaZf9MgaOeut",
        "outputId": "bc8c878d-5583-40c2-e8d0-47be6a5a8a4f"
      },
      "execution_count": 35,
      "outputs": [
        {
          "output_type": "stream",
          "name": "stdout",
          "text": [
            "[4, 6, 8, 10, 12, 14, 16, 18, 20, 22, 24, 26, 28]\n"
          ]
        }
      ]
    },
    {
      "cell_type": "code",
      "source": [],
      "metadata": {
        "id": "aOI1Xi9YOsuh"
      },
      "execution_count": null,
      "outputs": []
    }
  ]
}