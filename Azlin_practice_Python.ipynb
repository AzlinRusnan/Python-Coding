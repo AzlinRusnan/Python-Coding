{
  "nbformat": 4,
  "nbformat_minor": 0,
  "metadata": {
    "colab": {
      "provenance": [],
      "authorship_tag": "ABX9TyMil5SPHa1f+1C8/yBZTWEY",
      "include_colab_link": true
    },
    "kernelspec": {
      "name": "python3",
      "display_name": "Python 3"
    },
    "language_info": {
      "name": "python"
    }
  },
  "cells": [
    {
      "cell_type": "markdown",
      "metadata": {
        "id": "view-in-github",
        "colab_type": "text"
      },
      "source": [
        "<a href=\"https://colab.research.google.com/github/AzlinRusnan/Python-Coding/blob/main/Azlin_practice_Python.ipynb\" target=\"_parent\"><img src=\"https://colab.research.google.com/assets/colab-badge.svg\" alt=\"Open In Colab\"/></a>"
      ]
    },
    {
      "cell_type": "code",
      "execution_count": null,
      "metadata": {
        "id": "dBkGjDi5bzFr"
      },
      "outputs": [],
      "source": [
        "#True/False. Strings are a mutable type in Python.\n",
        "#FALSE. Strings are immutable.\n",
        "# what is immutable? Immutable meaning something that can't be change after it's made or they cannot be modified.\n",
        "# For example, the second statement below fails and causes an error.\n",
        "\n",
        "str = 'hello'\n",
        "#str[2] ='x'"
      ]
    },
    {
      "cell_type": "code",
      "source": [
        "# Write a short Python code segment that prompts the user to enter their name at the keyboard and then prints the length of their name.\n",
        "name = input(\"Please enter your name: \")\n",
        "print(\"Your name has \" , len(name) , \" character long\")\n"
      ],
      "metadata": {
        "colab": {
          "base_uri": "https://localhost:8080/"
        },
        "id": "_GOkAg0EdrMN",
        "outputId": "5027b697-aeea-4008-8af8-74c4791a96f1"
      },
      "execution_count": 5,
      "outputs": [
        {
          "output_type": "stream",
          "name": "stdout",
          "text": [
            "Please enter your name: azlin\n",
            "Your name has  5  character long\n"
          ]
        }
      ]
    },
    {
      "cell_type": "code",
      "source": [
        "# Write a short Python code segment that prompts the user to enter their name at the keyboard and then prints the number of vowels in their name.\n",
        "name = input(\"Please enter your name: \")\n",
        "vowel_count = 0\n",
        "vowels = \"aeiouAEIOU\"\n",
        "\n",
        "for i in name:\n",
        "    if i in vowels:\n",
        "        vowel_count += 1\n",
        "print(\"The number of vowels in your name is \" + str(vowel_count))"
      ],
      "metadata": {
        "colab": {
          "base_uri": "https://localhost:8080/"
        },
        "id": "rCXtcrHuhuiu",
        "outputId": "38cff639-7a43-4da2-e82f-d08792cef28e"
      },
      "execution_count": 11,
      "outputs": [
        {
          "output_type": "stream",
          "name": "stdout",
          "text": [
            "Please enter your name: azlin\n",
            "The number of vowels in your name is 2\n"
          ]
        }
      ]
    },
    {
      "cell_type": "code",
      "source": [
        "# Write a short Python code segment that prompts the user to enter their name and prints \"has ann\" if the name \"ann\" appears anywhere in their name.\n",
        "# For example, the names Anne, Joanne, Joanna, Annette, Adrianne all have \"ann\" in their name.\n",
        "\n",
        "name = input(\"Please enter your name: \")\n",
        "\n",
        "if 'ann' in name:\n",
        "    print(\"Your name has ann\")\n",
        "else:\n",
        "    print(\"Your name does not has ann\")"
      ],
      "metadata": {
        "colab": {
          "base_uri": "https://localhost:8080/"
        },
        "id": "EiwwC5dUkMDd",
        "outputId": "4fa0304a-401d-4a88-deb3-7dff069c9b56"
      },
      "execution_count": 16,
      "outputs": [
        {
          "output_type": "stream",
          "name": "stdout",
          "text": [
            "Please enter your name: azlin\n",
            "Your name does not has ann\n"
          ]
        }
      ]
    },
    {
      "cell_type": "code",
      "source": [
        "# Write a python function initials that takes a string as a paramater that represents a name as \"First M. Last\" and returns their initials.\n",
        "# For example initials(\"Jane P. Doe\") returns the string \"JPD\".\n",
        "\n",
        "def initials(name):\n",
        "    parts = name.split()\n",
        "    return ''.join(part[0] for part in parts)\n",
        "\n",
        "print(initials(\"azlin rusnan\"))"
      ],
      "metadata": {
        "colab": {
          "base_uri": "https://localhost:8080/"
        },
        "id": "eT3hoWKEouDO",
        "outputId": "e34e9976-e239-4b53-b102-3974c7898084"
      },
      "execution_count": 17,
      "outputs": [
        {
          "output_type": "stream",
          "name": "stdout",
          "text": [
            "ar\n"
          ]
        }
      ]
    }
  ]
}