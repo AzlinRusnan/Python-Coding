{
  "nbformat": 4,
  "nbformat_minor": 0,
  "metadata": {
    "colab": {
      "provenance": [],
      "authorship_tag": "ABX9TyNskWDDfw2lXv7YHwGsDjDE",
      "include_colab_link": true
    },
    "kernelspec": {
      "name": "python3",
      "display_name": "Python 3"
    },
    "language_info": {
      "name": "python"
    }
  },
  "cells": [
    {
      "cell_type": "markdown",
      "metadata": {
        "id": "view-in-github",
        "colab_type": "text"
      },
      "source": [
        "<a href=\"https://colab.research.google.com/github/AzlinRusnan/Python-Coding/blob/main/Azlin_Learn_Function_and_String.ipynb\" target=\"_parent\"><img src=\"https://colab.research.google.com/assets/colab-badge.svg\" alt=\"Open In Colab\"/></a>"
      ]
    },
    {
      "cell_type": "code",
      "execution_count": null,
      "metadata": {
        "colab": {
          "base_uri": "https://localhost:8080/"
        },
        "id": "EwoQ095_FNce",
        "outputId": "b26d6449-b05b-445d-aacf-6981153f9cbf"
      },
      "outputs": [
        {
          "output_type": "stream",
          "name": "stdout",
          "text": [
            "rusnan 32\n"
          ]
        }
      ],
      "source": [
        "#Write a program to create a function that takes two arguments, name and age, and print their value.\n",
        "#Use the def keyword with the function name to define a function.\n",
        "#Next, take two parameters\n",
        "#Print them using the print() function\n",
        "#Call function by passing name and age.\n",
        "\n",
        "def azlin(name,age):\n",
        "    print(name,age)\n",
        "\n",
        "azlin('rusnan',32)"
      ]
    },
    {
      "cell_type": "code",
      "source": [
        "def calculation(a,b):\n",
        "    sum = a + b\n",
        "    minus = a - b\n",
        "    return sum, minus\n",
        "\n",
        "res = calculation(40,10)\n",
        "print(res)"
      ],
      "metadata": {
        "colab": {
          "base_uri": "https://localhost:8080/"
        },
        "id": "XuQAQIwgIC1G",
        "outputId": "7cfd3bc5-9da6-4018-f5dd-f28b88f271d3"
      },
      "execution_count": null,
      "outputs": [
        {
          "output_type": "stream",
          "name": "stdout",
          "text": [
            "(50, 30)\n"
          ]
        }
      ]
    },
    {
      "cell_type": "code",
      "source": [
        "#Write a program to create a function show_employee() using the following conditions.\n",
        "\n",
        "#It should accept the employee’s name and salary and display both.\n",
        "#If the salary is missing in the function call then assign default value 9000 to salary\n",
        "\n",
        "#HINT\n",
        "#Default arguments take the default value during the function call if we do not pass them.\n",
        "#We can assign a default value to an argument in function definition using the = assignment operator.\n",
        "\n",
        "def show_employee(name, salary=9000):\n",
        "    print(\"Name: \" + name + \" Salary: \" + str(salary))\n",
        "\n",
        "show_employee(\"Ben\",12000)\n",
        "show_employee(\"Jessa\")"
      ],
      "metadata": {
        "colab": {
          "base_uri": "https://localhost:8080/"
        },
        "id": "gfC8zx7OJJGc",
        "outputId": "f3ecceca-3d67-48db-c375-769affa114eb"
      },
      "execution_count": null,
      "outputs": [
        {
          "output_type": "stream",
          "name": "stdout",
          "text": [
            "Name: Ben Salary: 12000\n",
            "Name: Jessa Salary: 9000\n"
          ]
        }
      ]
    },
    {
      "cell_type": "code",
      "source": [
        "#Assign a different name to function and call it through the new name\n",
        "\n",
        "def display_student(name, age):\n",
        "    print(name, age)\n",
        "display_student(\"Emma\", 26)\n",
        "\n",
        "show_student = display_student\n",
        "show_student(\"Azlin\", 26)"
      ],
      "metadata": {
        "colab": {
          "base_uri": "https://localhost:8080/"
        },
        "id": "tN7mnjWcLpDA",
        "outputId": "76c3a333-1579-498b-c3c2-2c9426789362"
      },
      "execution_count": null,
      "outputs": [
        {
          "output_type": "stream",
          "name": "stdout",
          "text": [
            "Emma 26\n",
            "Azlin 26\n"
          ]
        }
      ]
    },
    {
      "cell_type": "code",
      "source": [
        "#Find the largest item from a given list\n",
        "x = [4, 6, 8, 24, 12, 2]\n",
        "\n",
        "print(max(x))"
      ],
      "metadata": {
        "colab": {
          "base_uri": "https://localhost:8080/"
        },
        "id": "7jGOh9qfOKWw",
        "outputId": "c92e8a46-8716-4b04-da0d-9a0c50628445"
      },
      "execution_count": null,
      "outputs": [
        {
          "output_type": "stream",
          "name": "stdout",
          "text": [
            "24\n"
          ]
        }
      ]
    },
    {
      "cell_type": "code",
      "source": [
        "#Generate a Python list of all the even numbers between 4 to 30\n",
        "\n",
        "print(list(range(4,30,2)))"
      ],
      "metadata": {
        "colab": {
          "base_uri": "https://localhost:8080/"
        },
        "id": "oaZf9MgaOeut",
        "outputId": "bc8c878d-5583-40c2-e8d0-47be6a5a8a4f"
      },
      "execution_count": null,
      "outputs": [
        {
          "output_type": "stream",
          "name": "stdout",
          "text": [
            "[4, 6, 8, 10, 12, 14, 16, 18, 20, 22, 24, 26, 28]\n"
          ]
        }
      ]
    },
    {
      "cell_type": "code",
      "source": [
        "str1 = \"James\"\n",
        "\n",
        "print(str1[0:5:2])"
      ],
      "metadata": {
        "colab": {
          "base_uri": "https://localhost:8080/"
        },
        "id": "aOI1Xi9YOsuh",
        "outputId": "88fb32d3-31e3-4e89-b121-b8cb1ea4fb47"
      },
      "execution_count": null,
      "outputs": [
        {
          "output_type": "stream",
          "name": "stdout",
          "text": [
            "Jms\n"
          ]
        }
      ]
    },
    {
      "cell_type": "code",
      "source": [
        "#Write a program to create a new string made of the middle three characters of an input string.\n",
        "\n",
        "str1 = \"JhonDipPeta\"\n",
        "\n",
        "print(str1[4:7:1])\n",
        "\n",
        "str2 = \"JaSonAy\"\n",
        "print(str2[2:5:1])"
      ],
      "metadata": {
        "colab": {
          "base_uri": "https://localhost:8080/"
        },
        "id": "vz2SWOrlPP9Y",
        "outputId": "ddd70cd3-f6a2-459a-95d9-538231454695"
      },
      "execution_count": null,
      "outputs": [
        {
          "output_type": "stream",
          "name": "stdout",
          "text": [
            "Dip\n",
            "Son\n"
          ]
        }
      ]
    },
    {
      "cell_type": "code",
      "source": [
        "# Append new string in the middle of a given string\n",
        "s1 = \"Ault\"\n",
        "s2 = \"Kelly\"\n",
        "\n",
        "print(s1+s2)"
      ],
      "metadata": {
        "colab": {
          "base_uri": "https://localhost:8080/"
        },
        "id": "kqtzRO70Ptau",
        "outputId": "19a8e0e8-0fb6-40e8-ce72-e8913ad3550b"
      },
      "execution_count": null,
      "outputs": [
        {
          "output_type": "stream",
          "name": "stdout",
          "text": [
            "AultKelly\n"
          ]
        }
      ]
    },
    {
      "cell_type": "code",
      "source": [
        "#Count all letters, digits, and special symbols from a given string\n",
        "\n",
        "def find_digits_chars_symbols(sample_str):\n",
        "    char_count = 0\n",
        "    digit_count = 0\n",
        "    symbol_count = 0\n",
        "\n",
        "    for char in sample_str:\n",
        "        if char.isalpha():\n",
        "            char_count += 1\n",
        "        elif char.isdigit():\n",
        "            digit_count += 1\n",
        "        else:\n",
        "            symbol_count += 1\n",
        "\n",
        "    print(\"Chars = \" + str(char_count) + \" Digits = \" + str(digit_count), \" Symbol = \" + str(symbol_count))\n",
        "\n",
        "sample_str = \"P@yn2at&#i5ve\"\n",
        "print(\"total counts of chars, Digits, and symbols \\n\")\n",
        "find_digits_chars_symbols(sample_str)\n",
        "\n",
        "\n",
        "\n",
        "\n"
      ],
      "metadata": {
        "id": "UiZvvYCiQC6s",
        "colab": {
          "base_uri": "https://localhost:8080/"
        },
        "outputId": "a0f0eeda-2826-4e7a-92e2-f72d1790f411"
      },
      "execution_count": 3,
      "outputs": [
        {
          "output_type": "stream",
          "name": "stdout",
          "text": [
            "total counts of chars, Digits, and symbols \n",
            "\n",
            "Chars = 8 Digits = 2  Symbol = 3\n"
          ]
        }
      ]
    },
    {
      "cell_type": "code",
      "source": [
        "#Create a list by picking an odd-index items from the first list and even index items from the second\n",
        "#Given two lists, l1 and l2, write a program to create a third list l3 by picking an odd-index element from the list l1 and even index elements from the list l2.\n",
        "\n",
        "l1 = [3, 6, 9, 12, 15, 18, 21]\n",
        "l2 = [4, 8, 12, 16, 20, 24, 28]\n",
        "\n",
        "print(\"Element at odd-index positions from list one\")\n",
        "print(str(l1[1::2]))\n",
        "print(\"Element at even-index positions from list two\")\n",
        "print(str(l2[0::2]))\n",
        "\n",
        "final_third = l1[1::2] + l2[0::2]\n",
        "\n",
        "print(\"Printing Final third list\")\n",
        "print(final_third)\n",
        "\n",
        "#or\n",
        "\n",
        "odd_index = l1[1::2]\n",
        "print(\"Element at odd-index positions from list one\")\n",
        "print(odd_index)\n",
        "\n",
        "even_index = l2[0::2]\n",
        "print(\"Element at even-index positions from list two\")\n",
        "print(even_index)\n",
        "\n",
        "print(\"Printing Final third list\")\n",
        "print(odd_index + even_index)\n"
      ],
      "metadata": {
        "colab": {
          "base_uri": "https://localhost:8080/"
        },
        "id": "e8k-3Qa4W6jr",
        "outputId": "b6d9cf48-c099-4d56-8244-3b214337121c"
      },
      "execution_count": 25,
      "outputs": [
        {
          "output_type": "stream",
          "name": "stdout",
          "text": [
            "Element at odd-index positions from list one\n",
            "[6, 12, 18]\n",
            "Element at even-index positions from list two\n",
            "[4, 12, 20, 28]\n",
            "Printing Final third list\n",
            "[6, 12, 18, 4, 12, 20, 28]\n",
            "Element at odd-index positions from list one\n",
            "[6, 12, 18]\n",
            "Element at even-index positions from list two\n",
            "[4, 12, 20, 28]\n",
            "Printing Final third list\n",
            "[6, 12, 18, 4, 12, 20, 28]\n"
          ]
        }
      ]
    },
    {
      "cell_type": "code",
      "source": [
        "#Remove and add item in a list\n",
        "#Write a program to remove the item present at index 4 and add it to the 2nd position and at the end of the list.\n",
        "\n",
        "list1 = [34, 54, 67, 89, 11, 43, 94]\n",
        "\n",
        "remove_at_index4 = list1.pop(4)\n",
        "\n",
        "print(\"List after removing element at index 4 \" + str(list1))\n",
        "\n",
        "insert_at_index2 = list1.insert(2,remove_at_index4)\n",
        "print(\"List after adding element at index 2 \" + str(list1))\n",
        "\n",
        "adding_at_lastlist = list1.append(remove_at_index4)\n",
        "print(\"List after adding element at last\" + str(list1))"
      ],
      "metadata": {
        "colab": {
          "base_uri": "https://localhost:8080/"
        },
        "id": "QjWmkvI_XtP6",
        "outputId": "0d9ca77a-953e-4a33-bbc4-21944bb3109d"
      },
      "execution_count": 40,
      "outputs": [
        {
          "output_type": "stream",
          "name": "stdout",
          "text": [
            "List after removing element at index 4 [34, 54, 67, 89, 43, 94]\n",
            "List after adding element at index 2 [34, 54, 11, 67, 89, 43, 94]\n",
            "List after adding element at last[34, 54, 11, 67, 89, 43, 94, 11]\n"
          ]
        }
      ]
    },
    {
      "cell_type": "code",
      "source": [],
      "metadata": {
        "id": "c1JNCyD3g-xB"
      },
      "execution_count": null,
      "outputs": []
    }
  ]
}