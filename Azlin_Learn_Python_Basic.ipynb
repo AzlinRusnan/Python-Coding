{
  "nbformat": 4,
  "nbformat_minor": 0,
  "metadata": {
    "colab": {
      "provenance": [],
      "authorship_tag": "ABX9TyMwah1nf1ll1Um2Bou9uS7K",
      "include_colab_link": true
    },
    "kernelspec": {
      "name": "python3",
      "display_name": "Python 3"
    },
    "language_info": {
      "name": "python"
    }
  },
  "cells": [
    {
      "cell_type": "markdown",
      "metadata": {
        "id": "view-in-github",
        "colab_type": "text"
      },
      "source": [
        "<a href=\"https://colab.research.google.com/github/AzlinRusnan/Python-Coding/blob/main/Azlin_Learn_Python_Basic.ipynb\" target=\"_parent\"><img src=\"https://colab.research.google.com/assets/colab-badge.svg\" alt=\"Open In Colab\"/></a>"
      ]
    },
    {
      "cell_type": "code",
      "execution_count": 1,
      "metadata": {
        "colab": {
          "base_uri": "https://localhost:8080/"
        },
        "id": "SfZHOiyPRhjY",
        "outputId": "77812ebc-0d0d-499c-ea94-77db0fe347ae"
      },
      "outputs": [
        {
          "output_type": "stream",
          "name": "stdout",
          "text": [
            "Hello Everyone!\n",
            "Hello Everyone!\n"
          ]
        }
      ],
      "source": [
        "print(\"Hello Everyone!\")\n",
        "print('Hello Everyone!')"
      ]
    },
    {
      "cell_type": "code",
      "source": [
        "#range\n",
        "x = range(10)\n",
        "\n",
        "print(x)"
      ],
      "metadata": {
        "colab": {
          "base_uri": "https://localhost:8080/"
        },
        "id": "XT2UfVa_R3O4",
        "outputId": "9c214fa8-76d4-4ea9-9483-17ee1868ea48"
      },
      "execution_count": 5,
      "outputs": [
        {
          "output_type": "stream",
          "name": "stdout",
          "text": [
            "range(0, 10)\n"
          ]
        }
      ]
    },
    {
      "cell_type": "code",
      "source": [
        "#For loop\n",
        "for value in x:\n",
        "    print(value*2)"
      ],
      "metadata": {
        "colab": {
          "base_uri": "https://localhost:8080/"
        },
        "id": "lV32Jy6dSSie",
        "outputId": "3c8bc7de-7164-46a5-feef-faefd228f47c"
      },
      "execution_count": 8,
      "outputs": [
        {
          "output_type": "stream",
          "name": "stdout",
          "text": [
            "0\n",
            "2\n",
            "4\n",
            "6\n",
            "8\n",
            "10\n",
            "12\n",
            "14\n",
            "16\n",
            "18\n"
          ]
        }
      ]
    },
    {
      "cell_type": "code",
      "source": [
        "i = range(10)\n",
        "for value in i:\n",
        "    print(value ** 5)"
      ],
      "metadata": {
        "colab": {
          "base_uri": "https://localhost:8080/"
        },
        "id": "UwPCFdV3SvT9",
        "outputId": "8adeb370-03cf-4b30-a32f-678cc802ed69"
      },
      "execution_count": 10,
      "outputs": [
        {
          "output_type": "stream",
          "name": "stdout",
          "text": [
            "0\n",
            "1\n",
            "32\n",
            "243\n",
            "1024\n",
            "3125\n",
            "7776\n",
            "16807\n",
            "32768\n",
            "59049\n"
          ]
        }
      ]
    },
    {
      "cell_type": "code",
      "source": [
        "#Multiplication\n",
        "#suppose you have rm100, which you can invest with a 10% return each year. After one year, its 100x1.1 = 110 dollars, and after two years it's 100x1.1x1.1=121\n",
        "#write a code to calculate how much money you end up with after 7 years\n",
        "\n",
        "#print(100*1.1**7)\n",
        "#194.87171000000012\n",
        "\n",
        "initial_amount = 100\n",
        "rate = 0.1\n",
        "years = 7\n",
        "\n",
        "amount = initial_amount\n",
        "for year in range(years):\n",
        "    amount = amount * (1+rate)\n",
        "    #print(amount)\n",
        "print(amount)"
      ],
      "metadata": {
        "colab": {
          "base_uri": "https://localhost:8080/"
        },
        "id": "pMK6p1xeS5R1",
        "outputId": "4ecce549-2ac9-4fb2-ce3d-d4248161a51b"
      },
      "execution_count": 17,
      "outputs": [
        {
          "output_type": "stream",
          "name": "stdout",
          "text": [
            "194.87171000000015\n"
          ]
        }
      ]
    },
    {
      "cell_type": "code",
      "source": [
        "height = 1.75\n",
        "weight = 67.3\n",
        "\n",
        "#BMI CALCULATION\n",
        "BMI = weight/(height**2)\n",
        "print(BMI)\n",
        "type(BMI)"
      ],
      "metadata": {
        "colab": {
          "base_uri": "https://localhost:8080/"
        },
        "id": "P6QLqaOwWEWu",
        "outputId": "54696191-2f10-440a-c55e-3c41a0cfd7b8"
      },
      "execution_count": 23,
      "outputs": [
        {
          "output_type": "stream",
          "name": "stdout",
          "text": [
            "21.975510204081633\n"
          ]
        },
        {
          "output_type": "execute_result",
          "data": {
            "text/plain": [
              "float"
            ]
          },
          "metadata": {},
          "execution_count": 23
        }
      ]
    },
    {
      "cell_type": "code",
      "source": [
        "#python as calculator\n",
        "savings = 100\n",
        "growth_multiplier = 1.1\n",
        "result = savings*growth_multiplier**7\n",
        "result"
      ],
      "metadata": {
        "colab": {
          "base_uri": "https://localhost:8080/"
        },
        "id": "kN4kZIVtW5F2",
        "outputId": "1f292a55-d4ad-4d7d-ae4b-82af1ad8ae81"
      },
      "execution_count": 26,
      "outputs": [
        {
          "output_type": "execute_result",
          "data": {
            "text/plain": [
              "194.87171000000012"
            ]
          },
          "metadata": {},
          "execution_count": 26
        }
      ]
    },
    {
      "cell_type": "code",
      "source": [
        "savings = 100\n",
        "growth_multiplier = 1.1\n",
        "#assign product above to year1\n",
        "year1 = savings*growth_multiplier\n",
        "print(year1)\n",
        "type(year1)"
      ],
      "metadata": {
        "colab": {
          "base_uri": "https://localhost:8080/"
        },
        "id": "EtGhpqP3XYkd",
        "outputId": "f8e39c45-3698-494c-dc07-827b41bb06ec"
      },
      "execution_count": 29,
      "outputs": [
        {
          "output_type": "stream",
          "name": "stdout",
          "text": [
            "110.00000000000001\n"
          ]
        },
        {
          "output_type": "execute_result",
          "data": {
            "text/plain": [
              "float"
            ]
          },
          "metadata": {},
          "execution_count": 29
        }
      ]
    },
    {
      "cell_type": "code",
      "source": [
        "#the following has error, fix it\n",
        "savings = 100\n",
        "result = savings*growth_multiplier**7\n",
        "\n",
        "print(\"I started with $\" + (savings) + \" and now have $ \" + (result)"
      ],
      "metadata": {
        "colab": {
          "base_uri": "https://localhost:8080/",
          "height": 140
        },
        "id": "UvG73oX3YJ-A",
        "outputId": "0ee84296-27a5-4b7a-f20f-bbe77bf229ce"
      },
      "execution_count": 32,
      "outputs": [
        {
          "output_type": "error",
          "ename": "SyntaxError",
          "evalue": "ignored",
          "traceback": [
            "\u001b[0;36m  File \u001b[0;32m\"<ipython-input-32-b732b3861234>\"\u001b[0;36m, line \u001b[0;32m5\u001b[0m\n\u001b[0;31m    print(\"I started with $\" + (savings) + \" and now have $ \" + (result)\u001b[0m\n\u001b[0m                                                                        ^\u001b[0m\n\u001b[0;31mSyntaxError\u001b[0m\u001b[0;31m:\u001b[0m incomplete input\n"
          ]
        }
      ]
    },
    {
      "cell_type": "code",
      "source": [
        "savings = 100\n",
        "result = savings*growth_multiplier**7\n",
        "\n",
        "print(\"I started with $\" + str(savings) + \" and now have $ \" + str(result))"
      ],
      "metadata": {
        "colab": {
          "base_uri": "https://localhost:8080/"
        },
        "id": "DA2ApHwOYpM7",
        "outputId": "990387bb-4bc7-45d9-b56e-ff32eec24f94"
      },
      "execution_count": 36,
      "outputs": [
        {
          "output_type": "stream",
          "name": "stdout",
          "text": [
            "I started with $100 and now have $ 194.87171000000012\n"
          ]
        }
      ]
    },
    {
      "cell_type": "code",
      "source": [
        "pi_string = \"3.1415926\"\n",
        "type(pi_string)\n",
        "\n",
        "#convert to float\n",
        "float(pi_string)"
      ],
      "metadata": {
        "colab": {
          "base_uri": "https://localhost:8080/"
        },
        "id": "ZxPIxgVHZFzi",
        "outputId": "531d793d-3eff-451f-8bab-4a3f1ad791ce"
      },
      "execution_count": 40,
      "outputs": [
        {
          "output_type": "execute_result",
          "data": {
            "text/plain": [
              "3.1415926"
            ]
          },
          "metadata": {},
          "execution_count": 40
        }
      ]
    },
    {
      "cell_type": "code",
      "source": [
        "#Python List\n",
        "fam = ['Liz', 1.73,'emma',1.68,'mom',1.71,'dad',1.89]\n",
        "fam[3]\n",
        "\n",
        "#find emma's height using negative\n",
        "fam[-5]\n",
        "\n",
        "#change dad's height\n",
        "fam[-1] = 1.86\n",
        "fam\n",
        "\n",
        "#change of liz's details to lisa height 1.74\n",
        "fam[0:2] = \"lisa\", 1.74\n",
        "fam"
      ],
      "metadata": {
        "colab": {
          "base_uri": "https://localhost:8080/"
        },
        "id": "uq3X0beSaWdx",
        "outputId": "dad15e5d-0ea7-4c08-d1ad-02eed493ceb6"
      },
      "execution_count": 77,
      "outputs": [
        {
          "output_type": "execute_result",
          "data": {
            "text/plain": [
              "['lisa', 1.74, 'emma', 1.68, 'mom', 1.71, 'dad', 1.86]"
            ]
          },
          "metadata": {},
          "execution_count": 77
        }
      ]
    },
    {
      "cell_type": "code",
      "source": [
        "# a list in a list\n",
        "fam2 = [['Liz', 1.73],\n",
        "        ['emma',1.68],\n",
        "        ['mom',1.71],\n",
        "        ['dad',1.89]]\n",
        "#find dad,1.89\n",
        "fam2[3]"
      ],
      "metadata": {
        "colab": {
          "base_uri": "https://localhost:8080/"
        },
        "id": "m707vDmBbL8h",
        "outputId": "0311687e-9061-4295-804e-8a4cce5cafc2"
      },
      "execution_count": 43,
      "outputs": [
        {
          "output_type": "execute_result",
          "data": {
            "text/plain": [
              "['dad', 1.89]"
            ]
          },
          "metadata": {},
          "execution_count": 43
        }
      ]
    },
    {
      "cell_type": "code",
      "source": [
        "hall = 11.25\n",
        "kit = 18.0\n",
        "liv = 20.0\n",
        "bed = 10.75\n",
        "bath = 9.50\n",
        "\n",
        "areas = [hall,kit,liv,bed,bath]\n",
        "areas\n"
      ],
      "metadata": {
        "colab": {
          "base_uri": "https://localhost:8080/"
        },
        "id": "QZA5u4TDb439",
        "outputId": "2ffa194a-269a-47fc-e0b3-e23a8bf28b36"
      },
      "execution_count": 45,
      "outputs": [
        {
          "output_type": "execute_result",
          "data": {
            "text/plain": [
              "[11.25, 18.0, 20.0, 10.75, 9.5]"
            ]
          },
          "metadata": {},
          "execution_count": 45
        }
      ]
    },
    {
      "cell_type": "code",
      "source": [
        "#adding name to a list\n",
        "areas = [\"hallway\",hall,\"kitchen\",kit,\"living room\", liv, \"bedroom\",bed,\"bathroom\",bath]\n",
        "areas\n",
        "print(areas)\n",
        "#a list in a list\n",
        "house = [[\"hallway\",hall],[\"kitchen\",kit],[\"living room\", liv],[\"bedroom\",bed],[\"bathroom\",bath]]\n",
        "type(house)"
      ],
      "metadata": {
        "colab": {
          "base_uri": "https://localhost:8080/"
        },
        "id": "GrGc6R5mcO-0",
        "outputId": "fac91127-a35e-4962-ff14-db4ccc327ba9"
      },
      "execution_count": 49,
      "outputs": [
        {
          "output_type": "stream",
          "name": "stdout",
          "text": [
            "['hallway', 11.25, 'kitchen', 18.0, 'living room', 20.0, 'bedroom', 10.75, 'bathroom', 9.5]\n"
          ]
        },
        {
          "output_type": "execute_result",
          "data": {
            "text/plain": [
              "list"
            ]
          },
          "metadata": {},
          "execution_count": 49
        }
      ]
    },
    {
      "cell_type": "code",
      "source": [
        "areas = ['hallway', 11.25, 'kitchen', 18.0, 'living room', 20.0, 'bedroom', 10.75, 'bathroom', 9.5]\n",
        "#sum of kitchen and bedroom area: eat_sleep_area\n",
        "eat_sleep_area = areas[3] + areas[7]\n",
        "eat_sleep_area"
      ],
      "metadata": {
        "colab": {
          "base_uri": "https://localhost:8080/"
        },
        "id": "D4wZ5s_reA7x",
        "outputId": "2e284c6a-c094-4193-9abd-6277e785ef2a"
      },
      "execution_count": 51,
      "outputs": [
        {
          "output_type": "execute_result",
          "data": {
            "text/plain": [
              "28.75"
            ]
          },
          "metadata": {},
          "execution_count": 51
        }
      ]
    },
    {
      "cell_type": "code",
      "source": [
        "#Use slicing to create a list\n",
        "#use slicing to create downstairs: first 6 elements of areas\n",
        "downstairs = areas[:6]\n",
        "print(downstairs)\n",
        "\n",
        "print(\"\\n\")\n",
        "#use slicing to create upstairs: last 4 elements of areas\n",
        "upstairs = areas[-4:]\n",
        "print(upstairs)"
      ],
      "metadata": {
        "colab": {
          "base_uri": "https://localhost:8080/"
        },
        "id": "BoDrP1LwgIm7",
        "outputId": "b3eadec9-b1ae-4754-e2f6-a5c7a2d747f2"
      },
      "execution_count": 60,
      "outputs": [
        {
          "output_type": "stream",
          "name": "stdout",
          "text": [
            "['hallway', 11.25, 'kitchen', 18.0, 'living room', 20.0]\n",
            "\n",
            "\n",
            "['bedroom', 10.75, 'bathroom', 9.5]\n"
          ]
        }
      ]
    },
    {
      "cell_type": "code",
      "source": [
        "# subsetting lists of lists\n",
        "#given the following list\n",
        "x = [[\"a\",\"b\",\"c\"],\n",
        "     [\"d\",\"e\",\"f\"],\n",
        "     [\"g\",\"h\",\"i\"]]\n",
        "\n",
        "#find 'g'\n",
        "x[2][0]\n",
        "\n",
        "#find 'g''h'\n",
        "x[2][0:2]\n"
      ],
      "metadata": {
        "colab": {
          "base_uri": "https://localhost:8080/"
        },
        "id": "eFqr5iiFhXaI",
        "outputId": "10e923f6-e4d9-4249-9d24-c1eaebbb582a"
      },
      "execution_count": 68,
      "outputs": [
        {
          "output_type": "execute_result",
          "data": {
            "text/plain": [
              "['g', 'h']"
            ]
          },
          "metadata": {},
          "execution_count": 68
        }
      ]
    },
    {
      "cell_type": "code",
      "source": [
        "house = [[\"hallway\",11.25],\n",
        "         [\"kitchen\",18.0],\n",
        "         [\"living room\", 20.0],\n",
        "         [\"bedroom\",10.75],\n",
        "         [\"bathroom\",9.5]]\n",
        "#find area of bathroom\n",
        "house[4][1]\n",
        "house[-1][1]"
      ],
      "metadata": {
        "colab": {
          "base_uri": "https://localhost:8080/"
        },
        "id": "rz959Y6Oiy6O",
        "outputId": "6c5cbd61-1015-41a0-9de5-38da16440ba7"
      },
      "execution_count": 73,
      "outputs": [
        {
          "output_type": "execute_result",
          "data": {
            "text/plain": [
              "9.5"
            ]
          },
          "metadata": {},
          "execution_count": 73
        }
      ]
    },
    {
      "cell_type": "code",
      "source": [
        "# add poolhouse,24.5 to new_area\n",
        "areas2 = ['hallway', 11.25, 'kitchen', 18.0, 'living room', 20.0, 'bedroom', 10.75, 'bathroom', 9.5]\n",
        "new_area = areas2 + ['poolhouse',24.5]\n",
        "new_area"
      ],
      "metadata": {
        "colab": {
          "base_uri": "https://localhost:8080/"
        },
        "id": "CcaPD3ihkOwY",
        "outputId": "62bd5913-933c-42ab-b32b-906f0dcf60f1"
      },
      "execution_count": 79,
      "outputs": [
        {
          "output_type": "execute_result",
          "data": {
            "text/plain": [
              "['hallway',\n",
              " 11.25,\n",
              " 'kitchen',\n",
              " 18.0,\n",
              " 'living room',\n",
              " 20.0,\n",
              " 'bedroom',\n",
              " 10.75,\n",
              " 'bathroom',\n",
              " 9.5,\n",
              " 'poolhouse',\n",
              " 24.5]"
            ]
          },
          "metadata": {},
          "execution_count": 79
        }
      ]
    }
  ]
}