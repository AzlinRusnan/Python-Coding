{
  "nbformat": 4,
  "nbformat_minor": 0,
  "metadata": {
    "colab": {
      "provenance": [],
      "authorship_tag": "ABX9TyPikhf2t5fwmAxLoQfTWimb",
      "include_colab_link": true
    },
    "kernelspec": {
      "name": "python3",
      "display_name": "Python 3"
    },
    "language_info": {
      "name": "python"
    }
  },
  "cells": [
    {
      "cell_type": "markdown",
      "metadata": {
        "id": "view-in-github",
        "colab_type": "text"
      },
      "source": [
        "<a href=\"https://colab.research.google.com/github/AzlinRusnan/Python-Coding/blob/main/Assignment_2b_Bank_Registration.ipynb\" target=\"_parent\"><img src=\"https://colab.research.google.com/assets/colab-badge.svg\" alt=\"Open In Colab\"/></a>"
      ]
    },
    {
      "cell_type": "code",
      "source": [
        "#3. Testing:\n",
        "#• Simulate three scenarios involving both the parent and child classes.\n",
        "#• Test your code under these scenarios.\n",
        "#• Display all the necessary information and attributes under each scenario."
      ],
      "metadata": {
        "id": "BZv9zlCzYI-5"
      },
      "execution_count": null,
      "outputs": []
    },
    {
      "cell_type": "code",
      "execution_count": 10,
      "metadata": {
        "colab": {
          "base_uri": "https://localhost:8080/",
          "height": 611
        },
        "id": "LuTwdWSWUidF",
        "outputId": "2356bb9a-dc1c-46da-ba17-f8542ccb8608"
      },
      "outputs": [
        {
          "output_type": "display_data",
          "data": {
            "text/plain": [
              "<IPython.core.display.HTML object>"
            ],
            "text/html": [
              "\n",
              "     <input type=\"file\" id=\"files-c2f94883-7e54-499a-99ea-11a25aaedd3c\" name=\"files[]\" multiple disabled\n",
              "        style=\"border:none\" />\n",
              "     <output id=\"result-c2f94883-7e54-499a-99ea-11a25aaedd3c\">\n",
              "      Upload widget is only available when the cell has been executed in the\n",
              "      current browser session. Please rerun this cell to enable.\n",
              "      </output>\n",
              "      <script>// Copyright 2017 Google LLC\n",
              "//\n",
              "// Licensed under the Apache License, Version 2.0 (the \"License\");\n",
              "// you may not use this file except in compliance with the License.\n",
              "// You may obtain a copy of the License at\n",
              "//\n",
              "//      http://www.apache.org/licenses/LICENSE-2.0\n",
              "//\n",
              "// Unless required by applicable law or agreed to in writing, software\n",
              "// distributed under the License is distributed on an \"AS IS\" BASIS,\n",
              "// WITHOUT WARRANTIES OR CONDITIONS OF ANY KIND, either express or implied.\n",
              "// See the License for the specific language governing permissions and\n",
              "// limitations under the License.\n",
              "\n",
              "/**\n",
              " * @fileoverview Helpers for google.colab Python module.\n",
              " */\n",
              "(function(scope) {\n",
              "function span(text, styleAttributes = {}) {\n",
              "  const element = document.createElement('span');\n",
              "  element.textContent = text;\n",
              "  for (const key of Object.keys(styleAttributes)) {\n",
              "    element.style[key] = styleAttributes[key];\n",
              "  }\n",
              "  return element;\n",
              "}\n",
              "\n",
              "// Max number of bytes which will be uploaded at a time.\n",
              "const MAX_PAYLOAD_SIZE = 100 * 1024;\n",
              "\n",
              "function _uploadFiles(inputId, outputId) {\n",
              "  const steps = uploadFilesStep(inputId, outputId);\n",
              "  const outputElement = document.getElementById(outputId);\n",
              "  // Cache steps on the outputElement to make it available for the next call\n",
              "  // to uploadFilesContinue from Python.\n",
              "  outputElement.steps = steps;\n",
              "\n",
              "  return _uploadFilesContinue(outputId);\n",
              "}\n",
              "\n",
              "// This is roughly an async generator (not supported in the browser yet),\n",
              "// where there are multiple asynchronous steps and the Python side is going\n",
              "// to poll for completion of each step.\n",
              "// This uses a Promise to block the python side on completion of each step,\n",
              "// then passes the result of the previous step as the input to the next step.\n",
              "function _uploadFilesContinue(outputId) {\n",
              "  const outputElement = document.getElementById(outputId);\n",
              "  const steps = outputElement.steps;\n",
              "\n",
              "  const next = steps.next(outputElement.lastPromiseValue);\n",
              "  return Promise.resolve(next.value.promise).then((value) => {\n",
              "    // Cache the last promise value to make it available to the next\n",
              "    // step of the generator.\n",
              "    outputElement.lastPromiseValue = value;\n",
              "    return next.value.response;\n",
              "  });\n",
              "}\n",
              "\n",
              "/**\n",
              " * Generator function which is called between each async step of the upload\n",
              " * process.\n",
              " * @param {string} inputId Element ID of the input file picker element.\n",
              " * @param {string} outputId Element ID of the output display.\n",
              " * @return {!Iterable<!Object>} Iterable of next steps.\n",
              " */\n",
              "function* uploadFilesStep(inputId, outputId) {\n",
              "  const inputElement = document.getElementById(inputId);\n",
              "  inputElement.disabled = false;\n",
              "\n",
              "  const outputElement = document.getElementById(outputId);\n",
              "  outputElement.innerHTML = '';\n",
              "\n",
              "  const pickedPromise = new Promise((resolve) => {\n",
              "    inputElement.addEventListener('change', (e) => {\n",
              "      resolve(e.target.files);\n",
              "    });\n",
              "  });\n",
              "\n",
              "  const cancel = document.createElement('button');\n",
              "  inputElement.parentElement.appendChild(cancel);\n",
              "  cancel.textContent = 'Cancel upload';\n",
              "  const cancelPromise = new Promise((resolve) => {\n",
              "    cancel.onclick = () => {\n",
              "      resolve(null);\n",
              "    };\n",
              "  });\n",
              "\n",
              "  // Wait for the user to pick the files.\n",
              "  const files = yield {\n",
              "    promise: Promise.race([pickedPromise, cancelPromise]),\n",
              "    response: {\n",
              "      action: 'starting',\n",
              "    }\n",
              "  };\n",
              "\n",
              "  cancel.remove();\n",
              "\n",
              "  // Disable the input element since further picks are not allowed.\n",
              "  inputElement.disabled = true;\n",
              "\n",
              "  if (!files) {\n",
              "    return {\n",
              "      response: {\n",
              "        action: 'complete',\n",
              "      }\n",
              "    };\n",
              "  }\n",
              "\n",
              "  for (const file of files) {\n",
              "    const li = document.createElement('li');\n",
              "    li.append(span(file.name, {fontWeight: 'bold'}));\n",
              "    li.append(span(\n",
              "        `(${file.type || 'n/a'}) - ${file.size} bytes, ` +\n",
              "        `last modified: ${\n",
              "            file.lastModifiedDate ? file.lastModifiedDate.toLocaleDateString() :\n",
              "                                    'n/a'} - `));\n",
              "    const percent = span('0% done');\n",
              "    li.appendChild(percent);\n",
              "\n",
              "    outputElement.appendChild(li);\n",
              "\n",
              "    const fileDataPromise = new Promise((resolve) => {\n",
              "      const reader = new FileReader();\n",
              "      reader.onload = (e) => {\n",
              "        resolve(e.target.result);\n",
              "      };\n",
              "      reader.readAsArrayBuffer(file);\n",
              "    });\n",
              "    // Wait for the data to be ready.\n",
              "    let fileData = yield {\n",
              "      promise: fileDataPromise,\n",
              "      response: {\n",
              "        action: 'continue',\n",
              "      }\n",
              "    };\n",
              "\n",
              "    // Use a chunked sending to avoid message size limits. See b/62115660.\n",
              "    let position = 0;\n",
              "    do {\n",
              "      const length = Math.min(fileData.byteLength - position, MAX_PAYLOAD_SIZE);\n",
              "      const chunk = new Uint8Array(fileData, position, length);\n",
              "      position += length;\n",
              "\n",
              "      const base64 = btoa(String.fromCharCode.apply(null, chunk));\n",
              "      yield {\n",
              "        response: {\n",
              "          action: 'append',\n",
              "          file: file.name,\n",
              "          data: base64,\n",
              "        },\n",
              "      };\n",
              "\n",
              "      let percentDone = fileData.byteLength === 0 ?\n",
              "          100 :\n",
              "          Math.round((position / fileData.byteLength) * 100);\n",
              "      percent.textContent = `${percentDone}% done`;\n",
              "\n",
              "    } while (position < fileData.byteLength);\n",
              "  }\n",
              "\n",
              "  // All done.\n",
              "  yield {\n",
              "    response: {\n",
              "      action: 'complete',\n",
              "    }\n",
              "  };\n",
              "}\n",
              "\n",
              "scope.google = scope.google || {};\n",
              "scope.google.colab = scope.google.colab || {};\n",
              "scope.google.colab._files = {\n",
              "  _uploadFiles,\n",
              "  _uploadFilesContinue,\n",
              "};\n",
              "})(self);\n",
              "</script> "
            ]
          },
          "metadata": {}
        },
        {
          "output_type": "stream",
          "name": "stdout",
          "text": [
            "Saving bank_registration.py to bank_registration (2).py\n"
          ]
        },
        {
          "output_type": "execute_result",
          "data": {
            "text/plain": [
              "{'bank_registration (2).py': b'# -*- coding: utf-8 -*-\\n\"\"\"Assignment 2_Bank_Registration.ipynb\\n\\nAutomatically generated by Colaboratory.\\n\\nOriginal file is located at\\n    https://colab.research.google.com/drive/1WAXBOabZVX4tYjyGkMWE2A5VoYmuQFvB\\n\"\"\"\\n\\n#Task Overview:\\n#For this assignment, you are required to use class and save it as a module. Your task involves\\n#creating a class to register a bank account with the following specifications:\\n\\n#1. Class Creation:\\n#\\xe2\\x80\\xa2 Write a class to register a bank account.\\n#\\xe2\\x80\\xa2 The class should include attributes for the username, full name, IC number, city, and telephone number.\\n#\\xe2\\x80\\xa2 The class needs to record the initial savings for that account, with a minimum balance requirement of RM20.\\n#\\xe2\\x80\\xa2 The class should include various methods, such as functions for depositing money, withdrawing money, checking the balance, and closing the account. Please ensure that\\n#the minimum balance requirement is enforced when a user attempts to withdraw money.\\n\\n#2. Child Class Creation:\\n#\\xe2\\x80\\xa2 Consider the above class as the parent class.\\n#\\xe2\\x80\\xa2 Note that accounts for individuals below 18 years old must be registered under one of\\n#their parents.\\n#\\xe2\\x80\\xa2 Create a child class representing child accounts registered under their parents.\\n\\nclass ParentsAccount:\\n    \"\"\"Initiation for parents account registration.\"\"\"\\n    def __init__(self, username, full_name, ic_number, city, phone_number, initial_savings):\\n        self.username = username\\n        self.full_name = full_name\\n        self.ic_number = ic_number\\n        self.city = city\\n        self.phone_number = phone_number\\n        self.balance = max(initial_savings, 20)\\n\\n    def deposit(self, amount):\\n        \"\"\"Depositing amount of money.\"\"\"\\n        if amount > 0:\\n            self.balance += amount\\n            print(\"You deposited RM\" + str(amount) + \". New balance: RM\" + str(self.balance))\\n        else:\\n            print(\"Invalid deposit amount.\")\\n\\n    def withdraw(self, amount):\\n        \"\"\"Withdrawing amount of money.\"\"\"\\n        if amount > 0:\\n            if self.balance - amount >= 20:\\n                self.balance -= amount\\n                print(\"Your transaction of RM\" + str(amount) + \" is successful. New balance: RM\" + str(self.balance))\\n            else:\\n                print(\"Insufficient balance. Your account balance should be at least RM20\")\\n        else:\\n            print(\"Invalid withdrawal amount.\")\\n\\n    def check_balance(self):\\n        \"\"\"Checking the balance amount.\"\"\"\\n        print(\"Current balance: RM\" + str(self.balance))\\n\\n    def close_account(self):\\n        \"\"\"Closing the account.\"\"\"\\n        print(\"Remaining balance is RM\" + str(self.balance) + \". Account for \" + self.full_name.title() + \" is closed.\")\\n\\n\\nclass ChildBankAccount(ParentsAccount):\\n    def __init__(self, username, full_name, ic_number, city, telephone, initial_savings, parent_name, age):\\n        if age >= 18:\\n            raise ValueError(\"Age must be below 18 for a child account.\")\\n        super().__init__(username, full_name, ic_number, city, telephone, initial_savings)\\n        self.parent_name = parent_name\\n        self.age = age\\n\\n'}"
            ]
          },
          "metadata": {},
          "execution_count": 10
        }
      ],
      "source": [
        "# Upload a file called Bank_Registration.py\n",
        "from google.colab import files\n",
        "files.upload()"
      ]
    },
    {
      "cell_type": "code",
      "source": [
        "# Scenario 1: Opening a Parent Account and Performing Transactions\n",
        "from bank_registration import ParentsAccount\n",
        "\n",
        "print(\"Scenario 1: Parent Account Operations\")\n",
        "parent_account = ParentsAccount(\"azlinrusnan\", \"Azlin Rusnan\", \"910514146676\", \"Kuala Lumpur\", \"0196354847\", 100)\n",
        "print(\"Account created for:\" + parent_account.full_name)\n",
        "parent_account.deposit(50)\n",
        "parent_account.withdraw(30)\n",
        "parent_account.check_balance()\n",
        "parent_account.close_account()\n",
        "print(\"---------------------------------------\")"
      ],
      "metadata": {
        "colab": {
          "base_uri": "https://localhost:8080/"
        },
        "id": "IDTmmYAdVQuG",
        "outputId": "24950c82-c20f-4b40-f3cc-059852761b91"
      },
      "execution_count": 11,
      "outputs": [
        {
          "output_type": "stream",
          "name": "stdout",
          "text": [
            "Scenario 1: Parent Account Operations\n",
            "Account created for:Azlin Rusnan\n",
            "You deposited RM50. New balance: RM150\n",
            "Your transaction of RM30 is successful. New balance: RM120\n",
            "Current balance: RM120\n",
            "Remaining balance is RM120. Account for Azlin Rusnan is closed.\n",
            "---------------------------------------\n"
          ]
        }
      ]
    },
    {
      "cell_type": "code",
      "source": [
        "# Scenario 2: Opening a Child Account and Performing Transactions\n",
        "from bank_registration import ChildBankAccount\n",
        "\n",
        "print(\"Scenario 2: Child Account Operations\")\n",
        "child_account = ChildBankAccount(\"childUser\", \"Eusoff Anaqey\", \"180*1416005*\", \"Putrajaya\", \"0196354847\", 50, \"Azlin Rusnan\", 15)\n",
        "print(\"Account created for:\" + child_account.full_name)\n",
        "print(\"Age:\" + str(child_account.age))\n",
        "child_account.deposit(20)\n",
        "child_account.withdraw(10)\n",
        "child_account.check_balance()\n",
        "child_account.close_account()\n",
        "print(\"---------------------------------------\")\n"
      ],
      "metadata": {
        "colab": {
          "base_uri": "https://localhost:8080/"
        },
        "id": "oMo8ofVJXTBd",
        "outputId": "8d150f0c-9b87-4f2e-fecc-40834219d2e7"
      },
      "execution_count": 13,
      "outputs": [
        {
          "output_type": "stream",
          "name": "stdout",
          "text": [
            "Scenario 2: Child Account Operations\n",
            "Account created for:Eusoff Anaqey\n",
            "Age:15\n",
            "You deposited RM20. New balance: RM70\n",
            "Your transaction of RM10 is successful. New balance: RM60\n",
            "Current balance: RM60\n",
            "Remaining balance is RM60. Account for Eusoff Anaqey is closed.\n",
            "---------------------------------------\n"
          ]
        }
      ]
    },
    {
      "cell_type": "code",
      "source": [
        "# Scenario 3: Attempt to Create a Child Account for an Overaged Individual\n",
        "print(\"Scenario 3: Invalid Age for Child Account\")\n",
        "try:\n",
        "    invalid_child_account = ChildBankAccount(\"teenUser\", \"Emirr Azraqey\", \"210*3116005*\", \"Putrajaya\", \"0196354847\", 100, \"Azlin Rusnan\", 18)\n",
        "except ValueError as e:\n",
        "    print(\"Failed to create account:\", e)"
      ],
      "metadata": {
        "colab": {
          "base_uri": "https://localhost:8080/"
        },
        "id": "ty20lANzXmJi",
        "outputId": "3597daf3-5b23-46a7-c235-ab0199356264"
      },
      "execution_count": 14,
      "outputs": [
        {
          "output_type": "stream",
          "name": "stdout",
          "text": [
            "Scenario 3: Invalid Age for Child Account\n",
            "Failed to create account: Age must be below 18 for a child account.\n"
          ]
        }
      ]
    }
  ]
}