{
  "nbformat": 4,
  "nbformat_minor": 0,
  "metadata": {
    "colab": {
      "provenance": [],
      "authorship_tag": "ABX9TyORheQ55JDuFHHRxNk3iXXA",
      "include_colab_link": true
    },
    "kernelspec": {
      "name": "python3",
      "display_name": "Python 3"
    },
    "language_info": {
      "name": "python"
    }
  },
  "cells": [
    {
      "cell_type": "markdown",
      "metadata": {
        "id": "view-in-github",
        "colab_type": "text"
      },
      "source": [
        "<a href=\"https://colab.research.google.com/github/AzlinRusnan/Python-Coding/blob/main/Assignment_2a_Bank_Registration.ipynb\" target=\"_parent\"><img src=\"https://colab.research.google.com/assets/colab-badge.svg\" alt=\"Open In Colab\"/></a>"
      ]
    },
    {
      "cell_type": "code",
      "execution_count": null,
      "metadata": {
        "id": "zc5YfhGszxWF"
      },
      "outputs": [],
      "source": [
        "#Task Overview:\n",
        "#For this assignment, you are required to use class and save it as a module. Your task involves\n",
        "#creating a class to register a bank account with the following specifications:\n",
        "\n",
        "#1. Class Creation:\n",
        "#• Write a class to register a bank account.\n",
        "#• The class should include attributes for the username, full name, IC number, city, and telephone number.\n",
        "#• The class needs to record the initial savings for that account, with a minimum balance requirement of RM20.\n",
        "#• The class should include various methods, such as functions for depositing money, withdrawing money, checking the balance, and closing the account. Please ensure that\n",
        "#the minimum balance requirement is enforced when a user attempts to withdraw money.\n",
        "\n",
        "#2. Child Class Creation:\n",
        "#• Consider the above class as the parent class.\n",
        "#• Note that accounts for individuals below 18 years old must be registered under one of\n",
        "#their parents.\n",
        "#• Create a child class representing child accounts registered under their parents.\n"
      ]
    },
    {
      "cell_type": "code",
      "source": [
        "class ParentsAccount:\n",
        "    \"\"\"Basic bank account for parents.\"\"\"\n",
        "    def __init__(self, username, full_name, ic_number, city, phone_number, initial_savings):\n",
        "        self.username = username\n",
        "        self.full_name = full_name\n",
        "        self.ic_number = ic_number\n",
        "        self.city = city\n",
        "        self.phone_number = phone_number\n",
        "        self.balance = max(initial_savings, 20)\n",
        "\n",
        "    def deposit(self, amount):\n",
        "        \"\"\"Add money to the account.\"\"\"\n",
        "        if amount > 0:\n",
        "            self.balance += amount\n",
        "            print(\"You deposited RM\" + str(amount) + \". New balance: RM\" + str(self.balance))\n",
        "        else:\n",
        "            print(\"Invalid deposit amount.\")\n",
        "\n",
        "    def withdraw(self, amount):\n",
        "        \"\"\"Withdrawing amount of money.\"\"\"\n",
        "        if amount > 0:\n",
        "            if self.balance - amount >= 20:\n",
        "                self.balance -= amount\n",
        "                print(\"Your transaction of RM\" + str(amount) + \" is successful. New balance: RM\" + str(self.balance))\n",
        "            else:\n",
        "                print(\"Insufficient balance. Your account balance should be at least RM20\")\n",
        "        else:\n",
        "            print(\"Invalid withdrawal amount.\")\n",
        "\n",
        "    def check_balance(self):\n",
        "        \"\"\"Display the current balance.\"\"\"\n",
        "        print(\"Current balance: RM\" + str(self.balance))\n",
        "\n",
        "    def close_account(self):\n",
        "        \"\"\"Closing the account.\"\"\"\n",
        "        print(\"Remaining balance is RM\" + str(self.balance) + \". Account for \" + self.full_name.title() + \" is closed.\")\n",
        "\n",
        "\n",
        "class ChildBankAccount(ParentsAccount):\n",
        "    \"\"\"Basic bank account for child.\"\"\"\n",
        "    def __init__(self, username, full_name, ic_number, city, telephone, initial_savings, parent_name, age):\n",
        "        if age >= 18:\n",
        "            raise ValueError(\"Age must be below 18 for a child account.\")\n",
        "        super().__init__(username, full_name, ic_number, city, telephone, initial_savings)\n",
        "        self.parent_name = parent_name\n",
        "        self.age = age\n"
      ],
      "metadata": {
        "id": "BHeNRt8o01Da"
      },
      "execution_count": 1,
      "outputs": []
    },
    {
      "cell_type": "code",
      "source": [],
      "metadata": {
        "id": "mN365ZmM6vXq"
      },
      "execution_count": null,
      "outputs": []
    }
  ]
}