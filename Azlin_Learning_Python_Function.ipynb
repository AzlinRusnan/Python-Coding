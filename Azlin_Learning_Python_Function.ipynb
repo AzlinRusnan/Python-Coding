{
  "nbformat": 4,
  "nbformat_minor": 0,
  "metadata": {
    "colab": {
      "provenance": [],
      "authorship_tag": "ABX9TyNh1cFzutZHVumTN6Milm1k",
      "include_colab_link": true
    },
    "kernelspec": {
      "name": "python3",
      "display_name": "Python 3"
    },
    "language_info": {
      "name": "python"
    }
  },
  "cells": [
    {
      "cell_type": "markdown",
      "metadata": {
        "id": "view-in-github",
        "colab_type": "text"
      },
      "source": [
        "<a href=\"https://colab.research.google.com/github/AzlinRusnan/Python-Coding/blob/main/Azlin_Learning_Python_Function.ipynb\" target=\"_parent\"><img src=\"https://colab.research.google.com/assets/colab-badge.svg\" alt=\"Open In Colab\"/></a>"
      ]
    },
    {
      "cell_type": "code",
      "execution_count": 17,
      "metadata": {
        "id": "yAvabGGetYCe",
        "colab": {
          "base_uri": "https://localhost:8080/"
        },
        "outputId": "e0ce0626-cf17-4b08-cc6b-f67b7f3543f7"
      },
      "outputs": [
        {
          "output_type": "stream",
          "name": "stdout",
          "text": [
            "Happy birthday to you!\n",
            "You are old!\n",
            "Happy birthday to you!\n",
            "\n"
          ]
        }
      ],
      "source": [
        "# function = a block of reusable code\n",
        "# place () after the function name to invoke it\n",
        "\n",
        "def happy_birthday():\n",
        "    print(\"Happy birthday to you!\")\n",
        "    print(\"You are old!\")\n",
        "    print(\"Happy birthday to you!\")\n",
        "    print()\n",
        "\n",
        "happy_birthday()"
      ]
    },
    {
      "cell_type": "code",
      "source": [
        "# put name\n",
        "# the order of the argument does matter\n",
        "def happy_birthday(name, age):\n",
        "    print(f\"Happy birthday to {name}!\")\n",
        "    print(f\"You are {age} old!\")\n",
        "    print(\"Happy birthday to you!\")\n",
        "    print()\n",
        "\n",
        "happy_birthday(\"Azlin\", 32)\n",
        "happy_birthday(\"Azizey\", 35)\n",
        "happy_birthday(\"Anaqey\", 5)\n",
        "happy_birthday(\"Azraqey\" ,2)"
      ],
      "metadata": {
        "colab": {
          "base_uri": "https://localhost:8080/"
        },
        "id": "yJV0t7fHviJQ",
        "outputId": "aa9ab1ac-3618-441c-bdad-15321a199692"
      },
      "execution_count": 16,
      "outputs": [
        {
          "output_type": "stream",
          "name": "stdout",
          "text": [
            "Happy birthday to Azlin!\n",
            "You are 32 old!\n",
            "Happy birthday to you!\n",
            "\n",
            "Happy birthday to Azizey!\n",
            "You are 35 old!\n",
            "Happy birthday to you!\n",
            "\n",
            "Happy birthday to Anaqey!\n",
            "You are 5 old!\n",
            "Happy birthday to you!\n",
            "\n",
            "Happy birthday to Azraqey!\n",
            "You are 2 old!\n",
            "Happy birthday to you!\n",
            "\n"
          ]
        }
      ]
    },
    {
      "cell_type": "code",
      "source": [
        "# Define a greet_user function\n",
        "# Use the docstring in triple quotes to explain what your function would like to do\n",
        "# Always remember to put this docstring\n",
        "def greet_user():\n",
        "    \"\"\"Display a simple greeting\"\"\"\n",
        "    print(\"Hello!\")\n",
        "\n",
        "greet_user()"
      ],
      "metadata": {
        "colab": {
          "base_uri": "https://localhost:8080/"
        },
        "id": "SrGXWJSbwEc-",
        "outputId": "eef9a90a-4c94-47aa-d8bf-343d5fc5e8c4"
      },
      "execution_count": 15,
      "outputs": [
        {
          "output_type": "stream",
          "name": "stdout",
          "text": [
            "Hello!\n"
          ]
        }
      ]
    },
    {
      "cell_type": "code",
      "source": [
        "# Call the greet_user function\n",
        "help(greet_user)"
      ],
      "metadata": {
        "colab": {
          "base_uri": "https://localhost:8080/"
        },
        "id": "CDt0yjE04k5l",
        "outputId": "afb745d5-ef8b-4dff-cd70-44daec86bd33"
      },
      "execution_count": 14,
      "outputs": [
        {
          "output_type": "stream",
          "name": "stdout",
          "text": [
            "Help on function greet_user in module __main__:\n",
            "\n",
            "greet_user(username, hobby)\n",
            "    Display a simple greeting\n",
            "\n"
          ]
        }
      ]
    },
    {
      "cell_type": "code",
      "source": [
        "# Define a greet_user function\n",
        "# Add parameter to the greet_user function\n",
        "# username as parameter\n",
        "\n",
        "def greet_user(username, hobby):\n",
        "    \"\"\"Display a simple greeting\"\"\"\n",
        "    print(\"Hello \" + username.title() + \"!\")\n",
        "    print(username.title() + \" hobby is \" + hobby)\n",
        "\n",
        "greet_user(\"Afiqah\",\"cooking\")"
      ],
      "metadata": {
        "colab": {
          "base_uri": "https://localhost:8080/"
        },
        "id": "7dDjyWZ-47XK",
        "outputId": "b515702e-f32f-464e-8592-ca14075e2ed1"
      },
      "execution_count": 13,
      "outputs": [
        {
          "output_type": "stream",
          "name": "stdout",
          "text": [
            "Hello Afiqah!\n",
            "Afiqah hobby is cooking\n"
          ]
        }
      ]
    },
    {
      "cell_type": "code",
      "source": [
        "def describe_pet(animal_type, pet_name):\n",
        "    \"\"\"Display information about a pet\"\"\"\n",
        "    print(\"I have a \" + animal_type + \".\")\n",
        "    print(\"My \" + animal_type + \"'s name is \" + pet_name.title() + \".\")\n",
        "\n",
        "#describe_pet(animal_type = \"cat\",pet_name = \"junggle\")\n",
        "describe_pet(pet_name = \"junggle\", animal_type = \"cat\",)# using this position is not important"
      ],
      "metadata": {
        "colab": {
          "base_uri": "https://localhost:8080/"
        },
        "id": "KSQcK8fG5lbK",
        "outputId": "d8d6f285-7b74-431a-f87c-3e419baf85a9"
      },
      "execution_count": 12,
      "outputs": [
        {
          "output_type": "stream",
          "name": "stdout",
          "text": [
            "I have a cat.\n",
            "My cat's name is Junggle.\n"
          ]
        }
      ]
    },
    {
      "cell_type": "code",
      "source": [
        "# Adding default value for parameter in a function\n",
        "# Parameter with a default value needs to be listed after all the parameters that don’t have default values\n",
        "\n",
        "def describe_pet(pet_name, animal_type= 'lion'):\n",
        "    \"\"\"Display information about a pet\"\"\"\n",
        "    print(\"I have a  \" + animal_type)\n",
        "    print(\"My \" + animal_type + \"'s name is \" + pet_name.title())\n",
        "\n",
        "describe_pet(\"jungle\")"
      ],
      "metadata": {
        "colab": {
          "base_uri": "https://localhost:8080/"
        },
        "id": "77GuNTxb8J-N",
        "outputId": "2886f76f-e5c7-426f-959b-9f7f44a19fd1"
      },
      "execution_count": 11,
      "outputs": [
        {
          "output_type": "stream",
          "name": "stdout",
          "text": [
            "I have a  lion\n",
            "My lion's name is Jungle\n"
          ]
        }
      ]
    },
    {
      "cell_type": "code",
      "source": [
        "def describe_pet(pet_name = 'goldie', animal_type= 'gold fish'):\n",
        "    \"\"\"Display information about a pet\"\"\"\n",
        "    print(\"I have a  \" + animal_type)\n",
        "    print(\"My \" + animal_type + \"'s name is \" + pet_name.title())\n",
        "\n",
        "describe_pet('goldie','gold fish')"
      ],
      "metadata": {
        "colab": {
          "base_uri": "https://localhost:8080/"
        },
        "id": "hWkkcCl99VRr",
        "outputId": "77fec787-71dc-4e25-b45d-aabc7dae2089"
      },
      "execution_count": 10,
      "outputs": [
        {
          "output_type": "stream",
          "name": "stdout",
          "text": [
            "I have a  gold fish\n",
            "My gold fish's name is Goldie\n"
          ]
        }
      ]
    },
    {
      "cell_type": "code",
      "source": [
        "# Another example\n",
        "# Provide argument value in the correct order\n",
        "def describe_pet(animal_type, pet_name):\n",
        "    \"\"\"Display information about a pet\"\"\"\n",
        "    print(\"I have a  \" + animal_type)\n",
        "    print(\"My \" + animal_type + \"'s name is \" + pet_name.title())\n",
        "\n",
        "describe_pet('cat', 'coco')"
      ],
      "metadata": {
        "colab": {
          "base_uri": "https://localhost:8080/"
        },
        "id": "G0O4-0A9-1HJ",
        "outputId": "7223164f-bde7-4b02-ed69-058a7b43691a"
      },
      "execution_count": 9,
      "outputs": [
        {
          "output_type": "stream",
          "name": "stdout",
          "text": [
            "I have a  cat\n",
            "My cat's name is Coco\n"
          ]
        }
      ]
    },
    {
      "cell_type": "code",
      "source": [
        "# Define a function named get_formatted_name\n",
        "# This function will return a value\n",
        "\n",
        "def get_formatted_name(first_name, last_name):\n",
        "    \"\"\"Return a full name, neatly formatted\"\"\"\n",
        "    full_name = first_name + ' ' + last_name\n",
        "    return full_name.title()\n",
        "\n",
        "musician = get_formatted_name('azlin','rusnan')\n",
        "print(\"The musician name is \" + musician + \".\")"
      ],
      "metadata": {
        "colab": {
          "base_uri": "https://localhost:8080/"
        },
        "id": "0mHcxugh_AQL",
        "outputId": "acf7d67b-0be6-43bf-9baf-46f7f1318e55"
      },
      "execution_count": 8,
      "outputs": [
        {
          "output_type": "stream",
          "name": "stdout",
          "text": [
            "The musician name is Azlin Rusnan.\n"
          ]
        }
      ]
    },
    {
      "cell_type": "code",
      "source": [
        "# Default value always goes last!\n",
        "# Use if-else statement\n",
        "\n",
        "def get_formatted_name(first_name, last_name, middle_name=''):\n",
        "    \"\"\"Return a full name, neatly formatted\"\"\"\n",
        "    if middle_name:\n",
        "        full_name = first_name + ' ' + middle_name + ' ' + last_name\n",
        "    else:\n",
        "        full_name = first_name + ' ' + last_name\n",
        "    return full_name.title()\n",
        "\n",
        "musician = get_formatted_name('azlin', 'rusnan')\n",
        "print(musician)\n",
        "musician = get_formatted_name('nur', 'azlin', 'rusnan')\n",
        "print(musician)"
      ],
      "metadata": {
        "colab": {
          "base_uri": "https://localhost:8080/"
        },
        "id": "S--SL4ih_trt",
        "outputId": "2e6ac9ba-a53b-4923-9d32-c0da6ae69194"
      },
      "execution_count": 7,
      "outputs": [
        {
          "output_type": "stream",
          "name": "stdout",
          "text": [
            "Azlin Rusnan\n",
            "Nur Rusnan Azlin\n"
          ]
        }
      ]
    },
    {
      "cell_type": "code",
      "source": [
        "# Define a function named build_person\n",
        "\n",
        "def build_person(first_name, last_name):\n",
        "    \"\"\"Return a dictionary of information about a person profile\"\"\"\n",
        "    person = {'first': first_name, 'last': last_name}\n",
        "    return person\n",
        "\n",
        "# Test the build_person function\n",
        "# Create a variable named musician to collect information\n",
        "musician = build_person('bernard', 'lee')\n",
        "print(musician)"
      ],
      "metadata": {
        "colab": {
          "base_uri": "https://localhost:8080/"
        },
        "id": "p8XDnhp4B6XA",
        "outputId": "a13617ad-e3e6-4895-c05b-44b1e04729a1"
      },
      "execution_count": 6,
      "outputs": [
        {
          "output_type": "stream",
          "name": "stdout",
          "text": [
            "{'first': 'bernard', 'last': 'lee'}\n"
          ]
        }
      ]
    },
    {
      "cell_type": "code",
      "source": [
        "# Define the get_formatted_name function\n",
        "\n",
        "def get_formatted_name(first_name, last_name):\n",
        "    \"\"\"Return a full name, neatly formatted\"\"\"\n",
        "    full_name = first_name + ' ' + last_name\n",
        "    return full_name.title()\n",
        "\n",
        "while True:\n",
        "    print(\"\\n Please tell me your name: \")\n",
        "    print(\"(enter 'q at any time to quit)\")\n",
        "\n",
        "    f_name = input(\"First name: \")\n",
        "    if f_name == 'q':\n",
        "        break\n",
        "\n",
        "    l_name = input(\"Last name: \")\n",
        "    if l_name == 'q':\n",
        "        break\n",
        "\n",
        "    formatted_name = get_formatted_name(f_name, l_name)\n",
        "    print(\"\\nHello, \" + formatted_name + \"!\")"
      ],
      "metadata": {
        "colab": {
          "base_uri": "https://localhost:8080/"
        },
        "id": "Cp3SF8YWCwhI",
        "outputId": "a7721d02-e308-472a-8250-2628f5da0790"
      },
      "execution_count": 5,
      "outputs": [
        {
          "name": "stdout",
          "output_type": "stream",
          "text": [
            "\n",
            " Please tell me your name: \n",
            "(enter 'q at any time to quit)\n",
            "First name: q\n"
          ]
        }
      ]
    },
    {
      "cell_type": "code",
      "source": [
        "# Define a make_pizza function\n",
        "# Using an asterisk (*) to make a tuple # tuple is cannot change\n",
        "# Using a for loop\n",
        "\n",
        "def make_pizza(size, *toppings):\n",
        "    \"\"\"Summarise the pizza we are about to make\"\"\"\n",
        "    print(\"\\nMaking a \" + str(size) + \"-inch piza with the following toppings: \")\n",
        "\n",
        "    for topping in toppings:\n",
        "        print(\"-\" + topping)\n",
        "\n",
        "make_pizza(16, 'tuna and pineapple')\n",
        "make_pizza(16, 'tuna', 'nanas', 'extra cheese' ,'crab meat', 'pickles')"
      ],
      "metadata": {
        "colab": {
          "base_uri": "https://localhost:8080/"
        },
        "id": "tspgvZu8m9RR",
        "outputId": "f4125ab0-e3e1-4104-8799-bcce547447b6"
      },
      "execution_count": 22,
      "outputs": [
        {
          "output_type": "stream",
          "name": "stdout",
          "text": [
            "\n",
            "Making a 16-inch piza with the following toppings: \n",
            "-tuna and pineapple\n",
            "\n",
            "Making a 16-inch piza with the following toppings: \n",
            "-tuna\n",
            "-nanas\n",
            "-extra cheese\n",
            "-crab meat\n",
            "-pickles\n"
          ]
        }
      ]
    },
    {
      "cell_type": "code",
      "source": [
        "# Define a build_profile function\n",
        "# Use a double asterisk (**) to create empty dictionary [to store key-value pairs]\n",
        "# Using a for loop\n",
        "\n",
        "def build_profile(first, last, **user_info):\n",
        "    \"\"\"Build a dictionary containing everything we know about a user\"\"\"\n",
        "    profile = {}\n",
        "    profile['first name'] = first\n",
        "    profile['last name'] = last\n",
        "\n",
        "    for key, value in user_info.items():\n",
        "        profile[key] = value\n",
        "    return profile\n",
        "\n",
        "user_profile = build_profile('azlin','rusnan',\n",
        "                             location = 'selangor',\n",
        "                             field = 'IT')\n",
        "\n",
        "print(user_profile)"
      ],
      "metadata": {
        "colab": {
          "base_uri": "https://localhost:8080/"
        },
        "id": "lmdcEgdnpBmp",
        "outputId": "df0b5b0d-ec54-4209-ea9b-e74122813af4"
      },
      "execution_count": 24,
      "outputs": [
        {
          "output_type": "stream",
          "name": "stdout",
          "text": [
            "{'first name': 'azlin', 'last name': 'rusnan', 'location': 'selangor', 'field': 'IT'}\n"
          ]
        }
      ]
    },
    {
      "cell_type": "markdown",
      "source": [
        "#**Storing functions as Modules**\n"
      ],
      "metadata": {
        "id": "kWYCrauJqxjD"
      }
    },
    {
      "cell_type": "code",
      "source": [
        "# We need to first mount to the Google Drive as we are now in the \"cloud\"\n",
        "# The module we need is saved in the Google Drive\n",
        "\n",
        "from google.colab import drive\n",
        "drive.mount('/content/drive')"
      ],
      "metadata": {
        "colab": {
          "base_uri": "https://localhost:8080/"
        },
        "id": "HHx8i5Niq391",
        "outputId": "0ea27c17-d972-4bb9-f64b-05803af5cfce"
      },
      "execution_count": 26,
      "outputs": [
        {
          "output_type": "stream",
          "name": "stdout",
          "text": [
            "Drive already mounted at /content/drive; to attempt to forcibly remount, call drive.mount(\"/content/drive\", force_remount=True).\n"
          ]
        }
      ]
    },
    {
      "cell_type": "markdown",
      "source": [
        "#**Method I: Manual upload from our local computer (very troublesome)**\n",
        "-make a python module named pizza.py in your local computer\n",
        "-upload to the Google Drive"
      ],
      "metadata": {
        "id": "eZcyqaRBrq4U"
      }
    },
    {
      "cell_type": "code",
      "source": [
        "# Upload the module called pizza.py from local computer\n",
        "# Copy to the /content file location\n",
        "# We are currently run in /content -> the \"cloud\"\n",
        "\n",
        "!cp /content/drive/MyDrive/Colab_Notebooks/pizza.py /content"
      ],
      "metadata": {
        "id": "sokeH5oJr6k5"
      },
      "execution_count": 27,
      "outputs": []
    },
    {
      "cell_type": "code",
      "source": [
        "# Import the pizza.py module\n",
        "# Each function in the module is available\n",
        "\n",
        "import pizza\n",
        "\n",
        "# Run the make_pizza function\n",
        "# the make_pizza function is defined in the pizza module\n",
        "\n",
        "pizza.make_pizza(16, 'tuna')\n",
        "pizza.make_pizza(16, 'mushrooms', 'green peppers', 'extra cheese')"
      ],
      "metadata": {
        "colab": {
          "base_uri": "https://localhost:8080/"
        },
        "id": "BEXhmxLfsgXI",
        "outputId": "192133b3-7bb9-42e1-ee6e-4d25d5057e2c"
      },
      "execution_count": 28,
      "outputs": [
        {
          "output_type": "stream",
          "name": "stdout",
          "text": [
            "\n",
            "Making a 16-inch pizza with the following toppings:\n",
            "-tuna\n",
            "\n",
            "Making a 16-inch pizza with the following toppings:\n",
            "-mushrooms\n",
            "-green peppers\n",
            "-extra cheese\n"
          ]
        }
      ]
    },
    {
      "cell_type": "code",
      "source": [
        "# Run power of two punya function\n",
        "pizza.pow2(2)"
      ],
      "metadata": {
        "colab": {
          "base_uri": "https://localhost:8080/"
        },
        "id": "t15VhaT7tMqJ",
        "outputId": "f8d31490-0cf5-48a5-9b49-cbd027b61893"
      },
      "execution_count": 29,
      "outputs": [
        {
          "output_type": "execute_result",
          "data": {
            "text/plain": [
              "4"
            ]
          },
          "metadata": {},
          "execution_count": 29
        }
      ]
    },
    {
      "cell_type": "markdown",
      "source": [
        "#**Executing from module_name import function_name**\n",
        "import a specific function from a module.\n",
        "don’t need to use the dot notation when we call a function"
      ],
      "metadata": {
        "id": "DzZOq62YtonD"
      }
    },
    {
      "cell_type": "code",
      "source": [
        "from pizza import make_pizza\n",
        "\n",
        "make_pizza(16, ' tuna')"
      ],
      "metadata": {
        "colab": {
          "base_uri": "https://localhost:8080/"
        },
        "id": "m-rrcjzWth9Y",
        "outputId": "9f7aab5a-5549-40d0-98c6-7ab21c7bad4f"
      },
      "execution_count": 30,
      "outputs": [
        {
          "output_type": "stream",
          "name": "stdout",
          "text": [
            "\n",
            "Making a 16-inch pizza with the following toppings:\n",
            "- tuna\n"
          ]
        }
      ]
    },
    {
      "cell_type": "markdown",
      "source": [
        "#**Method II: Semi-Manual upload module to Google Drive**"
      ],
      "metadata": {
        "id": "qW7p-1FluWcP"
      }
    },
    {
      "cell_type": "code",
      "source": [
        "# Semi-manual upload module\n",
        "from google.colab import files\n",
        "files.upload()"
      ],
      "metadata": {
        "colab": {
          "base_uri": "https://localhost:8080/",
          "height": 125
        },
        "id": "LUfEdpEKuGLZ",
        "outputId": "605fa1ce-0fe8-4444-84fb-704b20ad2c4d"
      },
      "execution_count": 31,
      "outputs": [
        {
          "output_type": "display_data",
          "data": {
            "text/plain": [
              "<IPython.core.display.HTML object>"
            ],
            "text/html": [
              "\n",
              "     <input type=\"file\" id=\"files-9627f579-555f-4086-815f-a2b06fe0d022\" name=\"files[]\" multiple disabled\n",
              "        style=\"border:none\" />\n",
              "     <output id=\"result-9627f579-555f-4086-815f-a2b06fe0d022\">\n",
              "      Upload widget is only available when the cell has been executed in the\n",
              "      current browser session. Please rerun this cell to enable.\n",
              "      </output>\n",
              "      <script>// Copyright 2017 Google LLC\n",
              "//\n",
              "// Licensed under the Apache License, Version 2.0 (the \"License\");\n",
              "// you may not use this file except in compliance with the License.\n",
              "// You may obtain a copy of the License at\n",
              "//\n",
              "//      http://www.apache.org/licenses/LICENSE-2.0\n",
              "//\n",
              "// Unless required by applicable law or agreed to in writing, software\n",
              "// distributed under the License is distributed on an \"AS IS\" BASIS,\n",
              "// WITHOUT WARRANTIES OR CONDITIONS OF ANY KIND, either express or implied.\n",
              "// See the License for the specific language governing permissions and\n",
              "// limitations under the License.\n",
              "\n",
              "/**\n",
              " * @fileoverview Helpers for google.colab Python module.\n",
              " */\n",
              "(function(scope) {\n",
              "function span(text, styleAttributes = {}) {\n",
              "  const element = document.createElement('span');\n",
              "  element.textContent = text;\n",
              "  for (const key of Object.keys(styleAttributes)) {\n",
              "    element.style[key] = styleAttributes[key];\n",
              "  }\n",
              "  return element;\n",
              "}\n",
              "\n",
              "// Max number of bytes which will be uploaded at a time.\n",
              "const MAX_PAYLOAD_SIZE = 100 * 1024;\n",
              "\n",
              "function _uploadFiles(inputId, outputId) {\n",
              "  const steps = uploadFilesStep(inputId, outputId);\n",
              "  const outputElement = document.getElementById(outputId);\n",
              "  // Cache steps on the outputElement to make it available for the next call\n",
              "  // to uploadFilesContinue from Python.\n",
              "  outputElement.steps = steps;\n",
              "\n",
              "  return _uploadFilesContinue(outputId);\n",
              "}\n",
              "\n",
              "// This is roughly an async generator (not supported in the browser yet),\n",
              "// where there are multiple asynchronous steps and the Python side is going\n",
              "// to poll for completion of each step.\n",
              "// This uses a Promise to block the python side on completion of each step,\n",
              "// then passes the result of the previous step as the input to the next step.\n",
              "function _uploadFilesContinue(outputId) {\n",
              "  const outputElement = document.getElementById(outputId);\n",
              "  const steps = outputElement.steps;\n",
              "\n",
              "  const next = steps.next(outputElement.lastPromiseValue);\n",
              "  return Promise.resolve(next.value.promise).then((value) => {\n",
              "    // Cache the last promise value to make it available to the next\n",
              "    // step of the generator.\n",
              "    outputElement.lastPromiseValue = value;\n",
              "    return next.value.response;\n",
              "  });\n",
              "}\n",
              "\n",
              "/**\n",
              " * Generator function which is called between each async step of the upload\n",
              " * process.\n",
              " * @param {string} inputId Element ID of the input file picker element.\n",
              " * @param {string} outputId Element ID of the output display.\n",
              " * @return {!Iterable<!Object>} Iterable of next steps.\n",
              " */\n",
              "function* uploadFilesStep(inputId, outputId) {\n",
              "  const inputElement = document.getElementById(inputId);\n",
              "  inputElement.disabled = false;\n",
              "\n",
              "  const outputElement = document.getElementById(outputId);\n",
              "  outputElement.innerHTML = '';\n",
              "\n",
              "  const pickedPromise = new Promise((resolve) => {\n",
              "    inputElement.addEventListener('change', (e) => {\n",
              "      resolve(e.target.files);\n",
              "    });\n",
              "  });\n",
              "\n",
              "  const cancel = document.createElement('button');\n",
              "  inputElement.parentElement.appendChild(cancel);\n",
              "  cancel.textContent = 'Cancel upload';\n",
              "  const cancelPromise = new Promise((resolve) => {\n",
              "    cancel.onclick = () => {\n",
              "      resolve(null);\n",
              "    };\n",
              "  });\n",
              "\n",
              "  // Wait for the user to pick the files.\n",
              "  const files = yield {\n",
              "    promise: Promise.race([pickedPromise, cancelPromise]),\n",
              "    response: {\n",
              "      action: 'starting',\n",
              "    }\n",
              "  };\n",
              "\n",
              "  cancel.remove();\n",
              "\n",
              "  // Disable the input element since further picks are not allowed.\n",
              "  inputElement.disabled = true;\n",
              "\n",
              "  if (!files) {\n",
              "    return {\n",
              "      response: {\n",
              "        action: 'complete',\n",
              "      }\n",
              "    };\n",
              "  }\n",
              "\n",
              "  for (const file of files) {\n",
              "    const li = document.createElement('li');\n",
              "    li.append(span(file.name, {fontWeight: 'bold'}));\n",
              "    li.append(span(\n",
              "        `(${file.type || 'n/a'}) - ${file.size} bytes, ` +\n",
              "        `last modified: ${\n",
              "            file.lastModifiedDate ? file.lastModifiedDate.toLocaleDateString() :\n",
              "                                    'n/a'} - `));\n",
              "    const percent = span('0% done');\n",
              "    li.appendChild(percent);\n",
              "\n",
              "    outputElement.appendChild(li);\n",
              "\n",
              "    const fileDataPromise = new Promise((resolve) => {\n",
              "      const reader = new FileReader();\n",
              "      reader.onload = (e) => {\n",
              "        resolve(e.target.result);\n",
              "      };\n",
              "      reader.readAsArrayBuffer(file);\n",
              "    });\n",
              "    // Wait for the data to be ready.\n",
              "    let fileData = yield {\n",
              "      promise: fileDataPromise,\n",
              "      response: {\n",
              "        action: 'continue',\n",
              "      }\n",
              "    };\n",
              "\n",
              "    // Use a chunked sending to avoid message size limits. See b/62115660.\n",
              "    let position = 0;\n",
              "    do {\n",
              "      const length = Math.min(fileData.byteLength - position, MAX_PAYLOAD_SIZE);\n",
              "      const chunk = new Uint8Array(fileData, position, length);\n",
              "      position += length;\n",
              "\n",
              "      const base64 = btoa(String.fromCharCode.apply(null, chunk));\n",
              "      yield {\n",
              "        response: {\n",
              "          action: 'append',\n",
              "          file: file.name,\n",
              "          data: base64,\n",
              "        },\n",
              "      };\n",
              "\n",
              "      let percentDone = fileData.byteLength === 0 ?\n",
              "          100 :\n",
              "          Math.round((position / fileData.byteLength) * 100);\n",
              "      percent.textContent = `${percentDone}% done`;\n",
              "\n",
              "    } while (position < fileData.byteLength);\n",
              "  }\n",
              "\n",
              "  // All done.\n",
              "  yield {\n",
              "    response: {\n",
              "      action: 'complete',\n",
              "    }\n",
              "  };\n",
              "}\n",
              "\n",
              "scope.google = scope.google || {};\n",
              "scope.google.colab = scope.google.colab || {};\n",
              "scope.google.colab._files = {\n",
              "  _uploadFiles,\n",
              "  _uploadFilesContinue,\n",
              "};\n",
              "})(self);\n",
              "</script> "
            ]
          },
          "metadata": {}
        },
        {
          "output_type": "stream",
          "name": "stdout",
          "text": [
            "Saving pizza.py to pizza (1).py\n"
          ]
        },
        {
          "output_type": "execute_result",
          "data": {
            "text/plain": [
              "{'pizza (1).py': b'# -*- coding: utf-8 -*-\\n\"\"\"pizza.ipynb\\n\\nAutomatically generated by Colaboratory.\\n\\nOriginal file is located at\\n    https://colab.research.google.com/drive/1vdYsT9NvP8W7GqfCIvZmsw_xIiXeZoMd\\n\"\"\"\\n\\ndef make_pizza(size, *toppings):\\n    \"\"\"Summarise the pizza we are about to make\"\"\"\\n    print(\"\\\\nMaking a \" + str(size) + \"-inch pizza with the following toppings:\")\\n\\n    for topping in toppings:\\n        print(\"-\" + topping)\\n\\ndef pow2(x):\\n    \"\"\"Make power of 2\"\"\"\\n    return x**2'}"
            ]
          },
          "metadata": {},
          "execution_count": 31
        }
      ]
    },
    {
      "cell_type": "code",
      "source": [
        "# Run the module and function\n",
        "\n",
        "from pizza import make_pizza\n",
        "\n",
        "make_pizza(16, 'tuna')"
      ],
      "metadata": {
        "colab": {
          "base_uri": "https://localhost:8080/"
        },
        "id": "LVZKt9mqunTw",
        "outputId": "26e99121-f329-43e2-a2d5-f32af39422f4"
      },
      "execution_count": 32,
      "outputs": [
        {
          "output_type": "stream",
          "name": "stdout",
          "text": [
            "\n",
            "Making a 16-inch pizza with the following toppings:\n",
            "-tuna\n"
          ]
        }
      ]
    },
    {
      "cell_type": "code",
      "source": [
        "import pizza\n",
        "\n",
        "pizza.make_pizza(16, 'tuna')"
      ],
      "metadata": {
        "colab": {
          "base_uri": "https://localhost:8080/"
        },
        "id": "LhxdhfBBuynW",
        "outputId": "45c33f54-c527-4fa2-bb30-d8933b46dd62"
      },
      "execution_count": 33,
      "outputs": [
        {
          "output_type": "stream",
          "name": "stdout",
          "text": [
            "\n",
            "Making a 16-inch pizza with the following toppings:\n",
            "-tuna\n"
          ]
        }
      ]
    },
    {
      "cell_type": "markdown",
      "source": [
        "#**Creating and using a Class**\n",
        "\n",
        "*   We'll start by writing a simple class named Dog\n",
        "\n",
        "*   represents a dog — not one dog in particular, but any dog (common attritubes)\n",
        "\n",
        "a name and age (information)\n",
        "most dogs sit and roll over (behaviours)\n",
        "\n"
      ],
      "metadata": {
        "id": "qsg6r0qJvjtp"
      }
    },
    {
      "cell_type": "code",
      "source": [
        "# Creating the Cat Class\n",
        "# Capitalized the name - in this case \"Cat\"\n",
        "#_init_() method is a special method Python runs automatically whenever we create a new instance based on the Dog class\n",
        "\n",
        "#has two leading underscores and two trailing underscores\n",
        "#self parameter is required in the method definition\n",
        "#must come first before the other parameters\n",
        "#Every method call associated with a class automatically passes self, which is a reference to the instance itself\n",
        "#When we make an instance of Dog, Python will call the _init_() method from the Dog class.\n",
        "#We’ll then pass Dog() a name and an age as arguments\n",
        "#self is passed automatically, so we don’t need to pass it.\n",
        "\n",
        "class Cat():\n",
        "    \"\"\"A simple attempt to model a cat.\"\"\"\n",
        "    def __init__(self, name, age, color): #self, names, age is called parameters\n",
        "        \"\"\"Initialize name and age attributes\"\"\"\n",
        "        self.name = name\n",
        "        self.age = age\n",
        "        self.color = color\n",
        "    def sit(self):\n",
        "        \"\"\"simulate a cat to sit in response to a command\"\"\"\n",
        "        print(self.name.title() + \" is now sitting.\")\n",
        "    def roll_over(self):\n",
        "        \"\"\"simulate rolling over in response to a command\"\"\"\n",
        "        print(self.name.title() + \" rolled over!\")\n",
        "\n",
        "# Making an instance of a cat\n",
        "# Store the instance in the variable named my_cat\n",
        "# Capitalized name like Cat refers to a class\n",
        "# Lowercase name like my_dog refers to a single instance created from a class\n",
        "\n",
        "my_cat = Cat('anggun', 6, 'brown')\n",
        "my_cat.name\n",
        "my_cat.age\n",
        "my_cat.color\n",
        "\n",
        "# summary\n",
        "print(\"My cat name is \" + my_cat.name.title() + '.' + \" She is \" + str(my_cat.age) + \" years old and she is \" + my_cat.color + \" in color\")\n",
        "my_cat.sit()\n",
        "my_cat.roll_over()"
      ],
      "metadata": {
        "colab": {
          "base_uri": "https://localhost:8080/"
        },
        "id": "KIIdjH5au5s4",
        "outputId": "b272a7e9-e719-4504-8919-408afdb1ebeb"
      },
      "execution_count": 47,
      "outputs": [
        {
          "output_type": "stream",
          "name": "stdout",
          "text": [
            "My cat name is Anggun. She is 6 years old and she is brown in color\n",
            "Anggun is now sitting.\n",
            "Anggun rolled over!\n"
          ]
        }
      ]
    },
    {
      "cell_type": "code",
      "source": [
        "#creating multiple instances\n",
        "my_cat = Cat('citra', 6, 'white')\n",
        "your_cat = Cat('puteh', 3, 'brown')\n",
        "\n",
        "print(\"My cat name is \" + my_cat.name.title() + '.' + \" She is \" + str(my_cat.age) + \" years old and she is \" + my_cat.color + \" in color\")\n",
        "my_cat.sit()\n",
        "print(\"Your cat name is \" + your_cat.name.title() + '.' + \" She is \" + str(your_cat.age) + \" years old and she is \" + your_cat.color + \" in color\")\n",
        "your_cat.roll_over()"
      ],
      "metadata": {
        "colab": {
          "base_uri": "https://localhost:8080/"
        },
        "id": "Rp3U6aAJxpMd",
        "outputId": "b4f4b649-7607-47da-ea23-5e01127fbe05"
      },
      "execution_count": 50,
      "outputs": [
        {
          "output_type": "stream",
          "name": "stdout",
          "text": [
            "My cat name is Citra. She is 6 years old and she is white in color\n",
            "Citra is now sitting.\n",
            "Your cat name is Puteh. She is 3 years old and she is brown in color\n",
            "Puteh rolled over!\n"
          ]
        }
      ]
    },
    {
      "cell_type": "code",
      "source": [
        "class Car():\n",
        "    \"\"\"A simple attempt to represent a car\"\"\"\n",
        "    def __init__(self, make, model, year):\n",
        "        \"\"\"Initialize attributes to describe a car\"\"\"\n",
        "        self.make = make\n",
        "        self.model = model\n",
        "        self.year = year\n",
        "\n",
        "    def get_descriptive_name(self):\n",
        "        \"\"\"Return a neatly formatted descriptive name\"\"\"\n",
        "        long_name = str(self.year) + ' ' + self.make + ' ' + self.model\n",
        "        return long_name.title()\n",
        "\n",
        "my_new_car = Car('audi', 'a4', 2016)\n",
        "print(my_new_car.get_descriptive_name())\n",
        "\n"
      ],
      "metadata": {
        "colab": {
          "base_uri": "https://localhost:8080/"
        },
        "id": "aH_VB1zg2G6w",
        "outputId": "9a6ac410-59c3-4854-ca71-6aff130a4c5f"
      },
      "execution_count": 59,
      "outputs": [
        {
          "output_type": "stream",
          "name": "stdout",
          "text": [
            "2016 Audi A4\n"
          ]
        }
      ]
    },
    {
      "cell_type": "code",
      "source": [
        "class Car():\n",
        "    \"\"\"A simple attempt to represent a car\"\"\"\n",
        "    def __init__(self, make, model, year, odometer_reading = 99999999):\n",
        "        \"\"\"Initialize attributes to describe a car\"\"\"\n",
        "        self.make = make\n",
        "        self.model = model\n",
        "        self.year = year\n",
        "        self.odometer_reading = odometer_reading\n",
        "\n",
        "    def get_descriptive_name(self):\n",
        "        \"\"\"Return a neatly formatted descriptive name\"\"\"\n",
        "        long_name = str(self.year) + ' ' + self.make + ' ' + self.model\n",
        "        return long_name.title()\n",
        "\n",
        "    #Setting a Default Value for an Attribute\n",
        "    def read_odometer(self):\n",
        "        \"\"\"Print a statement showing the car's mileage\"\"\"\n",
        "        print(\"This car has \" + str(self.odometer_reading) + \" miles on it.\")\n",
        "\n",
        "my_new_car = Car('audi', 'a4', 2016)\n",
        "print(my_new_car.get_descriptive_name())\n",
        "\n",
        "# Modifying an attribute’s Value Directly\n",
        "my_new_car.odometer_reading = 23\n",
        "my_new_car.read_odometer()"
      ],
      "metadata": {
        "colab": {
          "base_uri": "https://localhost:8080/"
        },
        "id": "XJGC_7eA4jva",
        "outputId": "865df83d-e793-4173-87b6-13ab4839cf90"
      },
      "execution_count": 67,
      "outputs": [
        {
          "output_type": "stream",
          "name": "stdout",
          "text": [
            "2016 Audi A4\n",
            "This car has 23 miles on it.\n"
          ]
        }
      ]
    },
    {
      "cell_type": "code",
      "source": [
        "class Car():\n",
        "    \"\"\"A simple attempt to represent a car\"\"\"\n",
        "    def __init__(self, make, model, year):\n",
        "        \"\"\"Initialize attributes to describe a car\"\"\"\n",
        "        self.make = make\n",
        "        self.model = model\n",
        "        self.year = year\n",
        "        self.odometer_reading = 0\n",
        "\n",
        "    def get_descriptive_name(self):\n",
        "        \"\"\"Return a neatly formatted descriptive name\"\"\"\n",
        "        long_name = str(self.year) + ' ' + self.make + ' ' + self.model\n",
        "        return long_name.title()\n",
        "\n",
        "    # Setting a Default Value for an Attribute\n",
        "    def read_odometer(self):\n",
        "        \"\"\"Print a statement showing the car's mileage\"\"\"\n",
        "        print(\"This car has \" + str(self.odometer_reading) + \" miles on it.\")\n",
        "\n",
        "    # Modifying an attribute’s Value through a Method\n",
        "    def update_odometer(self, mileage):\n",
        "        \"\"\"Set the odometer reading to the given value\"\"\"\n",
        "        self.odometer_reading = mileage\n",
        "\n",
        "my_new_car = Car('audi', 'a4', 2016)\n",
        "print(my_new_car.get_descriptive_name())\n",
        "\n",
        "#update the mileage\n",
        "my_new_car.update_odometer(500)\n",
        "my_new_car.read_odometer()"
      ],
      "metadata": {
        "colab": {
          "base_uri": "https://localhost:8080/"
        },
        "id": "U9Q2wEbn6nID",
        "outputId": "d272a9e2-6711-44a7-b87d-14710fc812d1"
      },
      "execution_count": 71,
      "outputs": [
        {
          "output_type": "stream",
          "name": "stdout",
          "text": [
            "2016 Audi A4\n",
            "This car has 500 miles on it.\n"
          ]
        }
      ]
    },
    {
      "cell_type": "code",
      "source": [],
      "metadata": {
        "id": "1o2Js_289Q7o"
      },
      "execution_count": null,
      "outputs": []
    }
  ]
}