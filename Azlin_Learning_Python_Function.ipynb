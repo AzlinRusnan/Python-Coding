{
  "nbformat": 4,
  "nbformat_minor": 0,
  "metadata": {
    "colab": {
      "provenance": [],
      "authorship_tag": "ABX9TyMx95+8YPZX2swh5GXZOD+q",
      "include_colab_link": true
    },
    "kernelspec": {
      "name": "python3",
      "display_name": "Python 3"
    },
    "language_info": {
      "name": "python"
    }
  },
  "cells": [
    {
      "cell_type": "markdown",
      "metadata": {
        "id": "view-in-github",
        "colab_type": "text"
      },
      "source": [
        "<a href=\"https://colab.research.google.com/github/AzlinRusnan/Python-Coding/blob/main/Azlin_Learning_Python_Function.ipynb\" target=\"_parent\"><img src=\"https://colab.research.google.com/assets/colab-badge.svg\" alt=\"Open In Colab\"/></a>"
      ]
    },
    {
      "cell_type": "code",
      "execution_count": 5,
      "metadata": {
        "id": "yAvabGGetYCe",
        "colab": {
          "base_uri": "https://localhost:8080/"
        },
        "outputId": "fcad5f9d-6bd9-4723-9bed-4f96e673d198"
      },
      "outputs": [
        {
          "output_type": "stream",
          "name": "stdout",
          "text": [
            "Happy birthday to you!\n",
            "You are old!\n",
            "Happy birthday to you!\n",
            "\n"
          ]
        }
      ],
      "source": [
        "# function = a block of reusable code\n",
        "# place () after the function name to invoke it\n",
        "\n",
        "def happy_birthday():\n",
        "    print(\"Happy birthday to you!\")\n",
        "    print(\"You are old!\")\n",
        "    print(\"Happy birthday to you!\")\n",
        "    print()\n",
        "\n",
        "happy_birthday()"
      ]
    },
    {
      "cell_type": "code",
      "source": [
        "# put name\n",
        "# the order of the argument does matter\n",
        "def happy_birthday(name, age):\n",
        "    print(f\"Happy birthday to {name}!\")\n",
        "    print(f\"You are {age} old!\")\n",
        "    print(\"Happy birthday to you!\")\n",
        "    print()\n",
        "\n",
        "happy_birthday(\"Azlin\", 32)\n",
        "happy_birthday(\"Azizey\", 35)\n",
        "happy_birthday(\"Anaqey\", 5)\n",
        "happy_birthday(\"Azraqey\" ,2)"
      ],
      "metadata": {
        "colab": {
          "base_uri": "https://localhost:8080/"
        },
        "id": "yJV0t7fHviJQ",
        "outputId": "70bf5d15-6bd0-4d15-8a2e-2057b531bd72"
      },
      "execution_count": 9,
      "outputs": [
        {
          "output_type": "stream",
          "name": "stdout",
          "text": [
            "Happy birthday to Azlin!\n",
            "You are 32 old!\n",
            "Happy birthday to you!\n",
            "\n",
            "Happy birthday to Azizey!\n",
            "You are 35 old!\n",
            "Happy birthday to you!\n",
            "\n",
            "Happy birthday to Anaqey!\n",
            "You are 5 old!\n",
            "Happy birthday to you!\n",
            "\n",
            "Happy birthday to Azraqey!\n",
            "You are 2 old!\n",
            "Happy birthday to you!\n",
            "\n"
          ]
        }
      ]
    },
    {
      "cell_type": "code",
      "source": [
        "# Define a greet_user function\n",
        "# Use the docstring in triple quotes to explain what your function would like to do\n",
        "# Always remember to put this docstring\n",
        "def greet_user():\n",
        "    \"\"\"Display a simple greeting\"\"\"\n",
        "    print(\"Hello!\")\n",
        "\n",
        "greet_user()"
      ],
      "metadata": {
        "colab": {
          "base_uri": "https://localhost:8080/"
        },
        "id": "SrGXWJSbwEc-",
        "outputId": "47dd4e67-73fa-46c6-cde2-2cf41d124718"
      },
      "execution_count": 14,
      "outputs": [
        {
          "output_type": "stream",
          "name": "stdout",
          "text": [
            "Hello!\n"
          ]
        }
      ]
    },
    {
      "cell_type": "code",
      "source": [
        "# Call the greet_user function\n",
        "help(greet_user)"
      ],
      "metadata": {
        "colab": {
          "base_uri": "https://localhost:8080/"
        },
        "id": "CDt0yjE04k5l",
        "outputId": "e5679cff-962f-4701-de34-e887854d25b1"
      },
      "execution_count": 15,
      "outputs": [
        {
          "output_type": "stream",
          "name": "stdout",
          "text": [
            "Help on function greet_user in module __main__:\n",
            "\n",
            "greet_user()\n",
            "    Display a simple greeting\n",
            "\n"
          ]
        }
      ]
    },
    {
      "cell_type": "code",
      "source": [
        "# Define a greet_user function\n",
        "# Add parameter to the greet_user function\n",
        "# username as parameter\n",
        "\n",
        "def greet_user(username, hobby):\n",
        "    \"\"\"Display a simple greeting\"\"\"\n",
        "    print(\"Hello \" + username.title() + \"!\")\n",
        "    print(username.title() + \" hobby is \" + hobby)\n",
        "\n",
        "greet_user(\"Afiqah\",\"cooking\")"
      ],
      "metadata": {
        "colab": {
          "base_uri": "https://localhost:8080/"
        },
        "id": "7dDjyWZ-47XK",
        "outputId": "e57e6e10-9070-4fd9-f51a-2c08283d3834"
      },
      "execution_count": 21,
      "outputs": [
        {
          "output_type": "stream",
          "name": "stdout",
          "text": [
            "Hello Afiqah!\n",
            "Afiqah hobby is cooking\n"
          ]
        }
      ]
    },
    {
      "cell_type": "code",
      "source": [
        "def describe_pet(animal_type, pet_name):\n",
        "    \"\"\"Display information about a pet\"\"\"\n",
        "    print(\"I have a \" + animal_type + \".\")\n",
        "    print(\"My \" + animal_type + \"'s name is \" + pet_name.title() + \".\")\n",
        "\n",
        "#describe_pet(animal_type = \"cat\",pet_name = \"junggle\")\n",
        "describe_pet(pet_name = \"junggle\", animal_type = \"cat\",)# using this position is not important"
      ],
      "metadata": {
        "colab": {
          "base_uri": "https://localhost:8080/"
        },
        "id": "KSQcK8fG5lbK",
        "outputId": "073ada06-ee6b-46a7-aacc-1198aed13593"
      },
      "execution_count": 25,
      "outputs": [
        {
          "output_type": "stream",
          "name": "stdout",
          "text": [
            "I have a cat.\n",
            "My cat's name is Junggle.\n"
          ]
        }
      ]
    },
    {
      "cell_type": "code",
      "source": [
        "# Adding default value for parameter in a function\n",
        "# Parameter with a default value needs to be listed after all the parameters that don’t have default values\n",
        "\n",
        "def describe_pet(pet_name, animal_type= 'lion'):\n",
        "    \"\"\"Display information about a pet\"\"\"\n",
        "    print(\"I have a  \" + animal_type)\n",
        "    print(\"My \" + animal_type + \"'s name is \" + pet_name.title())\n",
        "\n",
        "describe_pet(\"jungle\")"
      ],
      "metadata": {
        "colab": {
          "base_uri": "https://localhost:8080/"
        },
        "id": "77GuNTxb8J-N",
        "outputId": "87ea81ef-e625-4383-a6ed-b0266f5254bb"
      },
      "execution_count": 26,
      "outputs": [
        {
          "output_type": "stream",
          "name": "stdout",
          "text": [
            "I have a  lion\n",
            "My lion's name is Jungle\n"
          ]
        }
      ]
    },
    {
      "cell_type": "code",
      "source": [
        "def describe_pet(pet_name = 'goldie', animal_type= 'gold fish'):\n",
        "    \"\"\"Display information about a pet\"\"\"\n",
        "    print(\"I have a  \" + animal_type)\n",
        "    print(\"My \" + animal_type + \"'s name is \" + pet_name.title())\n",
        "\n",
        "describe_pet('goldie','gold fish')"
      ],
      "metadata": {
        "colab": {
          "base_uri": "https://localhost:8080/"
        },
        "id": "hWkkcCl99VRr",
        "outputId": "34acc7cd-9b3d-4e85-eb44-c42c50d40ff1"
      },
      "execution_count": 28,
      "outputs": [
        {
          "output_type": "stream",
          "name": "stdout",
          "text": [
            "I have a  gold fish\n",
            "My gold fish's name is Goldie\n"
          ]
        }
      ]
    },
    {
      "cell_type": "code",
      "source": [
        "# Another example\n",
        "# Provide argument value in the correct order\n",
        "def describe_pet(animal_type, pet_name):\n",
        "    \"\"\"Display information about a pet\"\"\"\n",
        "    print(\"I have a  \" + animal_type)\n",
        "    print(\"My \" + animal_type + \"'s name is \" + pet_name.title())\n",
        "\n",
        "describe_pet('cat', 'coco')"
      ],
      "metadata": {
        "colab": {
          "base_uri": "https://localhost:8080/"
        },
        "id": "G0O4-0A9-1HJ",
        "outputId": "20792285-2660-425e-d396-0c654fad7f5d"
      },
      "execution_count": 30,
      "outputs": [
        {
          "output_type": "stream",
          "name": "stdout",
          "text": [
            "I have a  cat\n",
            "My cat's name is Coco\n"
          ]
        }
      ]
    },
    {
      "cell_type": "code",
      "source": [
        "# Define a function named get_formatted_name\n",
        "# This function will return a value\n",
        "\n",
        "def get_formatted_name(first_name, last_name):\n",
        "    \"\"\"Return a full name, neatly formatted\"\"\"\n",
        "    full_name = first_name + ' ' + last_name\n",
        "    return full_name.title()\n",
        "\n",
        "musician = get_formatted_name('azlin','rusnan')\n",
        "print(\"The musician name is \" + musician + \".\")"
      ],
      "metadata": {
        "colab": {
          "base_uri": "https://localhost:8080/"
        },
        "id": "0mHcxugh_AQL",
        "outputId": "de92839d-398b-4821-a5f4-52e5714fac5a"
      },
      "execution_count": 32,
      "outputs": [
        {
          "output_type": "stream",
          "name": "stdout",
          "text": [
            "The musician name is Azlin Rusnan.\n"
          ]
        }
      ]
    },
    {
      "cell_type": "code",
      "source": [
        "# Default value always goes last!\n",
        "# Use if-else statement\n",
        "\n",
        "def get_formatted_name(first_name, last_name, middle_name=''):\n",
        "    \"\"\"Return a full name, neatly formatted\"\"\"\n",
        "    if middle_name:\n",
        "        full_name = first_name + ' ' + middle_name + ' ' + last_name\n",
        "    else:\n",
        "        full_name = first_name + ' ' + last_name\n",
        "    return full_name.title()\n",
        "\n",
        "musician = get_formatted_name('azlin', 'rusnan')\n",
        "print(musician)\n",
        "musician = get_formatted_name('nur', 'azlin', 'rusnan')\n",
        "print(musician)"
      ],
      "metadata": {
        "colab": {
          "base_uri": "https://localhost:8080/"
        },
        "id": "S--SL4ih_trt",
        "outputId": "2cefdff9-a93e-48c2-8f7c-dfe61bff2ede"
      },
      "execution_count": 35,
      "outputs": [
        {
          "output_type": "stream",
          "name": "stdout",
          "text": [
            "Azlin Rusnan\n",
            "Nur Rusnan Azlin\n"
          ]
        }
      ]
    },
    {
      "cell_type": "code",
      "source": [
        "# Define a function named build_person\n",
        "\n",
        "def build_person(first_name, last_name):\n",
        "    \"\"\"Return a dictionary of information about a person profile\"\"\"\n",
        "    person = {'first': first_name, 'last': last_name}\n",
        "    return person\n",
        "\n",
        "# Test the build_person function\n",
        "# Create a variable named musician to collect information\n",
        "musician = build_person('bernard', 'lee')\n",
        "print(musician)"
      ],
      "metadata": {
        "colab": {
          "base_uri": "https://localhost:8080/"
        },
        "id": "p8XDnhp4B6XA",
        "outputId": "e837a71e-f7dc-4396-e251-1ab2d62e77e2"
      },
      "execution_count": 36,
      "outputs": [
        {
          "output_type": "stream",
          "name": "stdout",
          "text": [
            "{'first': 'bernard', 'last': 'lee'}\n"
          ]
        }
      ]
    },
    {
      "cell_type": "code",
      "source": [
        "# Define the get_formatted_name function\n",
        "\n",
        "def get_formatted_name(first_name, last_name):\n",
        "    \"\"\"Return a full name, neatly formatted\"\"\"\n",
        "    full_name = first_name + ' ' + last_name\n",
        "    return full_name.title()\n",
        "\n",
        "while True:\n",
        "    print(\"\\n Please tell me your name: \")\n",
        "    print(\"(enter 'q at any time to quit)\")\n",
        "\n",
        "    f_name = input(\"First name: \")\n",
        "    if f_name == 'q':\n",
        "        break\n",
        "\n",
        "    l_name = input(\"Last name: \")\n",
        "    if l_name == 'q':\n",
        "        break\n",
        "\n",
        "    formatted_name = get_formatted_name(f_name, l_name)\n",
        "    print(\"\\nHello, \" + formatted_name + \"!\")"
      ],
      "metadata": {
        "colab": {
          "base_uri": "https://localhost:8080/"
        },
        "id": "Cp3SF8YWCwhI",
        "outputId": "45e05c9c-aaaa-4870-cad3-ecc8041664e2"
      },
      "execution_count": 38,
      "outputs": [
        {
          "name": "stdout",
          "output_type": "stream",
          "text": [
            "\n",
            " Please tell me your name: \n",
            "(enter 'q at any time to quit)\n",
            "First name: azlin\n",
            "Last name: rusan\n",
            "\n",
            "Hello, Azlin Rusan!\n",
            "\n",
            " Please tell me your name: \n",
            "(enter 'q at any time to quit)\n",
            "First name: q\n"
          ]
        }
      ]
    }
  ]
}