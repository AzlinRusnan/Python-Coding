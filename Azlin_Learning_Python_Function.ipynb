{
  "nbformat": 4,
  "nbformat_minor": 0,
  "metadata": {
    "colab": {
      "provenance": [],
      "authorship_tag": "ABX9TyMZ52mP7AG7N0JBpvcGzHYi",
      "include_colab_link": true
    },
    "kernelspec": {
      "name": "python3",
      "display_name": "Python 3"
    },
    "language_info": {
      "name": "python"
    }
  },
  "cells": [
    {
      "cell_type": "markdown",
      "metadata": {
        "id": "view-in-github",
        "colab_type": "text"
      },
      "source": [
        "<a href=\"https://colab.research.google.com/github/AzlinRusnan/Python-Coding/blob/main/Azlin_Learning_Python_Function.ipynb\" target=\"_parent\"><img src=\"https://colab.research.google.com/assets/colab-badge.svg\" alt=\"Open In Colab\"/></a>"
      ]
    },
    {
      "cell_type": "code",
      "execution_count": 5,
      "metadata": {
        "id": "yAvabGGetYCe",
        "colab": {
          "base_uri": "https://localhost:8080/"
        },
        "outputId": "fcad5f9d-6bd9-4723-9bed-4f96e673d198"
      },
      "outputs": [
        {
          "output_type": "stream",
          "name": "stdout",
          "text": [
            "Happy birthday to you!\n",
            "You are old!\n",
            "Happy birthday to you!\n",
            "\n"
          ]
        }
      ],
      "source": [
        "# function = a block of reusable code\n",
        "# place () after the function name to invoke it\n",
        "\n",
        "def happy_birthday():\n",
        "    print(\"Happy birthday to you!\")\n",
        "    print(\"You are old!\")\n",
        "    print(\"Happy birthday to you!\")\n",
        "    print()\n",
        "\n",
        "happy_birthday()"
      ]
    },
    {
      "cell_type": "code",
      "source": [
        "# put name\n",
        "# the order of the argument does matter\n",
        "def happy_birthday(name, age):\n",
        "    print(f\"Happy birthday to {name}!\")\n",
        "    print(f\"You are {age} old!\")\n",
        "    print(\"Happy birthday to you!\")\n",
        "    print()\n",
        "\n",
        "happy_birthday(\"Azlin\", 32)\n",
        "happy_birthday(\"Azizey\", 35)\n",
        "happy_birthday(\"Anaqey\", 5)\n",
        "happy_birthday(\"Azraqey\" ,2)"
      ],
      "metadata": {
        "colab": {
          "base_uri": "https://localhost:8080/"
        },
        "id": "yJV0t7fHviJQ",
        "outputId": "70bf5d15-6bd0-4d15-8a2e-2057b531bd72"
      },
      "execution_count": 9,
      "outputs": [
        {
          "output_type": "stream",
          "name": "stdout",
          "text": [
            "Happy birthday to Azlin!\n",
            "You are 32 old!\n",
            "Happy birthday to you!\n",
            "\n",
            "Happy birthday to Azizey!\n",
            "You are 35 old!\n",
            "Happy birthday to you!\n",
            "\n",
            "Happy birthday to Anaqey!\n",
            "You are 5 old!\n",
            "Happy birthday to you!\n",
            "\n",
            "Happy birthday to Azraqey!\n",
            "You are 2 old!\n",
            "Happy birthday to you!\n",
            "\n"
          ]
        }
      ]
    },
    {
      "cell_type": "code",
      "source": [],
      "metadata": {
        "id": "SrGXWJSbwEc-"
      },
      "execution_count": null,
      "outputs": []
    }
  ]
}