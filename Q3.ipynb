{
  "nbformat": 4,
  "nbformat_minor": 0,
  "metadata": {
    "colab": {
      "provenance": [],
      "authorship_tag": "ABX9TyNrFCmJwcEK50ZIrsN0W9XG",
      "include_colab_link": true
    },
    "kernelspec": {
      "name": "python3",
      "display_name": "Python 3"
    },
    "language_info": {
      "name": "python"
    }
  },
  "cells": [
    {
      "cell_type": "markdown",
      "metadata": {
        "id": "view-in-github",
        "colab_type": "text"
      },
      "source": [
        "<a href=\"https://colab.research.google.com/github/AzlinRusnan/Python-Coding/blob/main/Q3.ipynb\" target=\"_parent\"><img src=\"https://colab.research.google.com/assets/colab-badge.svg\" alt=\"Open In Colab\"/></a>"
      ]
    },
    {
      "cell_type": "code",
      "source": [
        "def find_combinations(nums, target, start=0, path=[], result=[], seen=set()):\n",
        "    if target == 0:\n",
        "        result.append(path)\n",
        "        return\n",
        "    elif target < 0:\n",
        "        return  # Exit if the remaining target is negative\n",
        "\n",
        "    for i in range(start, len(nums)):\n",
        "        # Skip the same number in the same recursive level to avoid duplicate combinations\n",
        "        if i > start and nums[i] == nums[i-1]:\n",
        "            continue\n",
        "        find_combinations(nums, target - nums[i], i + 1, path + [nums[i]], result)\n",
        "\n",
        "def main():\n",
        "    while True:\n",
        "        input_string = input(\"Enter a list of numbers separated by commas (e.g., 0,1,2,3) or 'q' to quit: \")\n",
        "        if input_string.lower() == 'q':\n",
        "            break\n",
        "        target_sum = int(input(\"Enter the target sum: \"))\n",
        "\n",
        "        nums = sorted([int(num) for num in input_string.split(',') if int(num) >= 0])\n",
        "\n",
        "        combinations = []\n",
        "        find_combinations(nums, target_sum, 0, [], combinations)\n",
        "\n",
        "        if combinations:\n",
        "            print(f\"Combinations that sum to {target_sum}: {combinations}\")\n",
        "        else:\n",
        "            print(f\"No combinations found that sum to {target_sum}.\")\n",
        "\n",
        "        print(\"\\nWould you like to try another set of numbers or target sum? (Enter 'y' to continue or 'q' to quit)\")\n",
        "        if input().lower() != 'y':\n",
        "            break\n",
        "\n",
        "if __name__ == \"__main__\":\n",
        "    main()\n"
      ],
      "metadata": {
        "colab": {
          "base_uri": "https://localhost:8080/"
        },
        "id": "elP2cln6gwJh",
        "outputId": "00d993e3-3bfd-4f42-d64a-cf0122fd83bb"
      },
      "execution_count": 13,
      "outputs": [
        {
          "name": "stdout",
          "output_type": "stream",
          "text": [
            "Enter a list of numbers separated by commas (e.g., 0,1,2,3) or 'q' to quit: 0,1,2,3,4\n",
            "Enter the target sum: 3\n",
            "Combinations that sum to 3: [[0, 1, 2], [0, 3], [1, 2], [3]]\n",
            "\n",
            "Would you like to try another set of numbers or target sum? (Enter 'y' to continue or 'q' to quit)\n",
            "y\n",
            "Enter a list of numbers separated by commas (e.g., 0,1,2,3) or 'q' to quit: 0,1,1,2,3\n",
            "Enter the target sum: 3\n",
            "Combinations that sum to 3: [[0, 1, 2], [0, 3], [1, 2], [3]]\n",
            "\n",
            "Would you like to try another set of numbers or target sum? (Enter 'y' to continue or 'q' to quit)\n",
            "y\n",
            "Enter a list of numbers separated by commas (e.g., 0,1,2,3) or 'q' to quit: 1,1,2,3\n",
            "Enter the target sum: 3\n",
            "Combinations that sum to 3: [[1, 2], [3]]\n",
            "\n",
            "Would you like to try another set of numbers or target sum? (Enter 'y' to continue or 'q' to quit)\n",
            "y\n",
            "Enter a list of numbers separated by commas (e.g., 0,1,2,3) or 'q' to quit: 1,1,2,3\n",
            "Enter the target sum: 5\n",
            "Combinations that sum to 5: [[1, 1, 3], [2, 3]]\n",
            "\n",
            "Would you like to try another set of numbers or target sum? (Enter 'y' to continue or 'q' to quit)\n",
            "q\n"
          ]
        }
      ]
    }
  ]
}