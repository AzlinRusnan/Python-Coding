{
  "nbformat": 4,
  "nbformat_minor": 0,
  "metadata": {
    "colab": {
      "provenance": [],
      "authorship_tag": "ABX9TyNJIUphl1/BR8frTGR1Es/Z",
      "include_colab_link": true
    },
    "kernelspec": {
      "name": "python3",
      "display_name": "Python 3"
    },
    "language_info": {
      "name": "python"
    }
  },
  "cells": [
    {
      "cell_type": "markdown",
      "metadata": {
        "id": "view-in-github",
        "colab_type": "text"
      },
      "source": [
        "<a href=\"https://colab.research.google.com/github/AzlinRusnan/Python-Coding/blob/main/Azlin_Learn_Numpy.ipynb\" target=\"_parent\"><img src=\"https://colab.research.google.com/assets/colab-badge.svg\" alt=\"Open In Colab\"/></a>"
      ]
    },
    {
      "cell_type": "code",
      "execution_count": 1,
      "metadata": {
        "id": "qGe8AqsegnUE"
      },
      "outputs": [],
      "source": [
        "# Load numpy library\n",
        "import numpy as np\n"
      ]
    },
    {
      "cell_type": "code",
      "source": [
        "#A Python List\n",
        "\n",
        "L = list(range(10))\n",
        "print(L)\n",
        "type(L)"
      ],
      "metadata": {
        "colab": {
          "base_uri": "https://localhost:8080/"
        },
        "id": "SSJPDzyuzadp",
        "outputId": "d3772cde-4a47-44c6-9386-3da526d2c590"
      },
      "execution_count": 5,
      "outputs": [
        {
          "output_type": "stream",
          "name": "stdout",
          "text": [
            "[0, 1, 2, 3, 4, 5, 6, 7, 8, 9]\n"
          ]
        },
        {
          "output_type": "execute_result",
          "data": {
            "text/plain": [
              "list"
            ]
          },
          "metadata": {},
          "execution_count": 5
        }
      ]
    },
    {
      "cell_type": "code",
      "source": [
        "#The item in c originally is integer\n",
        "#because of the str() function, it is changed to string data type\n",
        "\n",
        "L2 = [str(c) for c in L]\n",
        "print(L2)\n",
        "\n",
        "#Data type for L2\n",
        "print(type(L2))\n",
        "print(type(L2[2]))"
      ],
      "metadata": {
        "colab": {
          "base_uri": "https://localhost:8080/"
        },
        "id": "Wj-g_NYJzlda",
        "outputId": "32456a71-38e4-45cd-d381-97d10eda01dc"
      },
      "execution_count": 6,
      "outputs": [
        {
          "output_type": "stream",
          "name": "stdout",
          "text": [
            "['0', '1', '2', '3', '4', '5', '6', '7', '8', '9']\n",
            "<class 'list'>\n",
            "<class 'str'>\n"
          ]
        }
      ]
    },
    {
      "cell_type": "code",
      "source": [
        "# Heterogeneous data type\n",
        "\n",
        "L3 = [True, \"2m\", 3.0, 4]\n",
        "\n",
        "#want to check for each element in the list\n",
        "[type(item) for item in L3]"
      ],
      "metadata": {
        "colab": {
          "base_uri": "https://localhost:8080/"
        },
        "id": "RC4HhKYy0E53",
        "outputId": "06b7f87d-cd64-4c23-c8a9-96320de7ee93"
      },
      "execution_count": 7,
      "outputs": [
        {
          "output_type": "execute_result",
          "data": {
            "text/plain": [
              "[bool, str, float, int]"
            ]
          },
          "metadata": {},
          "execution_count": 7
        }
      ]
    },
    {
      "cell_type": "code",
      "source": [
        "# Creating array from python lists\n",
        "\n",
        "# create arrays from NumPy lists\n",
        "np.array([1,4,2,5,3])"
      ],
      "metadata": {
        "colab": {
          "base_uri": "https://localhost:8080/"
        },
        "id": "Nb0a7JHM0k8u",
        "outputId": "9e686b7d-0605-4826-e377-2955da70b172"
      },
      "execution_count": 8,
      "outputs": [
        {
          "output_type": "execute_result",
          "data": {
            "text/plain": [
              "array([1, 4, 2, 5, 3])"
            ]
          },
          "metadata": {},
          "execution_count": 8
        }
      ]
    },
    {
      "cell_type": "code",
      "source": [
        "# NumPy is constrained to arrays that all contain the same data type.\n",
        "# Integers are upcast to floating point! #[4,3.4], 4 will be float as well\n",
        "np.array([3.14,5,9,111])"
      ],
      "metadata": {
        "colab": {
          "base_uri": "https://localhost:8080/"
        },
        "id": "7l7H2A_p03l_",
        "outputId": "e486645c-b7f0-4587-e858-e47f49483d82"
      },
      "execution_count": 9,
      "outputs": [
        {
          "output_type": "execute_result",
          "data": {
            "text/plain": [
              "array([  3.14,   5.  ,   9.  , 111.  ])"
            ]
          },
          "metadata": {},
          "execution_count": 9
        }
      ]
    },
    {
      "cell_type": "code",
      "source": [
        "# set explicitly the data type we want\n",
        "np.array([1,2,3,4], dtype = 'float32') #32 is 32 byte"
      ],
      "metadata": {
        "colab": {
          "base_uri": "https://localhost:8080/"
        },
        "id": "VLxT4D7T1KUO",
        "outputId": "0836f504-4b74-474b-f4d3-78b7a85cb882"
      },
      "execution_count": 10,
      "outputs": [
        {
          "output_type": "execute_result",
          "data": {
            "text/plain": [
              "array([1., 2., 3., 4.], dtype=float32)"
            ]
          },
          "metadata": {},
          "execution_count": 10
        }
      ]
    },
    {
      "cell_type": "code",
      "source": [
        "#Exercise 2: Creating Arrays from Scratch\n",
        "# Create a length-10 integer array filled with zeros\n",
        "np.zeros(10,dtype = int) #10 = is how many zeros you want to create\n",
        "np.zeros(10,dtype = 'float32')"
      ],
      "metadata": {
        "colab": {
          "base_uri": "https://localhost:8080/"
        },
        "id": "gnOkv-mQ1eo2",
        "outputId": "f8a2316c-6eed-4364-90d5-5fe28253be82"
      },
      "execution_count": 11,
      "outputs": [
        {
          "output_type": "execute_result",
          "data": {
            "text/plain": [
              "array([0., 0., 0., 0., 0., 0., 0., 0., 0., 0.], dtype=float32)"
            ]
          },
          "metadata": {},
          "execution_count": 11
        }
      ]
    },
    {
      "cell_type": "code",
      "source": [
        "#Exercise 3: Create a 3 x 5 floating-point array filled with ones\n",
        "# create a 3x5 array\n",
        "np.ones((3,5), dtype = str) #3 row, 5 col"
      ],
      "metadata": {
        "colab": {
          "base_uri": "https://localhost:8080/"
        },
        "id": "hFlBTlCW2R1S",
        "outputId": "45d54888-3fb8-4c1a-e267-09030f4b6ed8"
      },
      "execution_count": 12,
      "outputs": [
        {
          "output_type": "execute_result",
          "data": {
            "text/plain": [
              "array([['1', '1', '1', '1', '1'],\n",
              "       ['1', '1', '1', '1', '1'],\n",
              "       ['1', '1', '1', '1', '1']], dtype='<U1')"
            ]
          },
          "metadata": {},
          "execution_count": 12
        }
      ]
    },
    {
      "cell_type": "code",
      "source": [
        "#Exercise 4: Create a 3 x 5 array filled with 3.14\n",
        "#create a 3x4 array\n",
        "np.full((3,5), 3.14)"
      ],
      "metadata": {
        "colab": {
          "base_uri": "https://localhost:8080/"
        },
        "id": "hriTWlDn2rNG",
        "outputId": "a9b65350-56dc-4a24-c16d-41abc661febd"
      },
      "execution_count": 13,
      "outputs": [
        {
          "output_type": "execute_result",
          "data": {
            "text/plain": [
              "array([[3.14, 3.14, 3.14, 3.14, 3.14],\n",
              "       [3.14, 3.14, 3.14, 3.14, 3.14],\n",
              "       [3.14, 3.14, 3.14, 3.14, 3.14]])"
            ]
          },
          "metadata": {},
          "execution_count": 13
        }
      ]
    },
    {
      "cell_type": "code",
      "source": [
        "new_array = np.full((3,3),2)\n",
        "new_array\n",
        "\n",
        "existing_array = np.array([[1,1,1],[1,1,1],[1,1,1]])\n",
        "existing_array[:] = 2\n",
        "existing_array"
      ],
      "metadata": {
        "colab": {
          "base_uri": "https://localhost:8080/"
        },
        "id": "8qOaMn7W29sn",
        "outputId": "f1ad80f2-7fad-4abf-e212-2dc97c4c49ff"
      },
      "execution_count": 14,
      "outputs": [
        {
          "output_type": "execute_result",
          "data": {
            "text/plain": [
              "array([[2, 2, 2],\n",
              "       [2, 2, 2],\n",
              "       [2, 2, 2]])"
            ]
          },
          "metadata": {},
          "execution_count": 14
        }
      ]
    },
    {
      "cell_type": "code",
      "source": [
        "# Exercise 5: Create an array filled with linear sequence\n",
        "# Create an array filled with linear sequence\n",
        "# Starting at 0, ending at 20 (excluding), skipping by 2\n",
        "# np.arange(start, stop, step)\n",
        "\n",
        "#start: The starting value of the sequence (inclusive). If you omit this parameter, it defaults to 0.\n",
        "#stop: The end value of the sequence (exclusive). The array values will go up to but not include this value.\n",
        "#step: The difference between each value in the array. If you omit this parameter, it defaults to 1.\n",
        "\n",
        "np.arange(0,20,3)"
      ],
      "metadata": {
        "colab": {
          "base_uri": "https://localhost:8080/"
        },
        "id": "QcIV4qvF3p8Q",
        "outputId": "e7b20f47-4b57-48fd-9f0a-bf15a76cd753"
      },
      "execution_count": 15,
      "outputs": [
        {
          "output_type": "execute_result",
          "data": {
            "text/plain": [
              "array([ 0,  3,  6,  9, 12, 15, 18])"
            ]
          },
          "metadata": {},
          "execution_count": 15
        }
      ]
    },
    {
      "cell_type": "code",
      "source": [
        "# Exercise 6: Create an array evenly spaced values\n",
        "# linspace() - generates linearly spaced vectors\n",
        "# Create an array of five values evenly spaced between 0 and 1\n",
        "# linspace - generates linearly spaced vectors\n",
        "\n",
        "np.linspace(0,1,8)\n",
        "\n",
        "#cara kira dia mcm ni,\n",
        "# 1-0\n",
        "# Since there are 8 elements, the range is divided into 7 equal intervals (note that there are always num - 1 intervals).\n",
        "#1/7 = 0.1428714"
      ],
      "metadata": {
        "colab": {
          "base_uri": "https://localhost:8080/"
        },
        "id": "kQG5dXcP5ekr",
        "outputId": "8ecb200f-ddff-446c-fb95-e6c5f30e1342"
      },
      "execution_count": 16,
      "outputs": [
        {
          "output_type": "execute_result",
          "data": {
            "text/plain": [
              "array([0.        , 0.14285714, 0.28571429, 0.42857143, 0.57142857,\n",
              "       0.71428571, 0.85714286, 1.        ])"
            ]
          },
          "metadata": {},
          "execution_count": 16
        }
      ]
    },
    {
      "cell_type": "code",
      "source": [
        "# Exercise 7: Create a 3 x 3 uniformly distributed array\n",
        "# Random values between 0 and 1\n",
        "\n",
        "np.random.random((3,3))\n",
        "\n",
        "#random and did not seed number"
      ],
      "metadata": {
        "colab": {
          "base_uri": "https://localhost:8080/"
        },
        "id": "9oOQ1moo7pVh",
        "outputId": "59b72396-c07d-498f-f25b-7ac4e52275d9"
      },
      "execution_count": 17,
      "outputs": [
        {
          "output_type": "execute_result",
          "data": {
            "text/plain": [
              "array([[0.35541361, 0.37705824, 0.93425182],\n",
              "       [0.6976339 , 0.21394359, 0.69128905],\n",
              "       [0.82102204, 0.41214436, 0.98437939]])"
            ]
          },
          "metadata": {},
          "execution_count": 17
        }
      ]
    },
    {
      "cell_type": "code",
      "source": [
        "# Exercise 8: Create a 3 x 3 array of normally distributed random values\n",
        "# with mean 0 and standard deviation 1\n",
        "\n",
        "np.random.normal(0,1,(3,3))\n",
        "\n",
        "#note that (3,3) is row and column"
      ],
      "metadata": {
        "colab": {
          "base_uri": "https://localhost:8080/"
        },
        "id": "geYa9V7673vq",
        "outputId": "0ec36e42-f6a4-482e-abd6-bf71af6ea88e"
      },
      "execution_count": 18,
      "outputs": [
        {
          "output_type": "execute_result",
          "data": {
            "text/plain": [
              "array([[-1.72600503,  0.50195599,  1.59174731],\n",
              "       [-1.60640007, -1.29793201, -0.61589696],\n",
              "       [-1.70567307, -0.09017643, -0.85160421]])"
            ]
          },
          "metadata": {},
          "execution_count": 18
        }
      ]
    },
    {
      "cell_type": "code",
      "source": [
        "#Exercise 9: Create a 3x3 array of random integers in the interval [0, 10)\n",
        "#\"[ ]\" is inclusive\n",
        "#\"( )\" is exclusive\n",
        "\n",
        "# Create a 3x3 array of random integers in the interval [0, 10)\n",
        "#0 until 9 only\n",
        "#str also can have this\n",
        "\n",
        "np.random.randint(0,10,(3,3))"
      ],
      "metadata": {
        "colab": {
          "base_uri": "https://localhost:8080/"
        },
        "id": "HtOti77A8IXd",
        "outputId": "1b0bfaf9-fc7d-4a62-b7f8-38c11c335f89"
      },
      "execution_count": 19,
      "outputs": [
        {
          "output_type": "execute_result",
          "data": {
            "text/plain": [
              "array([[5, 5, 8],\n",
              "       [7, 0, 3],\n",
              "       [2, 0, 0]])"
            ]
          },
          "metadata": {},
          "execution_count": 19
        }
      ]
    },
    {
      "cell_type": "code",
      "source": [
        "# Use random.uniform() function to create random float number\n",
        "\n",
        "np.random.uniform(0,5,(3,3))"
      ],
      "metadata": {
        "colab": {
          "base_uri": "https://localhost:8080/"
        },
        "id": "nWgD32pa8-fG",
        "outputId": "6b534fd8-cc12-47cb-915e-8bbe4adbaac2"
      },
      "execution_count": 20,
      "outputs": [
        {
          "output_type": "execute_result",
          "data": {
            "text/plain": [
              "array([[4.7642699 , 4.09529097, 0.55661144],\n",
              "       [4.42806344, 3.48282123, 4.11537269],\n",
              "       [4.83736765, 2.15123406, 1.65793513]])"
            ]
          },
          "metadata": {},
          "execution_count": 20
        }
      ]
    },
    {
      "cell_type": "code",
      "source": [
        "import pandas as pd\n",
        "srs_a = pd.Series([10,30,60,80,90])\n",
        "srs_b = pd.Series(['red', 'gree','blue','white','black'])\n",
        "df = pd.DataFrame({'a': srs_a, 'b': srs_b})\n",
        "df"
      ],
      "metadata": {
        "colab": {
          "base_uri": "https://localhost:8080/",
          "height": 206
        },
        "id": "xACcbBqW9KVT",
        "outputId": "66f022ef-4cc0-4b42-a056-a0e5ee30790f"
      },
      "execution_count": 21,
      "outputs": [
        {
          "output_type": "execute_result",
          "data": {
            "text/plain": [
              "    a      b\n",
              "0  10    red\n",
              "1  30   gree\n",
              "2  60   blue\n",
              "3  80  white\n",
              "4  90  black"
            ],
            "text/html": [
              "\n",
              "  <div id=\"df-b3af7e4a-4adf-4ff0-bd10-c165065e8e10\" class=\"colab-df-container\">\n",
              "    <div>\n",
              "<style scoped>\n",
              "    .dataframe tbody tr th:only-of-type {\n",
              "        vertical-align: middle;\n",
              "    }\n",
              "\n",
              "    .dataframe tbody tr th {\n",
              "        vertical-align: top;\n",
              "    }\n",
              "\n",
              "    .dataframe thead th {\n",
              "        text-align: right;\n",
              "    }\n",
              "</style>\n",
              "<table border=\"1\" class=\"dataframe\">\n",
              "  <thead>\n",
              "    <tr style=\"text-align: right;\">\n",
              "      <th></th>\n",
              "      <th>a</th>\n",
              "      <th>b</th>\n",
              "    </tr>\n",
              "  </thead>\n",
              "  <tbody>\n",
              "    <tr>\n",
              "      <th>0</th>\n",
              "      <td>10</td>\n",
              "      <td>red</td>\n",
              "    </tr>\n",
              "    <tr>\n",
              "      <th>1</th>\n",
              "      <td>30</td>\n",
              "      <td>gree</td>\n",
              "    </tr>\n",
              "    <tr>\n",
              "      <th>2</th>\n",
              "      <td>60</td>\n",
              "      <td>blue</td>\n",
              "    </tr>\n",
              "    <tr>\n",
              "      <th>3</th>\n",
              "      <td>80</td>\n",
              "      <td>white</td>\n",
              "    </tr>\n",
              "    <tr>\n",
              "      <th>4</th>\n",
              "      <td>90</td>\n",
              "      <td>black</td>\n",
              "    </tr>\n",
              "  </tbody>\n",
              "</table>\n",
              "</div>\n",
              "    <div class=\"colab-df-buttons\">\n",
              "\n",
              "  <div class=\"colab-df-container\">\n",
              "    <button class=\"colab-df-convert\" onclick=\"convertToInteractive('df-b3af7e4a-4adf-4ff0-bd10-c165065e8e10')\"\n",
              "            title=\"Convert this dataframe to an interactive table.\"\n",
              "            style=\"display:none;\">\n",
              "\n",
              "  <svg xmlns=\"http://www.w3.org/2000/svg\" height=\"24px\" viewBox=\"0 -960 960 960\">\n",
              "    <path d=\"M120-120v-720h720v720H120Zm60-500h600v-160H180v160Zm220 220h160v-160H400v160Zm0 220h160v-160H400v160ZM180-400h160v-160H180v160Zm440 0h160v-160H620v160ZM180-180h160v-160H180v160Zm440 0h160v-160H620v160Z\"/>\n",
              "  </svg>\n",
              "    </button>\n",
              "\n",
              "  <style>\n",
              "    .colab-df-container {\n",
              "      display:flex;\n",
              "      gap: 12px;\n",
              "    }\n",
              "\n",
              "    .colab-df-convert {\n",
              "      background-color: #E8F0FE;\n",
              "      border: none;\n",
              "      border-radius: 50%;\n",
              "      cursor: pointer;\n",
              "      display: none;\n",
              "      fill: #1967D2;\n",
              "      height: 32px;\n",
              "      padding: 0 0 0 0;\n",
              "      width: 32px;\n",
              "    }\n",
              "\n",
              "    .colab-df-convert:hover {\n",
              "      background-color: #E2EBFA;\n",
              "      box-shadow: 0px 1px 2px rgba(60, 64, 67, 0.3), 0px 1px 3px 1px rgba(60, 64, 67, 0.15);\n",
              "      fill: #174EA6;\n",
              "    }\n",
              "\n",
              "    .colab-df-buttons div {\n",
              "      margin-bottom: 4px;\n",
              "    }\n",
              "\n",
              "    [theme=dark] .colab-df-convert {\n",
              "      background-color: #3B4455;\n",
              "      fill: #D2E3FC;\n",
              "    }\n",
              "\n",
              "    [theme=dark] .colab-df-convert:hover {\n",
              "      background-color: #434B5C;\n",
              "      box-shadow: 0px 1px 3px 1px rgba(0, 0, 0, 0.15);\n",
              "      filter: drop-shadow(0px 1px 2px rgba(0, 0, 0, 0.3));\n",
              "      fill: #FFFFFF;\n",
              "    }\n",
              "  </style>\n",
              "\n",
              "    <script>\n",
              "      const buttonEl =\n",
              "        document.querySelector('#df-b3af7e4a-4adf-4ff0-bd10-c165065e8e10 button.colab-df-convert');\n",
              "      buttonEl.style.display =\n",
              "        google.colab.kernel.accessAllowed ? 'block' : 'none';\n",
              "\n",
              "      async function convertToInteractive(key) {\n",
              "        const element = document.querySelector('#df-b3af7e4a-4adf-4ff0-bd10-c165065e8e10');\n",
              "        const dataTable =\n",
              "          await google.colab.kernel.invokeFunction('convertToInteractive',\n",
              "                                                    [key], {});\n",
              "        if (!dataTable) return;\n",
              "\n",
              "        const docLinkHtml = 'Like what you see? Visit the ' +\n",
              "          '<a target=\"_blank\" href=https://colab.research.google.com/notebooks/data_table.ipynb>data table notebook</a>'\n",
              "          + ' to learn more about interactive tables.';\n",
              "        element.innerHTML = '';\n",
              "        dataTable['output_type'] = 'display_data';\n",
              "        await google.colab.output.renderOutput(dataTable, element);\n",
              "        const docLink = document.createElement('div');\n",
              "        docLink.innerHTML = docLinkHtml;\n",
              "        element.appendChild(docLink);\n",
              "      }\n",
              "    </script>\n",
              "  </div>\n",
              "\n",
              "\n",
              "<div id=\"df-b0ff75f8-1141-46ea-bfd6-5eda37f7eb47\">\n",
              "  <button class=\"colab-df-quickchart\" onclick=\"quickchart('df-b0ff75f8-1141-46ea-bfd6-5eda37f7eb47')\"\n",
              "            title=\"Suggest charts\"\n",
              "            style=\"display:none;\">\n",
              "\n",
              "<svg xmlns=\"http://www.w3.org/2000/svg\" height=\"24px\"viewBox=\"0 0 24 24\"\n",
              "     width=\"24px\">\n",
              "    <g>\n",
              "        <path d=\"M19 3H5c-1.1 0-2 .9-2 2v14c0 1.1.9 2 2 2h14c1.1 0 2-.9 2-2V5c0-1.1-.9-2-2-2zM9 17H7v-7h2v7zm4 0h-2V7h2v10zm4 0h-2v-4h2v4z\"/>\n",
              "    </g>\n",
              "</svg>\n",
              "  </button>\n",
              "\n",
              "<style>\n",
              "  .colab-df-quickchart {\n",
              "      --bg-color: #E8F0FE;\n",
              "      --fill-color: #1967D2;\n",
              "      --hover-bg-color: #E2EBFA;\n",
              "      --hover-fill-color: #174EA6;\n",
              "      --disabled-fill-color: #AAA;\n",
              "      --disabled-bg-color: #DDD;\n",
              "  }\n",
              "\n",
              "  [theme=dark] .colab-df-quickchart {\n",
              "      --bg-color: #3B4455;\n",
              "      --fill-color: #D2E3FC;\n",
              "      --hover-bg-color: #434B5C;\n",
              "      --hover-fill-color: #FFFFFF;\n",
              "      --disabled-bg-color: #3B4455;\n",
              "      --disabled-fill-color: #666;\n",
              "  }\n",
              "\n",
              "  .colab-df-quickchart {\n",
              "    background-color: var(--bg-color);\n",
              "    border: none;\n",
              "    border-radius: 50%;\n",
              "    cursor: pointer;\n",
              "    display: none;\n",
              "    fill: var(--fill-color);\n",
              "    height: 32px;\n",
              "    padding: 0;\n",
              "    width: 32px;\n",
              "  }\n",
              "\n",
              "  .colab-df-quickchart:hover {\n",
              "    background-color: var(--hover-bg-color);\n",
              "    box-shadow: 0 1px 2px rgba(60, 64, 67, 0.3), 0 1px 3px 1px rgba(60, 64, 67, 0.15);\n",
              "    fill: var(--button-hover-fill-color);\n",
              "  }\n",
              "\n",
              "  .colab-df-quickchart-complete:disabled,\n",
              "  .colab-df-quickchart-complete:disabled:hover {\n",
              "    background-color: var(--disabled-bg-color);\n",
              "    fill: var(--disabled-fill-color);\n",
              "    box-shadow: none;\n",
              "  }\n",
              "\n",
              "  .colab-df-spinner {\n",
              "    border: 2px solid var(--fill-color);\n",
              "    border-color: transparent;\n",
              "    border-bottom-color: var(--fill-color);\n",
              "    animation:\n",
              "      spin 1s steps(1) infinite;\n",
              "  }\n",
              "\n",
              "  @keyframes spin {\n",
              "    0% {\n",
              "      border-color: transparent;\n",
              "      border-bottom-color: var(--fill-color);\n",
              "      border-left-color: var(--fill-color);\n",
              "    }\n",
              "    20% {\n",
              "      border-color: transparent;\n",
              "      border-left-color: var(--fill-color);\n",
              "      border-top-color: var(--fill-color);\n",
              "    }\n",
              "    30% {\n",
              "      border-color: transparent;\n",
              "      border-left-color: var(--fill-color);\n",
              "      border-top-color: var(--fill-color);\n",
              "      border-right-color: var(--fill-color);\n",
              "    }\n",
              "    40% {\n",
              "      border-color: transparent;\n",
              "      border-right-color: var(--fill-color);\n",
              "      border-top-color: var(--fill-color);\n",
              "    }\n",
              "    60% {\n",
              "      border-color: transparent;\n",
              "      border-right-color: var(--fill-color);\n",
              "    }\n",
              "    80% {\n",
              "      border-color: transparent;\n",
              "      border-right-color: var(--fill-color);\n",
              "      border-bottom-color: var(--fill-color);\n",
              "    }\n",
              "    90% {\n",
              "      border-color: transparent;\n",
              "      border-bottom-color: var(--fill-color);\n",
              "    }\n",
              "  }\n",
              "</style>\n",
              "\n",
              "  <script>\n",
              "    async function quickchart(key) {\n",
              "      const quickchartButtonEl =\n",
              "        document.querySelector('#' + key + ' button');\n",
              "      quickchartButtonEl.disabled = true;  // To prevent multiple clicks.\n",
              "      quickchartButtonEl.classList.add('colab-df-spinner');\n",
              "      try {\n",
              "        const charts = await google.colab.kernel.invokeFunction(\n",
              "            'suggestCharts', [key], {});\n",
              "      } catch (error) {\n",
              "        console.error('Error during call to suggestCharts:', error);\n",
              "      }\n",
              "      quickchartButtonEl.classList.remove('colab-df-spinner');\n",
              "      quickchartButtonEl.classList.add('colab-df-quickchart-complete');\n",
              "    }\n",
              "    (() => {\n",
              "      let quickchartButtonEl =\n",
              "        document.querySelector('#df-b0ff75f8-1141-46ea-bfd6-5eda37f7eb47 button');\n",
              "      quickchartButtonEl.style.display =\n",
              "        google.colab.kernel.accessAllowed ? 'block' : 'none';\n",
              "    })();\n",
              "  </script>\n",
              "</div>\n",
              "\n",
              "  <div id=\"id_4bb0b334-1f71-4a9e-bd99-d7672cebeab4\">\n",
              "    <style>\n",
              "      .colab-df-generate {\n",
              "        background-color: #E8F0FE;\n",
              "        border: none;\n",
              "        border-radius: 50%;\n",
              "        cursor: pointer;\n",
              "        display: none;\n",
              "        fill: #1967D2;\n",
              "        height: 32px;\n",
              "        padding: 0 0 0 0;\n",
              "        width: 32px;\n",
              "      }\n",
              "\n",
              "      .colab-df-generate:hover {\n",
              "        background-color: #E2EBFA;\n",
              "        box-shadow: 0px 1px 2px rgba(60, 64, 67, 0.3), 0px 1px 3px 1px rgba(60, 64, 67, 0.15);\n",
              "        fill: #174EA6;\n",
              "      }\n",
              "\n",
              "      [theme=dark] .colab-df-generate {\n",
              "        background-color: #3B4455;\n",
              "        fill: #D2E3FC;\n",
              "      }\n",
              "\n",
              "      [theme=dark] .colab-df-generate:hover {\n",
              "        background-color: #434B5C;\n",
              "        box-shadow: 0px 1px 3px 1px rgba(0, 0, 0, 0.15);\n",
              "        filter: drop-shadow(0px 1px 2px rgba(0, 0, 0, 0.3));\n",
              "        fill: #FFFFFF;\n",
              "      }\n",
              "    </style>\n",
              "    <button class=\"colab-df-generate\" onclick=\"generateWithVariable('df')\"\n",
              "            title=\"Generate code using this dataframe.\"\n",
              "            style=\"display:none;\">\n",
              "\n",
              "  <svg xmlns=\"http://www.w3.org/2000/svg\" height=\"24px\"viewBox=\"0 0 24 24\"\n",
              "       width=\"24px\">\n",
              "    <path d=\"M7,19H8.4L18.45,9,17,7.55,7,17.6ZM5,21V16.75L18.45,3.32a2,2,0,0,1,2.83,0l1.4,1.43a1.91,1.91,0,0,1,.58,1.4,1.91,1.91,0,0,1-.58,1.4L9.25,21ZM18.45,9,17,7.55Zm-12,3A5.31,5.31,0,0,0,4.9,8.1,5.31,5.31,0,0,0,1,6.5,5.31,5.31,0,0,0,4.9,4.9,5.31,5.31,0,0,0,6.5,1,5.31,5.31,0,0,0,8.1,4.9,5.31,5.31,0,0,0,12,6.5,5.46,5.46,0,0,0,6.5,12Z\"/>\n",
              "  </svg>\n",
              "    </button>\n",
              "    <script>\n",
              "      (() => {\n",
              "      const buttonEl =\n",
              "        document.querySelector('#id_4bb0b334-1f71-4a9e-bd99-d7672cebeab4 button.colab-df-generate');\n",
              "      buttonEl.style.display =\n",
              "        google.colab.kernel.accessAllowed ? 'block' : 'none';\n",
              "\n",
              "      buttonEl.onclick = () => {\n",
              "        google.colab.notebook.generateWithVariable('df');\n",
              "      }\n",
              "      })();\n",
              "    </script>\n",
              "  </div>\n",
              "\n",
              "    </div>\n",
              "  </div>\n"
            ]
          },
          "metadata": {},
          "execution_count": 21
        }
      ]
    },
    {
      "cell_type": "code",
      "source": [
        "#from above table\n",
        "#axis0 - looking at rowwise {adding data vertically} |\n",
        "#axis1 - looking at columnwise {data added horizontaly} ----"
      ],
      "metadata": {
        "id": "kay9etRk9itK"
      },
      "execution_count": null,
      "outputs": []
    },
    {
      "cell_type": "code",
      "source": [
        "# NumPy Array Attributes\n",
        "np.random.seed(1957)\n",
        "\n",
        "x1 = np.random.randint(10,size = 6) #1D array\n",
        "x2 = np.random.randint(10, size = (3,4)) #2D array\n",
        "x3 = np.random.randint(10, size = (3,4,5)) #3D array"
      ],
      "metadata": {
        "id": "rdFFfZmM-jFe"
      },
      "execution_count": 22,
      "outputs": []
    },
    {
      "cell_type": "code",
      "source": [
        "x1"
      ],
      "metadata": {
        "colab": {
          "base_uri": "https://localhost:8080/"
        },
        "id": "MEO2pZYc-3ux",
        "outputId": "882f5d22-4875-45b5-c81d-0af2d650cd9d"
      },
      "execution_count": 23,
      "outputs": [
        {
          "output_type": "execute_result",
          "data": {
            "text/plain": [
              "array([9, 1, 7, 4, 7, 2])"
            ]
          },
          "metadata": {},
          "execution_count": 23
        }
      ]
    },
    {
      "cell_type": "code",
      "source": [
        "x2"
      ],
      "metadata": {
        "colab": {
          "base_uri": "https://localhost:8080/"
        },
        "id": "o77uokIi-_1C",
        "outputId": "c763aa09-8618-495a-830e-bd2437f4b193"
      },
      "execution_count": 24,
      "outputs": [
        {
          "output_type": "execute_result",
          "data": {
            "text/plain": [
              "array([[0, 4, 5, 7],\n",
              "       [7, 7, 2, 4],\n",
              "       [7, 1, 2, 0]])"
            ]
          },
          "metadata": {},
          "execution_count": 24
        }
      ]
    },
    {
      "cell_type": "code",
      "source": [
        "x3"
      ],
      "metadata": {
        "colab": {
          "base_uri": "https://localhost:8080/"
        },
        "id": "UEIqfHoY_DjD",
        "outputId": "bb6b8fe5-d828-41a3-ddf8-f1940d5f9b77"
      },
      "execution_count": 25,
      "outputs": [
        {
          "output_type": "execute_result",
          "data": {
            "text/plain": [
              "array([[[9, 3, 3, 4, 3],\n",
              "        [0, 0, 9, 1, 5],\n",
              "        [7, 6, 0, 8, 1],\n",
              "        [7, 3, 8, 3, 3]],\n",
              "\n",
              "       [[2, 1, 2, 2, 6],\n",
              "        [8, 4, 1, 3, 7],\n",
              "        [0, 2, 1, 2, 6],\n",
              "        [3, 8, 3, 6, 4]],\n",
              "\n",
              "       [[9, 4, 2, 9, 6],\n",
              "        [8, 7, 8, 8, 7],\n",
              "        [0, 6, 4, 4, 2],\n",
              "        [2, 9, 7, 5, 7]]])"
            ]
          },
          "metadata": {},
          "execution_count": 25
        }
      ]
    },
    {
      "cell_type": "code",
      "source": [
        "# Each array has attributes ndim() (the number of dimensions), shape() (the size of each dimension), and size() (the total size of the array)\n",
        "# Check attributes of the array x3\n",
        "print('x3 ndim: ', x3.ndim)\n",
        "print('x3 shape: ', x3.shape)\n",
        "print('x3 size: ', x3.size) # 3x4x5=60"
      ],
      "metadata": {
        "colab": {
          "base_uri": "https://localhost:8080/"
        },
        "id": "Vb7IqzcH_FFB",
        "outputId": "906a27d3-8fa0-45c0-d151-9d3da4c9da6f"
      },
      "execution_count": 26,
      "outputs": [
        {
          "output_type": "stream",
          "name": "stdout",
          "text": [
            "x3 ndim:  3\n",
            "x3 shape:  (3, 4, 5)\n",
            "x3 size:  60\n"
          ]
        }
      ]
    },
    {
      "cell_type": "code",
      "source": [
        "# Exercise 13: Array Indexing: Accessing Single Elements\n",
        "# Output the list\n",
        "x1"
      ],
      "metadata": {
        "colab": {
          "base_uri": "https://localhost:8080/"
        },
        "id": "aMCNkcbqAZl8",
        "outputId": "3a969641-12f8-4a0a-bb71-482f1615a2a9"
      },
      "execution_count": 27,
      "outputs": [
        {
          "output_type": "execute_result",
          "data": {
            "text/plain": [
              "array([9, 1, 7, 4, 7, 2])"
            ]
          },
          "metadata": {},
          "execution_count": 27
        }
      ]
    },
    {
      "cell_type": "code",
      "source": [
        "# Accessing single element\n",
        "x1[3]"
      ],
      "metadata": {
        "colab": {
          "base_uri": "https://localhost:8080/"
        },
        "id": "7kD7iL3bAexZ",
        "outputId": "3fb83e17-288f-41f5-e77f-378df7e1d211"
      },
      "execution_count": 28,
      "outputs": [
        {
          "output_type": "execute_result",
          "data": {
            "text/plain": [
              "4"
            ]
          },
          "metadata": {},
          "execution_count": 28
        }
      ]
    },
    {
      "cell_type": "code",
      "source": [
        "# Accessing single element: : Negative indexing\n",
        "x1[-3]"
      ],
      "metadata": {
        "colab": {
          "base_uri": "https://localhost:8080/"
        },
        "id": "uFZ2OFDnAjRh",
        "outputId": "90971cca-aa2a-4ef6-f2ac-3efde342aba1"
      },
      "execution_count": 29,
      "outputs": [
        {
          "output_type": "execute_result",
          "data": {
            "text/plain": [
              "4"
            ]
          },
          "metadata": {},
          "execution_count": 29
        }
      ]
    },
    {
      "cell_type": "code",
      "source": [
        "# Output x2 list\n",
        "x2"
      ],
      "metadata": {
        "colab": {
          "base_uri": "https://localhost:8080/"
        },
        "id": "O9D6Z69eAnyy",
        "outputId": "c89296ae-915e-48a4-86c2-f0bf2608d998"
      },
      "execution_count": 30,
      "outputs": [
        {
          "output_type": "execute_result",
          "data": {
            "text/plain": [
              "array([[0, 4, 5, 7],\n",
              "       [7, 7, 2, 4],\n",
              "       [7, 1, 2, 0]])"
            ]
          },
          "metadata": {},
          "execution_count": 30
        }
      ]
    },
    {
      "cell_type": "code",
      "source": [
        "# Acessing single element in 2D array\n",
        "x2[0,3]"
      ],
      "metadata": {
        "colab": {
          "base_uri": "https://localhost:8080/"
        },
        "id": "V1AkfP1YAsq8",
        "outputId": "bd413dc6-44d3-4bb3-a520-712b0cd1b85d"
      },
      "execution_count": 34,
      "outputs": [
        {
          "output_type": "execute_result",
          "data": {
            "text/plain": [
              "7"
            ]
          },
          "metadata": {},
          "execution_count": 34
        }
      ]
    },
    {
      "cell_type": "code",
      "source": [
        "# Acessing single element in 2D array: using negative indexing\n",
        "x2[-1,-2]"
      ],
      "metadata": {
        "colab": {
          "base_uri": "https://localhost:8080/"
        },
        "id": "fkpqcXq4A1-U",
        "outputId": "637efe86-c663-4133-ef77-3e3e0e5754e6"
      },
      "execution_count": 35,
      "outputs": [
        {
          "output_type": "execute_result",
          "data": {
            "text/plain": [
              "2"
            ]
          },
          "metadata": {},
          "execution_count": 35
        }
      ]
    },
    {
      "cell_type": "code",
      "source": [
        "# Change the value in 2D array\n",
        "# change the number 2 to 32\n",
        "x2[1,2] = 32\n",
        "x2"
      ],
      "metadata": {
        "colab": {
          "base_uri": "https://localhost:8080/"
        },
        "id": "4oRk01KsA7ck",
        "outputId": "a70a41c1-7dd0-49e5-d9e2-5d8d20b7a679"
      },
      "execution_count": 36,
      "outputs": [
        {
          "output_type": "execute_result",
          "data": {
            "text/plain": [
              "array([[ 0,  4,  5,  7],\n",
              "       [ 7,  7, 32,  4],\n",
              "       [ 7,  1,  2,  0]])"
            ]
          },
          "metadata": {},
          "execution_count": 36
        }
      ]
    },
    {
      "cell_type": "code",
      "source": [
        "# Acessing single element in 2D array\n",
        "x2[0,3]"
      ],
      "metadata": {
        "colab": {
          "base_uri": "https://localhost:8080/"
        },
        "id": "_LM-YicuBDYs",
        "outputId": "01f0212b-58dc-4658-eabd-2b3e5f77a299"
      },
      "execution_count": 37,
      "outputs": [
        {
          "output_type": "execute_result",
          "data": {
            "text/plain": [
              "7"
            ]
          },
          "metadata": {},
          "execution_count": 37
        }
      ]
    },
    {
      "cell_type": "code",
      "source": [
        "x1"
      ],
      "metadata": {
        "colab": {
          "base_uri": "https://localhost:8080/"
        },
        "id": "JPUNqeBiBRLv",
        "outputId": "825b4198-f75a-407c-eb63-fa89cc127791"
      },
      "execution_count": null,
      "outputs": [
        {
          "output_type": "execute_result",
          "data": {
            "text/plain": [
              "array([9, 1, 7, 4, 7, 2])"
            ]
          },
          "metadata": {},
          "execution_count": 58
        }
      ]
    },
    {
      "cell_type": "code",
      "source": [
        "# NumPy arrays have a fixed type\n",
        "# Inserting a floating-point value to an integer array will be silently truncated\n",
        "x1[0] = 3.1415\n",
        "x1\n"
      ],
      "metadata": {
        "colab": {
          "base_uri": "https://localhost:8080/"
        },
        "id": "EI_TkHCsBWCN",
        "outputId": "5b75baa9-a026-4261-a442-f59281827c02"
      },
      "execution_count": null,
      "outputs": [
        {
          "output_type": "execute_result",
          "data": {
            "text/plain": [
              "numpy.ndarray"
            ]
          },
          "metadata": {},
          "execution_count": 60
        }
      ]
    },
    {
      "cell_type": "code",
      "source": [
        "import numpy as np"
      ],
      "metadata": {
        "id": "ShrMpXsqBnmE"
      },
      "execution_count": null,
      "outputs": []
    },
    {
      "cell_type": "code",
      "source": [
        "# NumPy arange - array range\n",
        "x = np.arange(10)\n",
        "x"
      ],
      "metadata": {
        "colab": {
          "base_uri": "https://localhost:8080/"
        },
        "id": "JAc9IIbzgypa",
        "outputId": "48253374-1c9c-43a2-bb26-622322919b3a"
      },
      "execution_count": null,
      "outputs": [
        {
          "output_type": "execute_result",
          "data": {
            "text/plain": [
              "array([0, 1, 2, 3, 4, 5, 6, 7, 8, 9])"
            ]
          },
          "metadata": {},
          "execution_count": 3
        }
      ]
    },
    {
      "cell_type": "code",
      "source": [
        "# NumPy indexing\n",
        "x[4:7]\n",
        "print(x[4:7])\n",
        "\n",
        "# Every other element\n",
        "x[::4] #skiping by 4\n",
        "print(x[::4])\n",
        "\n",
        "# Every other element, starting at index 1\n",
        "x[1::2]\n",
        "print(x[1::2])\n",
        "\n",
        "# All elements, reversed\n",
        "x[::-2]\n",
        "print(x[::-2])\n",
        "\n",
        "# Reversed every other from index 5\n",
        "x[5::-2]\n",
        "print(x[5::-2])\n",
        "x[-5::-2]\n",
        "print(x[-5::-2])"
      ],
      "metadata": {
        "colab": {
          "base_uri": "https://localhost:8080/"
        },
        "id": "6thK3Yeeg7JF",
        "outputId": "c8d151a5-01d2-4e7c-ba87-b8903e65f1b2"
      },
      "execution_count": null,
      "outputs": [
        {
          "output_type": "stream",
          "name": "stdout",
          "text": [
            "[4 5 6]\n",
            "[0 4 8]\n",
            "[1 3 5 7 9]\n",
            "[9 7 5 3 1]\n",
            "[5 3 1]\n",
            "[5 3 1]\n"
          ]
        }
      ]
    },
    {
      "cell_type": "code",
      "source": [
        "# Exercise 15: Multi-dimensional subarrays\n",
        "\n",
        "# Multi-dimensional subarrays\n",
        "np.random.seed(1957)\n",
        "x2 = np.random.randint(10, size = (3,4)) #2D array\n",
        "print(x2)\n",
        "\n",
        "print(\"\\n\")\n",
        "\n",
        "print(x2[1:3])\n",
        "print(x2[1:3,1:3])\n",
        "\n",
        "print(\"\\n\")\n",
        "\n",
        "# 2D array indexing, skip of two\n",
        "print(x2[:3,::2])\n",
        "\n",
        "print(\"\\n\")\n",
        "\n",
        "# Everything reverse\n",
        "print(x2[:3,::-1])\n",
        "\n"
      ],
      "metadata": {
        "colab": {
          "base_uri": "https://localhost:8080/"
        },
        "id": "PFLAE66vhDfE",
        "outputId": "a5047b4e-7ef0-4c0a-febc-91aa3a96118e"
      },
      "execution_count": 38,
      "outputs": [
        {
          "output_type": "stream",
          "name": "stdout",
          "text": [
            "[[9 1 7 4]\n",
            " [7 2 0 4]\n",
            " [5 7 7 7]]\n",
            "\n",
            "\n",
            "[[7 2 0 4]\n",
            " [5 7 7 7]]\n",
            "[[2 0]\n",
            " [7 7]]\n",
            "\n",
            "\n",
            "[[9 7]\n",
            " [7 0]\n",
            " [5 7]]\n",
            "\n",
            "\n",
            "[[4 7 1 9]\n",
            " [4 0 2 7]\n",
            " [7 7 7 5]]\n"
          ]
        }
      ]
    },
    {
      "cell_type": "code",
      "source": [
        "#inverse\n",
        "print(x2)\n",
        "print(\"\\n\")\n",
        "print(x2[::-1,])\n",
        "print(\"\\n\")\n",
        "print(x2[::-1,::-1])\n",
        "\n",
        "#::-1 for Rows: The first ::-1 applies to the rows of the array. It reverses the order of the rows. In simple terms, it starts from the last row and ends at the first row, stepping backward.\n",
        "\n",
        "#::-1 for Columns: The second ::-1 applies to the columns. It reverses the order of the columns in each row, starting from the last column to the first, also stepping backward."
      ],
      "metadata": {
        "colab": {
          "base_uri": "https://localhost:8080/"
        },
        "id": "QjovPF50nEZy",
        "outputId": "66fbea9a-0132-4abd-e849-9255c90c46bd"
      },
      "execution_count": 39,
      "outputs": [
        {
          "output_type": "stream",
          "name": "stdout",
          "text": [
            "[[9 1 7 4]\n",
            " [7 2 0 4]\n",
            " [5 7 7 7]]\n",
            "\n",
            "\n",
            "[[5 7 7 7]\n",
            " [7 2 0 4]\n",
            " [9 1 7 4]]\n",
            "\n",
            "\n",
            "[[7 7 7 5]\n",
            " [4 0 2 7]\n",
            " [4 7 1 9]]\n"
          ]
        }
      ]
    },
    {
      "cell_type": "code",
      "source": [
        "#Accessing array rows and columns\n",
        "print(x2)\n",
        "print(\"\\n\")\n",
        "# first column of x2\n",
        "x2[:,:1]\n",
        "#x2[:3,:1]\n",
        "#x2[:3,0]"
      ],
      "metadata": {
        "colab": {
          "base_uri": "https://localhost:8080/"
        },
        "id": "XCw3JQ7PrpUF",
        "outputId": "59dca685-ecb6-4cae-da2e-8c1fde288bcf"
      },
      "execution_count": 40,
      "outputs": [
        {
          "output_type": "stream",
          "name": "stdout",
          "text": [
            "[[9 1 7 4]\n",
            " [7 2 0 4]\n",
            " [5 7 7 7]]\n",
            "\n",
            "\n"
          ]
        },
        {
          "output_type": "execute_result",
          "data": {
            "text/plain": [
              "array([[9],\n",
              "       [7],\n",
              "       [5]])"
            ]
          },
          "metadata": {},
          "execution_count": 40
        }
      ]
    },
    {
      "cell_type": "code",
      "source": [
        "# first row of x2\n",
        "print(x2)\n",
        "print(\"\\n\")\n",
        "\n",
        "print(x2[:1,]) #extract the data in 2D, the o/p will have double quotation\n",
        "print(x2[0])"
      ],
      "metadata": {
        "colab": {
          "base_uri": "https://localhost:8080/"
        },
        "id": "mtNl5wkYuSGb",
        "outputId": "8b0301d2-82a5-4160-d49c-7ce17a386ca6"
      },
      "execution_count": 41,
      "outputs": [
        {
          "output_type": "stream",
          "name": "stdout",
          "text": [
            "[[9 1 7 4]\n",
            " [7 2 0 4]\n",
            " [5 7 7 7]]\n",
            "\n",
            "\n",
            "[[9 1 7 4]]\n",
            "[9 1 7 4]\n"
          ]
        }
      ]
    },
    {
      "cell_type": "code",
      "source": [
        "from google.colab import drive\n",
        "drive.mount('/content/drive')"
      ],
      "metadata": {
        "colab": {
          "base_uri": "https://localhost:8080/"
        },
        "id": "rvINo8fcwRjb",
        "outputId": "5674656e-3ea3-4c04-eb05-34dc5c15130c"
      },
      "execution_count": 42,
      "outputs": [
        {
          "output_type": "stream",
          "name": "stdout",
          "text": [
            "Mounted at /content/drive\n"
          ]
        }
      ]
    },
    {
      "cell_type": "code",
      "source": [
        "#Subarrays as no-copy views\n",
        "print(x2)\n",
        "\n",
        "print(\"\\n\")\n",
        "\n",
        "#extract certain data\n",
        "x2_sub = x2[:2,:2]\n",
        "print(x2_sub)\n",
        "\n",
        "print(\"\\n\")\n",
        "\n"
      ],
      "metadata": {
        "colab": {
          "base_uri": "https://localhost:8080/"
        },
        "id": "O6PP5YhEyaOD",
        "outputId": "6b642540-000e-40be-8183-3191d6a458f4"
      },
      "execution_count": 43,
      "outputs": [
        {
          "output_type": "stream",
          "name": "stdout",
          "text": [
            "[[9 1 7 4]\n",
            " [7 2 0 4]\n",
            " [5 7 7 7]]\n",
            "\n",
            "\n",
            "[[9 1]\n",
            " [7 2]]\n",
            "\n",
            "\n"
          ]
        }
      ]
    },
    {
      "cell_type": "code",
      "source": [
        "#substitute 0 in x2_sub to value 99\n",
        "x2[1:2,2:3] = 99\n",
        "print(x2)"
      ],
      "metadata": {
        "colab": {
          "base_uri": "https://localhost:8080/"
        },
        "id": "MW_8LRuZycYn",
        "outputId": "a76d47fc-c501-43e0-b1c0-a114fedaf72b"
      },
      "execution_count": 44,
      "outputs": [
        {
          "output_type": "stream",
          "name": "stdout",
          "text": [
            "[[ 9  1  7  4]\n",
            " [ 7  2 99  4]\n",
            " [ 5  7  7  7]]\n"
          ]
        }
      ]
    },
    {
      "cell_type": "code",
      "source": [
        "#Creating copies of arrays\n",
        "## Explicitly copy the data within an array\n",
        "x2_sub_copy = x2[:2,:2].copy()\n",
        "print(x2_sub_copy)\n",
        "\n",
        "print(\"\\n\")\n",
        "\n",
        "#change the value 99 to 1957\n",
        "x2_sub_copy[0,0] = 1957\n",
        "print(x2_sub_copy)\n",
        "\n",
        "print(\"\\n\")\n",
        "# The original array stays intact!\n",
        "print(x2)"
      ],
      "metadata": {
        "colab": {
          "base_uri": "https://localhost:8080/"
        },
        "id": "729WB6En05w-",
        "outputId": "0ad823d7-1540-432f-a57d-71b9c326fdf2"
      },
      "execution_count": 45,
      "outputs": [
        {
          "output_type": "stream",
          "name": "stdout",
          "text": [
            "[[9 1]\n",
            " [7 2]]\n",
            "\n",
            "\n",
            "[[1957    1]\n",
            " [   7    2]]\n",
            "\n",
            "\n",
            "[[ 9  1  7  4]\n",
            " [ 7  2 99  4]\n",
            " [ 5  7  7  7]]\n"
          ]
        }
      ]
    },
    {
      "cell_type": "code",
      "source": [
        "# Reshaping of Arrays\n",
        "# NumPy arange\n",
        "x = np.arange(1,10)\n",
        "print(x)\n",
        "\n",
        "print(\"\\n\")\n",
        "\n",
        "# Put the numbers 1 through 9 in a 3×3 grid\n",
        "# reshape\n",
        "grid = np.arange(1,10).reshape(3,3)\n",
        "print(grid)"
      ],
      "metadata": {
        "colab": {
          "base_uri": "https://localhost:8080/"
        },
        "id": "zsPDBKO82ffZ",
        "outputId": "2c005808-bb22-400d-ae10-b4d99121d696"
      },
      "execution_count": 50,
      "outputs": [
        {
          "output_type": "stream",
          "name": "stdout",
          "text": [
            "[1 2 3 4 5 6 7 8 9]\n",
            "\n",
            "\n",
            "[[1 2 3]\n",
            " [4 5 6]\n",
            " [7 8 9]]\n"
          ]
        }
      ]
    },
    {
      "cell_type": "code",
      "source": [
        "# Create NumPy array\n",
        "x = np.array([1,2,3])\n",
        "print(x)\n",
        "\n",
        "print(\"\\n\")\n",
        "\n",
        "# Reshape to array of 1 x 3\n",
        "np.array([1,2,3]).reshape(3,1)"
      ],
      "metadata": {
        "colab": {
          "base_uri": "https://localhost:8080/"
        },
        "id": "xKMxbMwa2kId",
        "outputId": "3b15a866-e2b7-4773-9b69-0a3b6aa4928b"
      },
      "execution_count": 51,
      "outputs": [
        {
          "output_type": "stream",
          "name": "stdout",
          "text": [
            "[1 2 3]\n",
            "\n",
            "\n"
          ]
        },
        {
          "output_type": "execute_result",
          "data": {
            "text/plain": [
              "array([[1],\n",
              "       [2],\n",
              "       [3]])"
            ]
          },
          "metadata": {},
          "execution_count": 51
        }
      ]
    },
    {
      "cell_type": "code",
      "source": [
        "# newaxis - bumped 1D array to 2D array\n",
        "\n",
        "# From 1D array to 1x3 array on the row axis\n",
        "# np.newaxis is used to add a new axis to the array\n",
        "# In the context of a 1D array, it effectively converts it into a 2D row vector\n",
        "\n",
        "x[np.newaxis, :]\n",
        "print(\"\\n\")\n",
        "# 3 x 1 array\n",
        "x.reshape(3,1)\n",
        "\n",
        "# bumped to 2D array on the column axis\n",
        "# original is 1D array\n",
        "# becomes 3 x 1 array\n",
        "print(x)\n",
        "print('\\n--------------\\n')\n",
        "x[:, np.newaxis]"
      ],
      "metadata": {
        "colab": {
          "base_uri": "https://localhost:8080/"
        },
        "id": "fqe-WKlY3qtV",
        "outputId": "04b6ff82-cecf-40bd-f74b-6175dcf1c5d9"
      },
      "execution_count": 52,
      "outputs": [
        {
          "output_type": "stream",
          "name": "stdout",
          "text": [
            "\n",
            "\n",
            "[1 2 3]\n",
            "\n",
            "--------------\n",
            "\n"
          ]
        },
        {
          "output_type": "execute_result",
          "data": {
            "text/plain": [
              "array([[1],\n",
              "       [2],\n",
              "       [3]])"
            ]
          },
          "metadata": {},
          "execution_count": 52
        }
      ]
    },
    {
      "cell_type": "code",
      "source": [
        "# Array Concatenation and Splitting\n",
        "# Concatenation of 1D arrays\n",
        "# concatenate sambung\n",
        "# splitting pecah\n",
        "\n",
        "x = np.array([1,2,3])\n",
        "y = np.array([3,2,1])\n",
        "print(np.concatenate([x,y]))\n",
        "\n",
        "print('\\n--------------\\n')\n",
        "\n",
        "# Concatenate\n",
        "x = np.array([1,2,3])\n",
        "y = np.array([3,2,1])\n",
        "z = np.array([99,99,99])\n",
        "print(np.concatenate([x,y,z]))\n",
        "\n",
        "print('\\n--------------\\n')\n",
        "\n",
        "# Two-dimensional arrays\n",
        "# put in the variable named grid\n",
        "grid = np.array([[1,2,3],[4,5,6]])\n",
        "print(grid)\n",
        "\n",
        "print('\\n--------------\\n')\n",
        "\n",
        "# concatenate along the first axis\n",
        "np.concatenate([grid,grid])"
      ],
      "metadata": {
        "colab": {
          "base_uri": "https://localhost:8080/"
        },
        "id": "VH1hkyr84M3E",
        "outputId": "68cf98e1-5244-4089-9dfe-7788bcf4bf97"
      },
      "execution_count": 53,
      "outputs": [
        {
          "output_type": "stream",
          "name": "stdout",
          "text": [
            "[1 2 3 3 2 1]\n",
            "\n",
            "--------------\n",
            "\n",
            "[ 1  2  3  3  2  1 99 99 99]\n",
            "\n",
            "--------------\n",
            "\n",
            "[[1 2 3]\n",
            " [4 5 6]]\n",
            "\n",
            "--------------\n",
            "\n"
          ]
        },
        {
          "output_type": "execute_result",
          "data": {
            "text/plain": [
              "array([[1, 2, 3],\n",
              "       [4, 5, 6],\n",
              "       [1, 2, 3],\n",
              "       [4, 5, 6]])"
            ]
          },
          "metadata": {},
          "execution_count": 53
        }
      ]
    },
    {
      "cell_type": "code",
      "source": [
        "#! axis = 0 -> running vertically downwards across rows |\n",
        "#! axis = 1 -> running horizontally across columns ----"
      ],
      "metadata": {
        "id": "QJoKlYV-4qL7"
      },
      "execution_count": null,
      "outputs": []
    },
    {
      "cell_type": "code",
      "source": [
        "# Output grid\n",
        "print(grid)\n",
        "\n",
        "print(\"\\n\")\n",
        "\n",
        "# Concatenate along the axis\n",
        "# axis = 0 -> running vertically downwards across rows\n",
        "# axis = 1 -> running horizontally across columns\n",
        "#np.concatenate([grid,grid])\n",
        "np.concatenate([grid,grid], axis = 1)\n",
        "\n",
        "print(\"\\n\")\n",
        "\n",
        "# Vertically stack the arrays\n",
        "x = np.array([1,2,3])\n",
        "y = np.array([[9,8,7],\n",
        "             [6,5,4]])\n",
        "\n",
        "np.vstack([x,y])\n",
        "#vstack=stacking data vertically"
      ],
      "metadata": {
        "colab": {
          "base_uri": "https://localhost:8080/"
        },
        "id": "dZz8D2np5M6D",
        "outputId": "100c9bdf-1dd3-45e7-e26f-9a77c150db5a"
      },
      "execution_count": 54,
      "outputs": [
        {
          "output_type": "stream",
          "name": "stdout",
          "text": [
            "[[1 2 3]\n",
            " [4 5 6]]\n",
            "\n",
            "\n",
            "\n",
            "\n"
          ]
        },
        {
          "output_type": "execute_result",
          "data": {
            "text/plain": [
              "array([[1, 2, 3],\n",
              "       [9, 8, 7],\n",
              "       [6, 5, 4]])"
            ]
          },
          "metadata": {},
          "execution_count": 54
        }
      ]
    },
    {
      "cell_type": "code",
      "source": [
        "grid"
      ],
      "metadata": {
        "id": "nLKN2zyX5rE5",
        "colab": {
          "base_uri": "https://localhost:8080/"
        },
        "outputId": "79825c0b-14d9-478d-ee6d-7a51cd6a5159"
      },
      "execution_count": 55,
      "outputs": [
        {
          "output_type": "execute_result",
          "data": {
            "text/plain": [
              "array([[1, 2, 3],\n",
              "       [4, 5, 6]])"
            ]
          },
          "metadata": {},
          "execution_count": 55
        }
      ]
    },
    {
      "cell_type": "code",
      "source": [
        "#Splitting of arrays - opposite of concatenation\n",
        "# Passing a list of indices giving the split points\n",
        "x = [1,2,3,99,99,3,2,1]\n",
        "x1, x2, x3 = np.split(x, [3,5]) #0,1,2,\n",
        "print(x1,x2,x3)\n",
        "\n",
        "#Here's what happens in the split:\n",
        "\n",
        "#The first split happens before the index 3, so x1 will contain the elements from the start of x up to (but not including) the element at index 3. Therefore, x1 will be [1, 2, 3].\n",
        "#The second split happens before the index 5, so x2 will contain the elements from index 3 up to (but not including) the element at index 5. Therefore, x2 will be [99, 99].\n",
        "#Finally, x3 will contain the remaining elements of the array, which are [3, 2, 1]."
      ],
      "metadata": {
        "colab": {
          "base_uri": "https://localhost:8080/"
        },
        "id": "c576tvMYsSae",
        "outputId": "864403c5-7a21-4e3e-ed45-fc7dc8b3f924"
      },
      "execution_count": 58,
      "outputs": [
        {
          "output_type": "stream",
          "name": "stdout",
          "text": [
            "[1 2 3] [99 99] [3 2 1]\n"
          ]
        }
      ]
    },
    {
      "cell_type": "code",
      "source": [
        "# Create a 4 x 4 array\n",
        "# use np.arange() and reshape()\n",
        "grid = np.arange(16).reshape(4,4)\n",
        "grid"
      ],
      "metadata": {
        "colab": {
          "base_uri": "https://localhost:8080/"
        },
        "id": "34WPxFD9wrCD",
        "outputId": "0c9fd354-88e8-4da6-f6b7-b32cf56052dc"
      },
      "execution_count": 59,
      "outputs": [
        {
          "output_type": "execute_result",
          "data": {
            "text/plain": [
              "array([[ 0,  1,  2,  3],\n",
              "       [ 4,  5,  6,  7],\n",
              "       [ 8,  9, 10, 11],\n",
              "       [12, 13, 14, 15]])"
            ]
          },
          "metadata": {},
          "execution_count": 59
        }
      ]
    },
    {
      "cell_type": "code",
      "source": [
        "# Vertical split\n",
        "# use np.vsplit()\n",
        "upper, lower = np.vsplit(grid, [3]) # [3]refering to the row index\n",
        "print(upper)\n",
        "print(\"\\n---------------\\n\")\n",
        "print(lower)"
      ],
      "metadata": {
        "colab": {
          "base_uri": "https://localhost:8080/"
        },
        "id": "G4DRCqzqwvTi",
        "outputId": "1d65c701-b6ec-4ebe-faac-08b4003a30dd"
      },
      "execution_count": 60,
      "outputs": [
        {
          "output_type": "stream",
          "name": "stdout",
          "text": [
            "[[ 0  1  2  3]\n",
            " [ 4  5  6  7]\n",
            " [ 8  9 10 11]]\n",
            "\n",
            "---------------\n",
            "\n",
            "[[12 13 14 15]]\n"
          ]
        }
      ]
    },
    {
      "cell_type": "code",
      "source": [
        "print(grid)\n",
        "\n",
        "print(\"\\n\")\n",
        "\n",
        "# horizontal split\n",
        "left, right = np.hsplit(grid, [2])\n",
        "print(left)\n",
        "print(\"\\n---------------\\n\")\n",
        "print(right)"
      ],
      "metadata": {
        "colab": {
          "base_uri": "https://localhost:8080/"
        },
        "id": "8t2gR03qw3Ac",
        "outputId": "aadf2f81-5ea2-40eb-aca5-db892504857f"
      },
      "execution_count": 63,
      "outputs": [
        {
          "output_type": "stream",
          "name": "stdout",
          "text": [
            "[[ 0  1  2  3]\n",
            " [ 4  5  6  7]\n",
            " [ 8  9 10 11]\n",
            " [12 13 14 15]]\n",
            "\n",
            "\n",
            "[[ 0  1]\n",
            " [ 4  5]\n",
            " [ 8  9]\n",
            " [12 13]]\n",
            "\n",
            "---------------\n",
            "\n",
            "[[ 2  3]\n",
            " [ 6  7]\n",
            " [10 11]\n",
            " [14 15]]\n"
          ]
        }
      ]
    },
    {
      "cell_type": "code",
      "source": [
        "# TGK BALIK RECIPROCAL,Measure the execution time!!"
      ],
      "metadata": {
        "id": "kmXiQdiVxD1e"
      },
      "execution_count": null,
      "outputs": []
    },
    {
      "cell_type": "code",
      "source": [
        "# Element-wise division\n",
        "# must have the same range of data\n",
        "\n",
        "np.arange(5) / np.arange(1,6)\n",
        "print(np.arange(5))\n",
        "print(\"\\n-----------------------\\n\")\n",
        "print(np.arange(1,6))\n",
        "np.arange(5) / np.arange(1,6)\n",
        "print(\"\\n-----------------------\\n\")\n",
        "\n",
        "# Power of two\n",
        "x = np.arange(9).reshape(3,3)\n",
        "2 ** x"
      ],
      "metadata": {
        "colab": {
          "base_uri": "https://localhost:8080/"
        },
        "id": "T_7P_ZG3xbJP",
        "outputId": "15b20ccf-f662-4700-aeee-1e5b93b97b83"
      },
      "execution_count": 67,
      "outputs": [
        {
          "output_type": "stream",
          "name": "stdout",
          "text": [
            "[0 1 2 3 4]\n",
            "\n",
            "-----------------------\n",
            "\n",
            "[1 2 3 4 5]\n",
            "\n",
            "-----------------------\n",
            "\n"
          ]
        },
        {
          "output_type": "execute_result",
          "data": {
            "text/plain": [
              "array([[  1,   2,   4],\n",
              "       [  8,  16,  32],\n",
              "       [ 64, 128, 256]])"
            ]
          },
          "metadata": {},
          "execution_count": 67
        }
      ]
    },
    {
      "cell_type": "code",
      "source": [
        "# Array arithmetic\n",
        "# // floor division -> rounds down to the nearest whole number\n",
        "x = np.arange(4)\n",
        "print(\"x // 2 = \", x // 2)\n",
        "\n",
        "print(\"\\n-----------\\n\")\n",
        "# Array arithmetic\n",
        "# nilai bahagi\n",
        "x % 2\n",
        "\n",
        "# Array arithmetic\n",
        "print(x)\n",
        "print(\"\\n-----------\\n\")\n",
        "-(0.5 * x + 1)**2\n",
        "print(\"\\n\")\n",
        "\n",
        "# Array arithmetic\n",
        "print(x)\n",
        "print(\"\\n-----------\\n\")\n",
        "np.add(x,2)\n",
        "\n",
        "print(\"\\n\")\n",
        "# Absolute value\n",
        "x = np.array([-2,-1,0,1,2])\n",
        "np.abs(x)"
      ],
      "metadata": {
        "colab": {
          "base_uri": "https://localhost:8080/"
        },
        "id": "QQPMA_thx2ku",
        "outputId": "60812db8-e9f0-4362-c999-627ad85428e1"
      },
      "execution_count": 72,
      "outputs": [
        {
          "output_type": "stream",
          "name": "stdout",
          "text": [
            "x // 2 =  [0 0 1 1]\n",
            "\n",
            "-----------\n",
            "\n",
            "[0 1 2 3]\n",
            "\n",
            "-----------\n",
            "\n",
            "\n",
            "\n",
            "[0 1 2 3]\n",
            "\n",
            "-----------\n",
            "\n",
            "\n",
            "\n"
          ]
        },
        {
          "output_type": "execute_result",
          "data": {
            "text/plain": [
              "array([2, 1, 0, 1, 2])"
            ]
          },
          "metadata": {},
          "execution_count": 72
        }
      ]
    },
    {
      "cell_type": "code",
      "source": [
        "# tgk balik time it"
      ],
      "metadata": {
        "id": "h3Yea3HByJOe"
      },
      "execution_count": null,
      "outputs": []
    }
  ]
}